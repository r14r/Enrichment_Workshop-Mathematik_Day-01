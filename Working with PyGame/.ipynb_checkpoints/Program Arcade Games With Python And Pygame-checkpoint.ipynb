{
 "cells": [
  {
   "cell_type": "markdown",
   "metadata": {},
   "source": [
    "# [Program Arcade Games With Python And Pygame](http://programarcadegames.com/index.php?lang=de)"
   ]
  },
  {
   "cell_type": "code",
   "execution_count": 1,
   "metadata": {},
   "outputs": [
    {
     "name": "stdout",
     "output_type": "stream",
     "text": [
      "pygame 1.9.6\n",
      "Hello from the pygame community. https://www.pygame.org/contribute.html\n"
     ]
    }
   ],
   "source": [
    "\"\"\"\n",
    " Bounces a rectangle around the screen.\n",
    " \n",
    " Sample Python/Pygame Programs\n",
    " Simpson College Computer Science\n",
    " http://programarcadegames.com/\n",
    " http://simpson.edu/computer-science/\n",
    " \n",
    " Explanation video: http://youtu.be/-GmKoaX2iMs\n",
    "\"\"\"\n",
    " \n",
    "import pygame "
   ]
  },
  {
   "cell_type": "code",
   "execution_count": 2,
   "metadata": {},
   "outputs": [
    {
     "data": {
      "text/plain": [
       "(6, 0)"
      ]
     },
     "execution_count": 2,
     "metadata": {},
     "output_type": "execute_result"
    }
   ],
   "source": [
    "# Define some colors\n",
    "BLACK = (0, 0, 0)\n",
    "WHITE = (255, 255, 255)\n",
    "GREEN = (0, 255, 0)\n",
    "RED = (255, 0, 0)\n",
    " \n",
    "pygame.init()"
   ]
  },
  {
   "cell_type": "code",
   "execution_count": 3,
   "metadata": {},
   "outputs": [],
   "source": [
    "# Set the height and width of the screen\n",
    "size = [700, 500]\n",
    "screen = pygame.display.set_mode(size)\n",
    " \n",
    "pygame.display.set_caption(\"Bouncing Rectangle\")\n",
    " \n",
    "# Loop until the user clicks the close button.\n",
    "done = False\n",
    " \n",
    "# Used to manage how fast the screen updates\n",
    "clock = pygame.time.Clock()\n",
    " \n",
    "# Starting position of the rectangle\n",
    "rect_x = 50\n",
    "rect_y = 50\n",
    " \n",
    "# Speed and direction of rectangle\n",
    "rect_change_x = 2\n",
    "rect_change_y = 2\n",
    " \n",
    "# -------- Main Program Loop -----------\n",
    "while not done:\n",
    "    # --- Event Processing\n",
    "    for event in pygame.event.get():\n",
    "        if event.type == pygame.QUIT:\n",
    "            done = True\n",
    " \n",
    "    # --- Logic\n",
    "    # Move the rectangle starting point\n",
    "    rect_x += rect_change_x\n",
    "    rect_y += rect_change_y\n",
    " \n",
    "    # Bounce the ball if needed\n",
    "    if rect_y > 450 or rect_y < 0:\n",
    "        rect_change_y = rect_change_y * -1\n",
    "    if rect_x > 650 or rect_x < 0:\n",
    "        rect_change_x = rect_change_x * -1\n",
    " \n",
    "    # --- Drawing\n",
    "    # Set the screen background\n",
    "    screen.fill(BLACK)\n",
    " \n",
    "    # Draw the rectangle\n",
    "    pygame.draw.rect(screen, WHITE, [rect_x, rect_y, 50, 50])\n",
    "    pygame.draw.rect(screen, RED, [rect_x + 10, rect_y + 10, 30, 30])\n",
    " \n",
    "    # --- Wrap-up\n",
    "    # Limit to 60 frames per second\n",
    "    clock.tick(60)\n",
    " \n",
    "    # Go ahead and update the screen with what we've drawn.\n",
    "    pygame.display.flip()"
   ]
  },
  {
   "cell_type": "code",
   "execution_count": 4,
   "metadata": {},
   "outputs": [],
   "source": [
    "# Close everything down\n",
    "pygame.quit()"
   ]
  },
  {
   "cell_type": "code",
   "execution_count": null,
   "metadata": {},
   "outputs": [],
   "source": []
  }
 ],
 "metadata": {
  "kernelspec": {
   "display_name": "Python 3",
   "language": "python",
   "name": "python3"
  },
  "language_info": {
   "codemirror_mode": {
    "name": "ipython",
    "version": 3
   },
   "file_extension": ".py",
   "mimetype": "text/x-python",
   "name": "python",
   "nbconvert_exporter": "python",
   "pygments_lexer": "ipython3",
   "version": "3.7.6"
  }
 },
 "nbformat": 4,
 "nbformat_minor": 4
}
