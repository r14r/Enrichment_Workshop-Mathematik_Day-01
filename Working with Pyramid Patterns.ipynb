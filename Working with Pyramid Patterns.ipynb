{
 "cells": [
  {
   "cell_type": "markdown",
   "metadata": {},
   "source": [
    "# Pyramid Pattern Programm"
   ]
  },
  {
   "cell_type": "code",
   "execution_count": 18,
   "metadata": {},
   "outputs": [],
   "source": [
    "def pattern(n):\n",
    "      k = 2 * n - 2\n",
    "      for i in range(0,n):\n",
    "           for j in range(0,k):\n",
    "               print(end=\" \")\n",
    "           k = k - 1\n",
    "           for j in range(0, i+1):\n",
    "                print(\"*\", end=\" \")\n",
    "           print(\"\\r\")"
   ]
  },
  {
   "cell_type": "code",
   "execution_count": 19,
   "metadata": {},
   "outputs": [
    {
     "name": "stdout",
     "output_type": "stream",
     "text": [
      "        * \r\n",
      "       * * \r\n",
      "      * * * \r\n",
      "     * * * * \r\n",
      "    * * * * * \r\n"
     ]
    }
   ],
   "source": [
    "pattern(5)"
   ]
  },
  {
   "cell_type": "markdown",
   "metadata": {},
   "source": [
    "## Reverse Pyramid Pattern Program"
   ]
  },
  {
   "cell_type": "code",
   "execution_count": 20,
   "metadata": {},
   "outputs": [
    {
     "name": "stdout",
     "output_type": "stream",
     "text": [
      "        * * * * * * \r\n",
      "         * * * * * \r\n",
      "          * * * * \r\n",
      "           * * * \r\n",
      "            * * \r\n",
      "             * \r\n"
     ]
    }
   ],
   "source": [
    "def pattern(n):\n",
    "      k = 2*n -2\n",
    "      for i in range(n,-1,-1):\n",
    "           for j in range(k,0,-1):\n",
    "                print(end=\" \")\n",
    "           k = k +1\n",
    "           for j in range(0, i+1):\n",
    "                print(\"*\", end=\" \")\n",
    "           print(\"\\r\")\n",
    "pattern(5)"
   ]
  },
  {
   "cell_type": "markdown",
   "metadata": {},
   "source": [
    "## Right Start Pattern Program"
   ]
  },
  {
   "cell_type": "code",
   "execution_count": 33,
   "metadata": {},
   "outputs": [
    {
     "name": "stdout",
     "output_type": "stream",
     "text": [
      "* \r\n",
      "* * \r\n",
      "* * * \r\n",
      "* * * * \r\n",
      "* * * * * \r\n",
      "* * * * * * \r\n",
      "* * * * * \r\n",
      "* * * * \r\n",
      "* * * \r\n",
      "* * \r\n"
     ]
    }
   ],
   "source": [
    "def pattern(n):\n",
    "      for i in range(0, n):\n",
    "           for j in range(0, i + 1):\n",
    "                print(\"* \", end=\"\")\n",
    "           print(\"\\r\")\n",
    "      for i in range(n, 0 , -1):\n",
    "          for j in range(0, i + 1):\n",
    "               print(\"* \", end=\"\")\n",
    "          print(\"\\r\")\n",
    " \n",
    "pattern(5)"
   ]
  },
  {
   "cell_type": "markdown",
   "metadata": {},
   "source": [
    "## Left Start Pattern Program"
   ]
  },
  {
   "cell_type": "code",
   "execution_count": 36,
   "metadata": {},
   "outputs": [
    {
     "name": "stdout",
     "output_type": "stream",
     "text": [
      "        * \r\n",
      "      * * \r\n",
      "    * * * \r\n",
      "  * * * * \r\n",
      "* * * * * \r\n",
      "  * * * * \r\n",
      "    * * * \r\n",
      "      * * \r\n",
      "        * \r\n"
     ]
    }
   ],
   "source": [
    "def pattern(n):\n",
    "    k = 2 * n - 2\n",
    "    for i in range(0, n-1):\n",
    "        for j in range(0, k):\n",
    "            print(end=\" \")\n",
    "        k = k - 2\n",
    "        for j in range(0, i + 1):\n",
    "            print(\"* \", end=\"\")\n",
    "        print(\"\\r\")\n",
    "    k = -1\n",
    "    for i in range(n-1,-1,-1):\n",
    "        for j in range(k,-1,-1):\n",
    "            print(end=\" \")\n",
    "        k = k + 2\n",
    "        for j in range(0, i + 1):\n",
    "            print(\"* \", end=\"\")\n",
    "        print(\"\\r\")\n",
    " \n",
    " \n",
    "pattern(5)"
   ]
  },
  {
   "cell_type": "markdown",
   "metadata": {},
   "source": [
    "## Hourglass Pattern Program"
   ]
  },
  {
   "cell_type": "code",
   "execution_count": 40,
   "metadata": {},
   "outputs": [
    {
     "name": "stdout",
     "output_type": "stream",
     "text": [
      "   * * * * * * \r\n",
      "    * * * * * \r\n",
      "     * * * * \r\n",
      "      * * * \r\n",
      "       * * \r\n",
      "        * \r\n",
      "* \r\n",
      "* * \r\n",
      "* * * \r\n",
      "* * * * \r\n",
      "* * * * * \r\n",
      "* * * * * * \r\n"
     ]
    }
   ],
   "source": [
    "def pattern(n):\n",
    "    k = n - 2\n",
    "    for i in range(n, -1 , -1):\n",
    "        for j in range(k , 0 , -1):\n",
    "            print(end=\" \")\n",
    "        k = k + 1    \n",
    "      \n",
    "        for j in range(0, i+1):\n",
    "            print(\"* \" , end=\"\")\n",
    "    \n",
    "        print(\"\\r\")\n",
    "\n",
    "    k = 2 * n  - 2\n",
    "    \n",
    "    for i in range(0 , n+1):\n",
    "        for j in range(0 , k):\n",
    "            print(end=\"\")\n",
    "        \n",
    "        k = k - 1\n",
    "\n",
    "        for j in range(0, i + 1):\n",
    "             print(\"* \", end=\"\")\n",
    "        print(\"\\r\")\n",
    " \n",
    "pattern(5)"
   ]
  },
  {
   "cell_type": "markdown",
   "metadata": {},
   "source": [
    "## Half-Pyramid Pattern Program"
   ]
  },
  {
   "cell_type": "code",
   "execution_count": 42,
   "metadata": {},
   "outputs": [
    {
     "name": "stdout",
     "output_type": "stream",
     "text": [
      "* \r\n",
      "* * \r\n",
      "* * * \r\n",
      "* * * * \r\n",
      "* * * * * \r\n"
     ]
    }
   ],
   "source": [
    "def pattern(n):\n",
    "    for i in range(0,n):\n",
    "        for j in range(0, i+1):\n",
    "            print(\"* \" , end=\"\")\n",
    "        print(\"\\r\")\n",
    " \n",
    "pattern(5)"
   ]
  },
  {
   "cell_type": "markdown",
   "metadata": {},
   "source": [
    "## Left Half-Pyramid Pattern Program"
   ]
  },
  {
   "cell_type": "code",
   "execution_count": 46,
   "metadata": {},
   "outputs": [
    {
     "name": "stdout",
     "output_type": "stream",
     "text": [
      "        * \r\n",
      "      * * \r\n",
      "    * * * \r\n",
      "  * * * * \r\n",
      "* * * * * \r\n"
     ]
    }
   ],
   "source": [
    "def pattern(n):\n",
    "     k = 2 * n - 2\n",
    "     for i in range(0, n):\n",
    "          for j in range(0, k):\n",
    "               print(end=\" \")\n",
    "          k = k - 2\n",
    "          for j in range(0, i + 1):\n",
    "              print(\"* \", end=\"\")\n",
    "          print(\"\\r\")\n",
    "  \n",
    "pattern(5)"
   ]
  },
  {
   "cell_type": "markdown",
   "metadata": {},
   "source": [
    "## Downward Half-Pyramid Pattern Program"
   ]
  },
  {
   "cell_type": "code",
   "execution_count": 48,
   "metadata": {},
   "outputs": [
    {
     "name": "stdout",
     "output_type": "stream",
     "text": [
      "* * * * * * \r\n",
      "* * * * * \r\n",
      "* * * * \r\n",
      "* * * \r\n",
      "* * \r\n",
      "* \r\n"
     ]
    }
   ],
   "source": [
    "def pattern(n):\n",
    "      for i in range(n, -1, -1):\n",
    "           for j in range(0, i + 1):\n",
    "               print(\"* \", end=\"\")\n",
    "           print(\"\\r\")\n",
    " \n",
    "pattern(5)"
   ]
  },
  {
   "cell_type": "markdown",
   "metadata": {},
   "source": [
    "## Diamond Shaped Pattern Program"
   ]
  },
  {
   "cell_type": "code",
   "execution_count": 53,
   "metadata": {},
   "outputs": [
    {
     "name": "stdout",
     "output_type": "stream",
     "text": [
      "        * \r\n",
      "       * * \r\n",
      "      * * * \r\n",
      "     * * * * \r\n",
      "    * * * * * \r\n",
      "   * * * * * * \r\n",
      "    * * * * * \r\n",
      "     * * * * \r\n",
      "      * * * \r\n",
      "       * * \r\n",
      "        * \r\n"
     ]
    }
   ],
   "source": [
    "def pattern(n):\n",
    "    k = 2 * n - 2\n",
    "    for i in range(0, n):\n",
    "        for j in range(0 , k):\n",
    "            print(end=\" \")\n",
    "        k = k - 1\n",
    "        for j in range(0 , i + 1 ):\n",
    "            print(\"* \", end=\"\")\n",
    "        print(\"\\r\")\n",
    "    k = n - 2\n",
    "    for i in range(n , -1, -1):\n",
    "        for j in range(k , 0 , -1): \n",
    "            print(end=\" \")\n",
    "        k = k + 1\n",
    "        for j in range(0 , i + 1):\n",
    "            print(\"* \", end=\"\")\n",
    "        print(\"\\r\")\n",
    " \n",
    "pattern(5)"
   ]
  },
  {
   "cell_type": "markdown",
   "metadata": {},
   "source": [
    "## Diamond Star Pattern Program"
   ]
  },
  {
   "cell_type": "code",
   "execution_count": null,
   "metadata": {},
   "outputs": [],
   "source": [
    "for i in range(5):\n",
    "    for j in range(5):\n",
    "        if i + j == 2 or i - j == 2 or i + j == 6 or j - i == 2:\n",
    "            print(\"*\", end=\"\")\n",
    "        else:\n",
    "            print(end=\" \")\n",
    "    print()\n",
    "pattern(19)"
   ]
  },
  {
   "cell_type": "markdown",
   "metadata": {},
   "source": [
    "# Number Pattern Programs"
   ]
  },
  {
   "cell_type": "markdown",
   "metadata": {},
   "source": [
    "## Simple Numbers Program"
   ]
  },
  {
   "cell_type": "code",
   "execution_count": null,
   "metadata": {},
   "outputs": [],
   "source": [
    "def pattern(n):\n",
    "    x = 0\n",
    "    for i in range(0 , n):\n",
    "        x += 1 \n",
    "        for j in range(0, i + 1):\n",
    "            print(x , end=\" \") \n",
    "        print(\"\\r\") \n",
    "pattern(5)"
   ]
  },
  {
   "cell_type": "markdown",
   "metadata": {},
   "source": [
    "## Pascal’s Triangle Program"
   ]
  },
  {
   "cell_type": "code",
   "execution_count": 109,
   "metadata": {},
   "outputs": [],
   "source": [
    "def p(n, k):\n",
    "    res = 1\n",
    "    \n",
    "    if (k > n - k):\n",
    "        k = n - k\n",
    "    for i in range(0, k):        \n",
    "        res = res * (n - i)\n",
    "        res = res // (i + 1)\n",
    "        \n",
    "    return res"
   ]
  },
  {
   "cell_type": "code",
   "execution_count": 115,
   "metadata": {},
   "outputs": [
    {
     "name": "stdout",
     "output_type": "stream",
     "text": [
      "                                                1                                                         1\n",
      "                                             1     1                                                      2\n",
      "                                          1     2     1                                                   4\n",
      "                                       1     3     3     1                                                8\n",
      "                                    1     4     6     4     1                                            16\n",
      "                                 1     5    10    10     5     1                                         32\n",
      "                              1     6    15    20    15     6     1                                      64\n",
      "                           1     7    21    35    35    21     7     1                                  128\n",
      "                        1     8    28    56    70    56    28     8     1                               256\n",
      "                     1     9    36    84   126   126    84    36     9     1                            512\n",
      "                  1    10    45   120   210   252   210   120    45    10     1                        1024\n",
      "               1    11    55   165   330   462   462   330   165    55    11     1                     2048\n",
      "            1    12    66   220   495   792   924   792   495   220    66    12     1                  4096\n",
      "         1    13    78   286   715  1287  1716  1716  1287   715   286    78    13     1               8192\n",
      "      1    14    91   364  1001  2002  3003  3432  3003  2002  1001   364    91    14     1           16384\n"
     ]
    }
   ],
   "source": [
    "def pascal(n):\n",
    "    for i in range(0, n):\n",
    "        prefix = (n-i)\n",
    "        \n",
    "        print(\"   \" *  prefix, end=\"\")\n",
    "        \n",
    "        res = 0\n",
    "        for j in range(0, i + 1):\n",
    "            val = p(i,j)\n",
    "            \n",
    "            res = res + val\n",
    "            # res += val*val\n",
    "            print(\"%4d  \" % val, end=\"\")\n",
    "            \n",
    "        print(\"   \" *  prefix, end=\"\")\n",
    "        print(f\" {res:-10}\")\n",
    " \n",
    " \n",
    "pascal(15)"
   ]
  },
  {
   "cell_type": "markdown",
   "metadata": {},
   "source": [
    "## Half-Pyramid Pattern With Numbers"
   ]
  },
  {
   "cell_type": "code",
   "execution_count": 58,
   "metadata": {},
   "outputs": [
    {
     "name": "stdout",
     "output_type": "stream",
     "text": [
      "  1  \r\n",
      "  1    2  \r\n",
      "  1    2    3  \r\n",
      "  1    2    3    4  \r\n",
      "  1    2    3    4    5  \r\n",
      "  1    2    3    4    5    6  \r\n",
      "  1    2    3    4    5    6    7  \r\n",
      "  1    2    3    4    5    6    7    8  \r\n",
      "  1    2    3    4    5    6    7    8    9  \r\n",
      "  1    2    3    4    5    6    7    8    9   10  \r\n",
      "  1    2    3    4    5    6    7    8    9   10   11  \r\n",
      "  1    2    3    4    5    6    7    8    9   10   11   12  \r\n",
      "  1    2    3    4    5    6    7    8    9   10   11   12   13  \r\n",
      "  1    2    3    4    5    6    7    8    9   10   11   12   13   14  \r\n"
     ]
    }
   ],
   "source": [
    "def pattern(n):\n",
    "    for i in range(1, n):\n",
    "        for j in range(1, i + 1):\n",
    "            print(\"%3d \" % j, end= \" \")\n",
    "        print(\"\\r\")\n",
    "        \n",
    "pattern(15)"
   ]
  },
  {
   "cell_type": "markdown",
   "metadata": {},
   "source": [
    "## Diamond Pattern With Numbers"
   ]
  },
  {
   "cell_type": "code",
   "execution_count": 25,
   "metadata": {},
   "outputs": [
    {
     "name": "stdout",
     "output_type": "stream",
     "text": [
      "        1 \r\n",
      "       2 2 \r\n",
      "      3 3 3 \r\n",
      "     4 4 4 4 \r\n",
      "    5 5 5 5 5 \r\n",
      "   6 6 6 6 6 6 \r\n",
      "    5 5 5 5 5 \r\n",
      "     4 4 4 4 \r\n",
      "      3 3 3 \r\n",
      "       2 2 \r\n",
      "        1 \r\n"
     ]
    }
   ],
   "source": [
    "def pattern(n):\n",
    "    k = 2 * n - 2\n",
    "    x = 0\n",
    "    for i in range(0, n):\n",
    "        x += 1\n",
    "        for j in range(0, k):\n",
    "            print(end=\" \")\n",
    "        k = k - 1\n",
    "        for j in range(0, i + 1):\n",
    "            print(x, end=\" \")\n",
    "        print(\"\\r\")\n",
    "    k = n - 2\n",
    "    x = n + 2\n",
    "    for i in range(n, -1, -1):\n",
    "        x -= 1\n",
    "        for j in range(k, 0, -1):\n",
    "            print(end=\" \")\n",
    "        k = k + 1\n",
    "        for j in range(0, i + 1):\n",
    "            print(x, end=\" \")\n",
    "        print(\"\\r\")\n",
    " \n",
    "pattern(5)"
   ]
  },
  {
   "cell_type": "markdown",
   "metadata": {},
   "source": [
    "## Descending Order Pattern Program"
   ]
  },
  {
   "cell_type": "code",
   "execution_count": 26,
   "metadata": {},
   "outputs": [
    {
     "name": "stdout",
     "output_type": "stream",
     "text": [
      "1 2 3 4 5 \r\n",
      "1 2 3 4 \r\n",
      "1 2 3 \r\n",
      "1 2 \r\n",
      "1 \r\n"
     ]
    }
   ],
   "source": [
    "def pattern(n):\n",
    "    for i in range(n, 0, -1):\n",
    "        for j in range(1, i + 1):\n",
    "            print(j, end=\" \")\n",
    " \n",
    "        print(\"\\r\")\n",
    " \n",
    "pattern(5)"
   ]
  },
  {
   "cell_type": "markdown",
   "metadata": {},
   "source": [
    "## Binary Numbers Pattern Program"
   ]
  },
  {
   "cell_type": "code",
   "execution_count": 1,
   "metadata": {},
   "outputs": [
    {
     "name": "stdout",
     "output_type": "stream",
     "text": [
      "        10\r\n",
      "       1010\r\n",
      "      101010\r\n",
      "     10101010\r\n",
      "    1010101010\r\n"
     ]
    }
   ],
   "source": [
    "def pattern(n):\n",
    "    k = 2 * n - 2\n",
    "    for i in range(0, n):\n",
    "        for j in range(0, k):\n",
    "            print(end=\" \")\n",
    "        k = k - 1\n",
    "        for j in range(0, i + 1):\n",
    "            print('10', end=\"\")\n",
    " \n",
    "        print(\"\\r\")\n",
    " \n",
    "pattern(5)"
   ]
  },
  {
   "cell_type": "code",
   "execution_count": 18,
   "metadata": {},
   "outputs": [
    {
     "name": "stdout",
     "output_type": "stream",
     "text": [
      "                  1 * 1                   = 1\n",
      "                 11 * 11                  = 121\n",
      "                111 * 111                 = 12321\n",
      "               1111 * 1111                = 1234321\n",
      "              11111 * 11111               = 123454321\n",
      "             111111 * 111111              = 12345654321\n",
      "            1111111 * 1111111             = 1234567654321\n",
      "           11111111 * 11111111            = 123456787654321\n",
      "          111111111 * 111111111           = 12345678987654321\n",
      "         1111111111 * 1111111111          = 1234567900987654321\n"
     ]
    }
   ],
   "source": [
    "def pattern(n):\n",
    "    k = 2 * n - 2\n",
    "    \n",
    "    for i in range(0, n):\n",
    "        spaces = \" \" * (k - i)\n",
    "        \n",
    "        val=\"\"\n",
    "        for j in range(0, i + 1):\n",
    "            val += \"1\"\n",
    "\n",
    "        print(f\"{spaces}{val} * {val}{spaces} = {int(val) * int(val)}\")\n",
    " \n",
    "pattern(10)"
   ]
  },
  {
   "cell_type": "markdown",
   "metadata": {},
   "source": [
    "# Characters Pattern Programs"
   ]
  },
  {
   "cell_type": "markdown",
   "metadata": {},
   "source": [
    "## Right Alphabetical Triangle"
   ]
  },
  {
   "cell_type": "code",
   "execution_count": 28,
   "metadata": {},
   "outputs": [
    {
     "name": "stdout",
     "output_type": "stream",
     "text": [
      "A \r\n",
      "B B \r\n",
      "C C C \r\n",
      "D D D D \r\n",
      "E E E E E \r\n"
     ]
    }
   ],
   "source": [
    "def pattern(n):\n",
    "    x = 65\n",
    "    for i in range(0, n):\n",
    "        ch = chr(x)\n",
    "        x += 1\n",
    "        for j in range(0, i + 1):\n",
    "            print(ch, end=\" \")\n",
    "        print(\"\\r\")\n",
    " \n",
    "pattern(5)"
   ]
  },
  {
   "cell_type": "markdown",
   "metadata": {},
   "source": [
    "## Character Pattern Program"
   ]
  },
  {
   "cell_type": "code",
   "execution_count": 29,
   "metadata": {},
   "outputs": [
    {
     "name": "stdout",
     "output_type": "stream",
     "text": [
      "            A \n",
      "           B C \n",
      "          D E F \n",
      "         G H I J \n",
      "        K L M N O \n",
      "       P Q R S T U \n",
      "      V W X Y Z [ \\ \n"
     ]
    }
   ],
   "source": [
    "def pattern(n):\n",
    "    k = 2 * n - 2\n",
    "    x = 65\n",
    "    for i in range(0, n):\n",
    "        for j in range(0, k):\n",
    "            print(end=\" \")\n",
    "        k = k - 1\n",
    "        for j in range(0, i + 1):\n",
    "            ch = chr(x)\n",
    "            print(ch, end=\" \")\n",
    "            x += 1\n",
    "        print(\"\\r\")\n",
    " \n",
    " \n",
    "pattern(7)"
   ]
  },
  {
   "cell_type": "markdown",
   "metadata": {},
   "source": [
    "## K Shape Character Program"
   ]
  },
  {
   "cell_type": "code",
   "execution_count": 30,
   "metadata": {},
   "outputs": [
    {
     "name": "stdout",
     "output_type": "stream",
     "text": [
      "*  *   \n",
      "* *    \n",
      "**     \n",
      "*      \n",
      "**     \n",
      "* *    \n",
      "*  *   \n",
      "                  A \n",
      "                 B C \n",
      "                D E F \n",
      "               G H I J \n",
      "              K L M N O \n",
      "             P Q R S T U \n",
      "            V W X Y Z [ \\ \n",
      "           ] ^ _ ` a b c d \n",
      "          e f g h i j k l m \n",
      "         n o p q r s t u v w \n"
     ]
    }
   ],
   "source": [
    "for i in range(7):\n",
    "    for j in range(7):\n",
    "        if j == 0 or i - j == 3 or i + j == 3:\n",
    "            print(\"*\", end=\"\")\n",
    "        else:\n",
    "            print(end=\" \")\n",
    "    print()\n",
    "\n",
    "pattern(10)"
   ]
  },
  {
   "cell_type": "markdown",
   "metadata": {},
   "source": [
    "## Triangle Character Pattern Program"
   ]
  },
  {
   "cell_type": "code",
   "execution_count": 31,
   "metadata": {},
   "outputs": [
    {
     "name": "stdout",
     "output_type": "stream",
     "text": [
      "                  A \n",
      "                 B B \n",
      "                C C C \n",
      "               D D D D \n",
      "              E E E E E \n",
      "             F F F F F F \n",
      "            G G G G G G G \n",
      "           H H H H H H H H \n",
      "          I I I I I I I I I \n",
      "         J J J J J J J J J J \n"
     ]
    }
   ],
   "source": [
    "def pattern(n):\n",
    "    k = 2 * n - 2\n",
    "    x = 65\n",
    "    for i in range(0, n):\n",
    "        ch = chr(x)\n",
    "        x += 1\n",
    "        for j in range(0, k):\n",
    "            print(end=\" \")\n",
    "        k = k - 1\n",
    "        for j in range(0, i + 1):\n",
    "            print(ch, end=\" \")\n",
    "        print(\"\\r\")\n",
    "        \n",
    "pattern(10)"
   ]
  }
 ],
 "metadata": {
  "kernelspec": {
   "display_name": "Python 3",
   "language": "python",
   "name": "python3"
  },
  "language_info": {
   "codemirror_mode": {
    "name": "ipython",
    "version": 3
   },
   "file_extension": ".py",
   "mimetype": "text/x-python",
   "name": "python",
   "nbconvert_exporter": "python",
   "pygments_lexer": "ipython3",
   "version": "3.7.6"
  }
 },
 "nbformat": 4,
 "nbformat_minor": 4
}
