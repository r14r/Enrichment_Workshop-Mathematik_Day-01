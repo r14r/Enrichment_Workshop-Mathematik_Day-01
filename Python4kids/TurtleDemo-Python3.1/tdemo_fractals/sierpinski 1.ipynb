{
 "cells": [
  {
   "cell_type": "code",
   "execution_count": null,
   "metadata": {},
   "outputs": [],
   "source": [
    "\"\"\"       turtle-example-suite:\n",
    "\n",
    "          tdemo_sierpinski1.py\n",
    "\n",
    "This program draws a coloured sierpinski\n",
    "triangle.\n",
    "\n",
    "Each vertex of the triangle is associated\n",
    "with a color - in the case of this example\n",
    "red, green and blue. The colors of the\n",
    "triangular cells of the Sierpinski triangle\n",
    "are computed by interpolation.\n",
    "\n",
    "This interpolation uses a 3-vector class\n",
    "similar to the 2-vector class, which is part\n",
    "of the turtle graphics module.\n",
    "\"\"\""
   ]
  },
  {
   "cell_type": "code",
   "execution_count": 13,
   "metadata": {},
   "outputs": [],
   "source": [
    "from turtle import *\n",
    "from time import clock"
   ]
  },
  {
   "cell_type": "code",
   "execution_count": 14,
   "metadata": {},
   "outputs": [],
   "source": [
    "class Vec3(tuple):\n",
    "\n",
    "    def __new__(cls, x, y, z):\n",
    "        return tuple.__new__(cls, (x, y, z))\n",
    "    \n",
    "    def __add__(self, other):\n",
    "        return Vec3(self[0]+other[0], self[1]+other[1], self[2]+other[2])\n",
    "    \n",
    "    def __truediv__(self, other):\n",
    "        other = float(other)\n",
    "        return Vec3(self[0]/other, self[1]/other, self[2]/other)"
   ]
  },
  {
   "cell_type": "code",
   "execution_count": 20,
   "metadata": {},
   "outputs": [],
   "source": [
    "def triangle(laenge, stufe, f1, f2, f3):  # f1, f2, f3 colors of the vertices\n",
    "    print(\"triangle\", laenge, stuefe)\n",
    "    \n",
    "    if stufe == 0:\n",
    "        color((f1+f2+f3)/3)\n",
    "        begin_fill()\n",
    "        \n",
    "        for i in range(3):\n",
    "            fd(laenge)\n",
    "            lt(120)\n",
    "        \n",
    "        end_fill()\n",
    "    else:\n",
    "        c12 = (f1+f2)/2\n",
    "        c13 = (f1+f3)/2\n",
    "        c23 = (f2+f3)/2\n",
    "        \n",
    "        triangle(laenge / 2, stufe - 1, f1, c12, c13)\n",
    "        fd(laenge)\n",
    "        lt(120)\n",
    "        \n",
    "        triangle(laenge / 2, stufe - 1, f2, c23, c12)\n",
    "        fd(laenge)\n",
    "        lt(120)\n",
    "        \n",
    "        triangle(laenge / 2, stufe - 1, f3, c13, c23)\n",
    "        fd(laenge)\n",
    "        lt(120)"
   ]
  },
  {
   "cell_type": "code",
   "execution_count": 21,
   "metadata": {},
   "outputs": [],
   "source": [
    "def main():\n",
    "    setup(720, 720)\n",
    "    reset()\n",
    "    setundobuffer(1)\n",
    "    sierp_size = 600\n",
    "    \n",
    "    colormode(255)\n",
    "    speed(0)\n",
    "    ht()\n",
    "    pu()\n",
    "    \n",
    "    bk(sierp_size*0.5)\n",
    "    lt(90)\n",
    "    \n",
    "    bk(sierp_size*0.4)\n",
    "    rt(90)\n",
    "    \n",
    "    tracer(1,0)\n",
    "    \n",
    "    ta = clock()\n",
    "    triangle(sierp_size, 6, Vec3(255.0,0,0), Vec3(0,255.0,0), Vec3(0,0,255.0))\n",
    "    tb = clock()\n",
    "    \n",
    "    return \"{0:.2f} sec.\".format(tb-ta)"
   ]
  },
  {
   "cell_type": "code",
   "execution_count": 22,
   "metadata": {},
   "outputs": [
    {
     "ename": "Terminator",
     "evalue": "",
     "output_type": "error",
     "traceback": [
      "\u001b[1;31m---------------------------------------------------------------------------\u001b[0m",
      "\u001b[1;31mTerminator\u001b[0m                                Traceback (most recent call last)",
      "\u001b[1;32m<ipython-input-22-676a08c5967b>\u001b[0m in \u001b[0;36m<module>\u001b[1;34m\u001b[0m\n\u001b[1;32m----> 1\u001b[1;33m \u001b[0mmsg\u001b[0m \u001b[1;33m=\u001b[0m \u001b[0mmain\u001b[0m\u001b[1;33m(\u001b[0m\u001b[1;33m)\u001b[0m\u001b[1;33m\u001b[0m\u001b[1;33m\u001b[0m\u001b[0m\n\u001b[0m",
      "\u001b[1;32m<ipython-input-21-24f8add0066e>\u001b[0m in \u001b[0;36mmain\u001b[1;34m()\u001b[0m\n\u001b[0;32m      1\u001b[0m \u001b[1;32mdef\u001b[0m \u001b[0mmain\u001b[0m\u001b[1;33m(\u001b[0m\u001b[1;33m)\u001b[0m\u001b[1;33m:\u001b[0m\u001b[1;33m\u001b[0m\u001b[1;33m\u001b[0m\u001b[0m\n\u001b[1;32m----> 2\u001b[1;33m     \u001b[0msetup\u001b[0m\u001b[1;33m(\u001b[0m\u001b[1;36m720\u001b[0m\u001b[1;33m,\u001b[0m \u001b[1;36m720\u001b[0m\u001b[1;33m)\u001b[0m\u001b[1;33m\u001b[0m\u001b[1;33m\u001b[0m\u001b[0m\n\u001b[0m\u001b[0;32m      3\u001b[0m     \u001b[0mreset\u001b[0m\u001b[1;33m(\u001b[0m\u001b[1;33m)\u001b[0m\u001b[1;33m\u001b[0m\u001b[1;33m\u001b[0m\u001b[0m\n\u001b[0;32m      4\u001b[0m     \u001b[0msetundobuffer\u001b[0m\u001b[1;33m(\u001b[0m\u001b[1;36m1\u001b[0m\u001b[1;33m)\u001b[0m\u001b[1;33m\u001b[0m\u001b[1;33m\u001b[0m\u001b[0m\n\u001b[0;32m      5\u001b[0m     \u001b[0msierp_size\u001b[0m \u001b[1;33m=\u001b[0m \u001b[1;36m600\u001b[0m\u001b[1;33m\u001b[0m\u001b[1;33m\u001b[0m\u001b[0m\n",
      "\u001b[1;32mD:\\DevApps\\Anaconda3\\2020.02\\lib\\turtle.py\u001b[0m in \u001b[0;36msetup\u001b[1;34m(width, height, startx, starty)\u001b[0m\n",
      "\u001b[1;31mTerminator\u001b[0m: "
     ]
    }
   ],
   "source": [
    "msg = main()"
   ]
  },
  {
   "cell_type": "code",
   "execution_count": null,
   "metadata": {},
   "outputs": [],
   "source": [
    "print(msg)"
   ]
  },
  {
   "cell_type": "code",
   "execution_count": 19,
   "metadata": {},
   "outputs": [],
   "source": [
    "mainloop()"
   ]
  },
  {
   "cell_type": "code",
   "execution_count": null,
   "metadata": {},
   "outputs": [],
   "source": []
  }
 ],
 "metadata": {
  "kernelspec": {
   "display_name": "Python 3",
   "language": "python",
   "name": "python3"
  },
  "language_info": {
   "codemirror_mode": {
    "name": "ipython",
    "version": 3
   },
   "file_extension": ".py",
   "mimetype": "text/x-python",
   "name": "python",
   "nbconvert_exporter": "python",
   "pygments_lexer": "ipython3",
   "version": "3.7.6"
  }
 },
 "nbformat": 4,
 "nbformat_minor": 4
}
