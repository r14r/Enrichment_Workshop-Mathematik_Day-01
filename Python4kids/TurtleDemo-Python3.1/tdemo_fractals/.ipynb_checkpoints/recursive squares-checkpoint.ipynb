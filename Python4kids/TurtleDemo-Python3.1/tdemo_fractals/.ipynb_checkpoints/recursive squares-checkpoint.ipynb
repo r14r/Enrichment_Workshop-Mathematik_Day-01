{
 "cells": [
  {
   "cell_type": "code",
   "execution_count": 1,
   "metadata": {},
   "outputs": [],
   "source": [
    "\"\"\"      turtle-example-suite:\n",
    "\n",
    "        tdemo_recursive squares.py\n",
    "\n",
    "This program draws a recursive pattern of\n",
    "coloured squares, that have smaller squares\n",
    "at their vertices. To each square size\n",
    "belongs a different colour.\n",
    "\n",
    "The squares are stamped, the larger ones\n",
    "first, the smaller ones upon them.\n",
    "\n",
    "Finally you see 5461 squares.\n",
    "\"\"\"\n",
    "from turtle import Turtle, Screen\n",
    "from time import clock\n",
    "\n",
    "colors = [\"red\", \"green\", \"blue\", \"yellow\",\n",
    "          \"cyan\", \"magenta\", \"gray60\"]"
   ]
  },
  {
   "cell_type": "code",
   "execution_count": 2,
   "metadata": {},
   "outputs": [],
   "source": [
    "def recsquare(l, f, colors):\n",
    "    if not colors: return\n",
    "    t.shapesize(l/20)\n",
    "    t.color(colors[0])\n",
    "    t.stamp()\n",
    "    t.fd(l/2.0)\n",
    "    t.lt(90)\n",
    "    t.fd(l/2)\n",
    "    t.lt(90)\n",
    "    for _ in range(4):\n",
    "        recsquare(l*f, f, colors[1:])\n",
    "        t.fd(l)\n",
    "        t.lt(90)\n",
    "    t.rt(90)\n",
    "    t.bk(l/2)\n",
    "    t.rt(90)\n",
    "    t.bk(l/2)\n",
    "    if len(colors) == 5:\n",
    "        s.update()"
   ]
  },
  {
   "cell_type": "code",
   "execution_count": 3,
   "metadata": {},
   "outputs": [],
   "source": [
    "def main():\n",
    "    global s, t\n",
    "    s = Screen()\n",
    "    s.bgcolor(\"gray10\")\n",
    "    t = Turtle(visible=False, shape=\"square\")\n",
    "    t.pu()\n",
    "    t.speed(0)\n",
    "    s.tracer(False)\n",
    "    ta = clock()\n",
    "    recsquare(256, 0.5, colors)\n",
    "    tb = clock()\n",
    "    return \"{0:.2f}sec.\".format(tb-ta)"
   ]
  },
  {
   "cell_type": "code",
   "execution_count": 4,
   "metadata": {},
   "outputs": [
    {
     "name": "stderr",
     "output_type": "stream",
     "text": [
      "D:\\DevApps\\Anaconda3\\2020.02\\lib\\site-packages\\ipykernel_launcher.py:9: DeprecationWarning: time.clock has been deprecated in Python 3.3 and will be removed from Python 3.8: use time.perf_counter or time.process_time instead\n",
      "  if __name__ == '__main__':\n",
      "D:\\DevApps\\Anaconda3\\2020.02\\lib\\site-packages\\ipykernel_launcher.py:11: DeprecationWarning: time.clock has been deprecated in Python 3.3 and will be removed from Python 3.8: use time.perf_counter or time.process_time instead\n",
      "  # This is added back by InteractiveShellApp.init_path()\n"
     ]
    }
   ],
   "source": [
    "    main()\n",
    "    s.mainloop()"
   ]
  },
  {
   "cell_type": "code",
   "execution_count": null,
   "metadata": {},
   "outputs": [],
   "source": []
  }
 ],
 "metadata": {
  "kernelspec": {
   "display_name": "Python 3",
   "language": "python",
   "name": "python3"
  },
  "language_info": {
   "codemirror_mode": {
    "name": "ipython",
    "version": 3
   },
   "file_extension": ".py",
   "mimetype": "text/x-python",
   "name": "python",
   "nbconvert_exporter": "python",
   "pygments_lexer": "ipython3",
   "version": "3.7.6"
  }
 },
 "nbformat": 4,
 "nbformat_minor": 4
}
