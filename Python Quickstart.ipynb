{
 "cells": [
  {
   "cell_type": "code",
   "execution_count": null,
   "metadata": {},
   "outputs": [],
   "source": []
  }
 ],
 "metadata": {
  "kernelspec": {
   "display_name": "Python 3.7.6 64-bit",
   "language": "python",
   "name": "python37664bit477632ad79284ddb91caf8e729067f8e"
  }
 },
 "nbformat": 4,
 "nbformat_minor": 4
}
