{
 "cells": [
  {
   "cell_type": "code",
   "execution_count": 1,
   "metadata": {},
   "outputs": [
    {
     "name": "stdout",
     "output_type": "stream",
     "text": [
      "         1:                   1 * 8 + 1 =  9\n",
      "        12:                  12 * 8 + 2 =  98\n",
      "       123:                 123 * 8 + 3 =  987\n",
      "      1234:                1234 * 8 + 4 =  9876\n",
      "     12345:               12345 * 8 + 5 =  98765\n",
      "    123456:              123456 * 8 + 6 =  987654\n",
      "   1234567:             1234567 * 8 + 7 =  9876543\n",
      "  12345678:            12345678 * 8 + 8 =  98765432\n",
      " 123456789:           123456789 * 8 + 9 =  987654321\n"
     ]
    }
   ],
   "source": [
    "s=\"\"\n",
    "for i in range(9):\n",
    "    n = i+1\n",
    "    s += str(n)\n",
    "    print(\"%10s: %30s %d\" % (s, s + \" * 8 + \" + str(n) + \" = \", int(s)* 8 + n))"
   ]
  },
  {
   "cell_type": "code",
   "execution_count": 2,
   "metadata": {},
   "outputs": [
    {
     "name": "stdout",
     "output_type": "stream",
     "text": [
      "         9 * 9 + 7 = 88\n",
      "        98 * 9 + 6 = 888\n",
      "       987 * 9 + 5 = 8888\n",
      "      9876 * 9 + 4 = 88888\n",
      "     98765 * 9 + 3 = 888888\n",
      "    987654 * 9 + 2 = 8888888\n",
      "   9876543 * 9 + 1 = 88888888\n",
      "  98765432 * 9 + 0 = 888888888\n"
     ]
    }
   ],
   "source": [
    "def pattern(max):\n",
    "    curr=0\n",
    "    \n",
    "    for i in range(1,max):\n",
    "        n = max - i + 1\n",
    "        \n",
    "        spaces = \" \" * n\n",
    "        \n",
    "        curr = curr * 10 + n\n",
    "        add = n-2\n",
    "        \n",
    "        res = curr * max + add\n",
    "        \n",
    "        print(f\"{spaces}{curr} * {max} + {add} = {res}\")\n",
    "        \n",
    "pattern(9)"
   ]
  },
  {
   "cell_type": "code",
   "execution_count": 3,
   "metadata": {},
   "outputs": [
    {
     "name": "stdout",
     "output_type": "stream",
     "text": [
      "         1:                   1 * 9 + 1 =  11\n",
      "        12:                  12 * 9 + 2 =  111\n",
      "       123:                 123 * 9 + 3 =  1111\n",
      "      1234:                1234 * 9 + 4 =  11111\n",
      "     12345:               12345 * 9 + 5 =  111111\n",
      "    123456:              123456 * 9 + 6 =  1111111\n",
      "   1234567:             1234567 * 9 + 7 =  11111111\n",
      "  12345678:            12345678 * 9 + 8 =  111111111\n",
      " 123456789:           123456789 * 9 + 9 =  1111111111\n"
     ]
    }
   ],
   "source": [
    "def pattern(max):\n",
    "    s=\"\"\n",
    "    for i in range(max):\n",
    "        n = i+1\n",
    "        s += str(n)\n",
    "        res = int(s)* max + n + 1\n",
    "        \n",
    "        print(\"%10s: %30s %d\" % (s, s + \" * 9 + \" + str(n) + \" = \", res))\n",
    "        \n",
    "pattern(9)"
   ]
  },
  {
   "cell_type": "code",
   "execution_count": 4,
   "metadata": {},
   "outputs": [
    {
     "name": "stdout",
     "output_type": "stream",
     "text": [
      "         1:                    1 = 1                    1\n",
      "        11:                   11 = 11                   121\n",
      "       111:                  111 = 111                  12321\n",
      "      1111:                 1111 = 1111                 1234321\n",
      "     11111:                11111 = 11111                123454321\n",
      "    111111:               111111 = 111111               12345654321\n",
      "   1111111:              1111111 = 1111111              1234567654321\n",
      "  11111111:             11111111 = 11111111             123456787654321\n",
      " 111111111:            111111111 = 111111111            12345678987654321\n"
     ]
    }
   ],
   "source": [
    "s=\"\"\n",
    "for i in range(9):\n",
    "    n = i+1\n",
    "    s += \"1\"\n",
    "    print(\"%10s: %20s = %-20s %d\" % (s,s,s,int(s) * int(s)))"
   ]
  },
  {
   "cell_type": "code",
   "execution_count": 5,
   "metadata": {},
   "outputs": [
    {
     "name": "stdout",
     "output_type": "stream",
     "text": [
      "                  1 * 1                   = 1\n",
      "                 11 * 11                  = 121\n",
      "                111 * 111                 = 12321\n",
      "               1111 * 1111                = 1234321\n",
      "              11111 * 11111               = 123454321\n",
      "             111111 * 111111              = 12345654321\n",
      "            1111111 * 1111111             = 1234567654321\n",
      "           11111111 * 11111111            = 123456787654321\n",
      "          111111111 * 111111111           = 12345678987654321\n",
      "         1111111111 * 1111111111          = 1234567900987654321\n"
     ]
    }
   ],
   "source": [
    "def pattern(n):\n",
    "    k = 2 * n - 2\n",
    "    \n",
    "    for i in range(0, n):\n",
    "        spaces = \" \" * (k - i)\n",
    "        \n",
    "        val=\"\"\n",
    "        for j in range(0, i + 1):\n",
    "            val += \"1\"\n",
    "\n",
    "        print(f\"{spaces}{val} * {val}{spaces} = {int(val) * int(val)}\")\n",
    " \n",
    "pattern(10)"
   ]
  }
 ],
 "metadata": {
  "kernelspec": {
   "display_name": "Python 3",
   "language": "python",
   "name": "python3"
  },
  "language_info": {
   "codemirror_mode": {
    "name": "ipython",
    "version": 3
   },
   "file_extension": ".py",
   "mimetype": "text/x-python",
   "name": "python",
   "nbconvert_exporter": "python",
   "pygments_lexer": "ipython3",
   "version": "3.7.6"
  }
 },
 "nbformat": 4,
 "nbformat_minor": 4
}
