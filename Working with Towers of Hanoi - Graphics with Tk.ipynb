{
 "cells": [
  {
   "cell_type": "markdown",
   "metadata": {},
   "source": [
    "# Powers of Hanoi"
   ]
  },
  {
   "cell_type": "markdown",
   "metadata": {},
   "source": [
    "![Powers of Hanoi](images/towers_of_hanoi.png)"
   ]
  },
  {
   "cell_type": "code",
   "execution_count": 1,
   "metadata": {},
   "outputs": [],
   "source": [
    "from tkinter import Tk, Canvas"
   ]
  },
  {
   "cell_type": "code",
   "execution_count": 2,
   "metadata": {},
   "outputs": [],
   "source": [
    "# Basic Towers-of-Hanoi algorithm: move n pieces from a to b, using c\n",
    "# as temporary.  For each move, call report()\n",
    "def hanoi(n, a, b, c, report):\n",
    "    if n <= 0: return\n",
    "    hanoi(n-1, a, c, b, report)\n",
    "    report(n, a, b)\n",
    "    hanoi(n-1, c, b, a, report)"
   ]
  },
  {
   "cell_type": "code",
   "execution_count": 3,
   "metadata": {},
   "outputs": [],
   "source": [
    "# The graphical interface\n",
    "class Tkhanoi:\n",
    "\n",
    "    # Create our objects\n",
    "    def __init__(self, n, bitmap = None):\n",
    "        self.n = n\n",
    "        self.tk = tk = Tk()\n",
    "        self.canvas = c = Canvas(tk)\n",
    "        c.pack()\n",
    "        width, height = tk.getint(c['width']), tk.getint(c['height'])\n",
    "\n",
    "        # Add background bitmap\n",
    "        if bitmap:\n",
    "            self.bitmap = c.create_bitmap(width//2, height//2,\n",
    "                                          bitmap=bitmap,\n",
    "                                          foreground='blue')\n",
    "\n",
    "        # Generate pegs\n",
    "        pegwidth = 10\n",
    "        pegheight = height//2\n",
    "        pegdist = width//3\n",
    "        x1, y1 = (pegdist-pegwidth)//2, height*1//3\n",
    "        x2, y2 = x1+pegwidth, y1+pegheight\n",
    "        self.pegs = []\n",
    "        p = c.create_rectangle(x1, y1, x2, y2, fill='black')\n",
    "        self.pegs.append(p)\n",
    "        x1, x2 = x1+pegdist, x2+pegdist\n",
    "        p = c.create_rectangle(x1, y1, x2, y2, fill='black')\n",
    "        self.pegs.append(p)\n",
    "        x1, x2 = x1+pegdist, x2+pegdist\n",
    "        p = c.create_rectangle(x1, y1, x2, y2, fill='black')\n",
    "        self.pegs.append(p)\n",
    "        self.tk.update()\n",
    "\n",
    "        # Generate pieces\n",
    "        pieceheight = pegheight//16\n",
    "        maxpiecewidth = pegdist*2//3\n",
    "        minpiecewidth = 2*pegwidth\n",
    "        self.pegstate = [[], [], []]\n",
    "        self.pieces = {}\n",
    "        x1, y1 = (pegdist-maxpiecewidth)//2, y2-pieceheight-2\n",
    "        x2, y2 = x1+maxpiecewidth, y1+pieceheight\n",
    "        dx = (maxpiecewidth-minpiecewidth) // (2*max(1, n-1))\n",
    "        for i in range(n, 0, -1):\n",
    "            p = c.create_rectangle(x1, y1, x2, y2, fill='red')\n",
    "            self.pieces[i] = p\n",
    "            self.pegstate[0].append(i)\n",
    "            x1, x2 = x1 + dx, x2-dx\n",
    "            y1, y2 = y1 - pieceheight-2, y2-pieceheight-2\n",
    "            self.tk.update()\n",
    "            self.tk.after(25)\n",
    "\n",
    "    # Run -- never returns\n",
    "    def run(self):\n",
    "        while 1:\n",
    "            hanoi(self.n, 0, 1, 2, self.report)\n",
    "            hanoi(self.n, 1, 2, 0, self.report)\n",
    "            hanoi(self.n, 2, 0, 1, self.report)\n",
    "            hanoi(self.n, 0, 2, 1, self.report)\n",
    "            hanoi(self.n, 2, 1, 0, self.report)\n",
    "            hanoi(self.n, 1, 0, 2, self.report)\n",
    "\n",
    "    # Reporting callback for the actual hanoi function\n",
    "    def report(self, i, a, b):\n",
    "        if self.pegstate[a][-1] != i: raise RuntimeError # Assertion\n",
    "        del self.pegstate[a][-1]\n",
    "        p = self.pieces[i]\n",
    "        c = self.canvas\n",
    "\n",
    "        # Lift the piece above peg a\n",
    "        ax1, ay1, ax2, ay2 = c.bbox(self.pegs[a])\n",
    "        while 1:\n",
    "            x1, y1, x2, y2 = c.bbox(p)\n",
    "            if y2 < ay1: break\n",
    "            c.move(p, 0, -1)\n",
    "            self.tk.update()\n",
    "\n",
    "        # Move it towards peg b\n",
    "        bx1, by1, bx2, by2 = c.bbox(self.pegs[b])\n",
    "        newcenter = (bx1+bx2)//2\n",
    "        while 1:\n",
    "            x1, y1, x2, y2 = c.bbox(p)\n",
    "            center = (x1+x2)//2\n",
    "            if center == newcenter: break\n",
    "            if center > newcenter: c.move(p, -1, 0)\n",
    "            else: c.move(p, 1, 0)\n",
    "            self.tk.update()\n",
    "\n",
    "        # Move it down on top of the previous piece\n",
    "        pieceheight = y2-y1\n",
    "        newbottom = by2 - pieceheight*len(self.pegstate[b]) - 2\n",
    "        while 1:\n",
    "            x1, y1, x2, y2 = c.bbox(p)\n",
    "            if y2 >= newbottom: break\n",
    "            c.move(p, 0, 1)\n",
    "            self.tk.update()\n",
    "\n",
    "        # Update peg state\n",
    "        self.pegstate[b].append(i)"
   ]
  },
  {
   "cell_type": "code",
   "execution_count": 6,
   "metadata": {},
   "outputs": [],
   "source": [
    "def main(n=4):\n",
    "    import sys\n",
    "\n",
    "    #bitmap = '@' + bitmap\n",
    "    bitmap = None\n",
    "\n",
    "    # Create the graphical objects...\n",
    "    h = Tkhanoi(n, bitmap)\n",
    "\n",
    "    try:\n",
    "        h.run()\n",
    "    except:\n",
    "        pass"
   ]
  },
  {
   "cell_type": "code",
   "execution_count": 7,
   "metadata": {},
   "outputs": [],
   "source": [
    "main()"
   ]
  },
  {
   "cell_type": "code",
   "execution_count": null,
   "metadata": {},
   "outputs": [],
   "source": []
  }
 ],
 "metadata": {
  "kernelspec": {
   "display_name": "Python 3",
   "language": "python",
   "name": "python3"
  },
  "language_info": {
   "codemirror_mode": {
    "name": "ipython",
    "version": 3
   },
   "file_extension": ".py",
   "mimetype": "text/x-python",
   "name": "python",
   "nbconvert_exporter": "python",
   "pygments_lexer": "ipython3",
   "version": "3.7.6"
  }
 },
 "nbformat": 4,
 "nbformat_minor": 4
}
