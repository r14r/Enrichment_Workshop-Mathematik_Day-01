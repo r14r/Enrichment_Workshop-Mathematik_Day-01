{
 "cells": [
  {
   "cell_type": "markdown",
   "metadata": {},
   "source": [
    "# Workshop-Mathematik_Day-01"
   ]
  },
  {
   "cell_type": "markdown",
   "metadata": {},
   "source": [
    "## Requirements"
   ]
  },
  {
   "cell_type": "markdown",
   "metadata": {},
   "source": [
    "https://medium.com/@rohanguptha.bompally/embed-turtle-output-in-your-jupyter-notebook-a52fed77d82\n",
    "\n",
    "https://github.com/rochakgupta/aco-tsp\n",
    "\n",
    "http://www.mathematische-basteleien.de/nikolaushaus.htm\n",
    "http://www.cs.uleth.ca/~fitzpat/math3410/linalg-notes-with-computations.html\n",
    "\n",
    "https://pythonforundergradengineers.com/sympy-expressions-and-equations.html\n",
    "\n",
    "https://www.eg.bucknell.edu/~phys310/"
   ]
  },
  {
   "cell_type": "markdown",
   "metadata": {},
   "source": [
    "## Kurse"
   ]
  },
  {
   "cell_type": "markdown",
   "metadata": {},
   "source": [
    "[Python for Kids](http://python4kids.net/how2think/index.html)\n",
    "\n",
    "\n",
    "[Think like a computer scientist](https://runestone.academy/runestone/books/published/thinkcspy/index.html)\n",
    "\n",
    "[Science Python Book](https://scipython.com/book/)"
   ]
  },
  {
   "cell_type": "code",
   "execution_count": null,
   "metadata": {},
   "outputs": [],
   "source": []
  }
 ],
 "metadata": {
  "kernelspec": {
   "display_name": "Python 3",
   "language": "python",
   "name": "python3"
  },
  "language_info": {
   "codemirror_mode": {
    "name": "ipython",
    "version": 3
   },
   "file_extension": ".py",
   "mimetype": "text/x-python",
   "name": "python",
   "nbconvert_exporter": "python",
   "pygments_lexer": "ipython3",
   "version": "3.7.6"
  }
 },
 "nbformat": 4,
 "nbformat_minor": 4
}
