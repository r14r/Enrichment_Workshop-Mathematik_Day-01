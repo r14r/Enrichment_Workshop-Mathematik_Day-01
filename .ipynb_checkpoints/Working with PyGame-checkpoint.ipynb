{
 "cells": [
  {
   "cell_type": "code",
   "execution_count": 1,
   "metadata": {},
   "outputs": [
    {
     "name": "stdout",
     "output_type": "stream",
     "text": [
      "pygame 1.9.6\n",
      "Hello from the pygame community. https://www.pygame.org/contribute.html\n"
     ]
    }
   ],
   "source": [
    "import pygame, math "
   ]
  },
  {
   "cell_type": "code",
   "execution_count": 2,
   "metadata": {},
   "outputs": [
    {
     "data": {
      "text/plain": [
       "(6, 0)"
      ]
     },
     "execution_count": 2,
     "metadata": {},
     "output_type": "execute_result"
    }
   ],
   "source": [
    "# Initialize all imported pygame modules \n",
    "pygame.init() "
   ]
  },
  {
   "cell_type": "code",
   "execution_count": 3,
   "metadata": {},
   "outputs": [],
   "source": [
    "# Create a new surface and window. \n",
    "surface_height, surface_width = 800, 600\t #Surface variables \n",
    "main_surface = pygame.display.set_mode((surface_height,surface_width)) "
   ]
  },
  {
   "cell_type": "code",
   "execution_count": 4,
   "metadata": {},
   "outputs": [],
   "source": [
    "# Captioning the window \n",
    "pygame.display.set_caption(\"Fractal_Tree_geeksforgeeks\") \n",
    "\n",
    "def draw_tree(order, theta, sz, posn, heading, color=(0,0,0), depth=0): \n",
    "    # The relative ratio of the trunk to the whole tree \n",
    "    trunk_ratio = 0.29\n",
    "    \n",
    "    # Length of the trunk \n",
    "    trunk = sz * trunk_ratio \n",
    "    delta_x = trunk * math.cos(heading) \n",
    "    delta_y = trunk * math.sin(heading) \n",
    "    (u, v) = posn \n",
    "    newpos = (u + delta_x, v + delta_y) \n",
    "    pygame.draw.line(main_surface, color, posn, newpos) \n",
    "    \n",
    "    if order > 0: # Draw another layer of subtrees \n",
    "\n",
    "        # These next six lines are a simple hack to make \n",
    "        # the two major halves of the recursion different \n",
    "        # colors. Fiddle here to change colors at other \n",
    "        # depths, or when depth is even, or odd, etc. \n",
    "        if depth == 0: \n",
    "            color1 = (255, 0, 0) \n",
    "            color2 = (0, 0, 255) \n",
    "        else: \n",
    "            color1 = color \n",
    "            color2 = color \n",
    "\n",
    "        # make the recursive calls to draw the two subtrees \n",
    "        newsz = sz*(1 - trunk_ratio) \n",
    "        draw_tree(order-1, theta, newsz, newpos, heading-theta, color1, depth+1) \n",
    "        draw_tree(order-1, theta, newsz, newpos, heading+theta, color2, depth+1) "
   ]
  },
  {
   "cell_type": "code",
   "execution_count": 5,
   "metadata": {},
   "outputs": [],
   "source": [
    "def main(): \n",
    "    theta = 0\n",
    "\n",
    "    while True: \n",
    "\n",
    "        # Update the angle \n",
    "        theta += 0.01\n",
    "\n",
    "        # This little part lets us draw the stuffs \n",
    "        # in the screen everything \n",
    "        main_surface.fill((255, 255, 0)) \n",
    "        draw_tree(9, theta, surface_height*0.9, (surface_width//2, surface_width-50), -math.pi/2) \n",
    "        pygame.display.flip() "
   ]
  },
  {
   "cell_type": "code",
   "execution_count": null,
   "metadata": {},
   "outputs": [],
   "source": [
    "main() \n",
    "pygame.quit() "
   ]
  }
 ],
 "metadata": {
  "kernelspec": {
   "display_name": "Python 3",
   "language": "python",
   "name": "python3"
  },
  "language_info": {
   "codemirror_mode": {
    "name": "ipython",
    "version": 3
   },
   "file_extension": ".py",
   "mimetype": "text/x-python",
   "name": "python",
   "nbconvert_exporter": "python",
   "pygments_lexer": "ipython3",
   "version": "3.7.6"
  }
 },
 "nbformat": 4,
 "nbformat_minor": 4
}
