{
 "cells": [
  {
   "cell_type": "markdown",
   "metadata": {},
   "source": [
    "# Powers of Hanoi"
   ]
  },
  {
   "cell_type": "markdown",
   "metadata": {},
   "source": [
    "![Powers of Hanoi](images/towers_of_hanoi.png)"
   ]
  },
  {
   "cell_type": "code",
   "execution_count": 10,
   "metadata": {},
   "outputs": [],
   "source": [
    "def TowerOfHanoi(n , source, destination, auxilliary): \n",
    "    if n==1: \n",
    "        # print(\"Move disk 1 from source\",source,\"to destination\",destination)\n",
    "        print(source,\" --> \",destination )\n",
    "        \n",
    "        return\n",
    "    \n",
    "    TowerOfHanoi(n-1, source, auxilliary, destination) \n",
    "    \n",
    "    # print(\"Move disk\",n,\"from source\",source,\"to destination\",destination )\n",
    "    print(source,\" --> \",destination )\n",
    "    \n",
    "    TowerOfHanoi(n-1, auxilliary, destination, source) "
   ]
  },
  {
   "cell_type": "code",
   "execution_count": 11,
   "metadata": {},
   "outputs": [
    {
     "name": "stdout",
     "output_type": "stream",
     "text": [
      "A  -->  C\n",
      "A  -->  B\n",
      "C  -->  B\n",
      "A  -->  C\n",
      "B  -->  A\n",
      "B  -->  C\n",
      "A  -->  C\n",
      "A  -->  B\n",
      "C  -->  B\n",
      "C  -->  A\n",
      "B  -->  A\n",
      "C  -->  B\n",
      "A  -->  C\n",
      "A  -->  B\n",
      "C  -->  B\n"
     ]
    }
   ],
   "source": [
    "n = 4\n",
    "TowerOfHanoi(n,'A','B','C')"
   ]
  },
  {
   "cell_type": "markdown",
   "metadata": {},
   "source": [
    "## Beispiel 2"
   ]
  },
  {
   "cell_type": "code",
   "execution_count": 19,
   "metadata": {},
   "outputs": [
    {
     "name": "stdout",
     "output_type": "stream",
     "text": [
      "4 ([4, 3, 2, 1], 'source') ([], 'helper') ([], 'target')\n",
      "3 ([4, 3, 2, 1], 'source') ([], 'target') ([], 'helper')\n",
      "2 ([4, 3, 2, 1], 'source') ([], 'helper') ([], 'target')\n",
      "1 ([4, 3, 2, 1], 'source') ([], 'target') ([], 'helper')\n",
      "0 ([4, 3, 2, 1], 'source') ([], 'helper') ([], 'target')\n",
      "source -> helper\n",
      "0 ([], 'target') ([4, 3, 2], 'source') ([1], 'helper')\n",
      "source -> target\n",
      "1 ([1], 'helper') ([4, 3], 'source') ([2], 'target')\n",
      "0 ([1], 'helper') ([2], 'target') ([4, 3], 'source')\n",
      "helper -> target\n",
      "0 ([4, 3], 'source') ([], 'helper') ([2, 1], 'target')\n",
      "source -> helper\n",
      "2 ([2, 1], 'target') ([4], 'source') ([3], 'helper')\n",
      "1 ([2, 1], 'target') ([3], 'helper') ([4], 'source')\n",
      "0 ([2, 1], 'target') ([4], 'source') ([3], 'helper')\n",
      "target -> source\n",
      "0 ([3], 'helper') ([2], 'target') ([4, 1], 'source')\n",
      "target -> helper\n",
      "1 ([4, 1], 'source') ([], 'target') ([3, 2], 'helper')\n",
      "0 ([4, 1], 'source') ([3, 2], 'helper') ([], 'target')\n",
      "source -> helper\n",
      "0 ([], 'target') ([4], 'source') ([3, 2, 1], 'helper')\n",
      "source -> target\n",
      "3 ([3, 2, 1], 'helper') ([], 'source') ([4], 'target')\n",
      "2 ([3, 2, 1], 'helper') ([4], 'target') ([], 'source')\n",
      "1 ([3, 2, 1], 'helper') ([], 'source') ([4], 'target')\n",
      "0 ([3, 2, 1], 'helper') ([4], 'target') ([], 'source')\n",
      "helper -> target\n",
      "0 ([], 'source') ([3, 2], 'helper') ([4, 1], 'target')\n",
      "helper -> source\n",
      "1 ([4, 1], 'target') ([3], 'helper') ([2], 'source')\n",
      "0 ([4, 1], 'target') ([2], 'source') ([3], 'helper')\n",
      "target -> source\n",
      "0 ([3], 'helper') ([4], 'target') ([2, 1], 'source')\n",
      "helper -> target\n",
      "2 ([2, 1], 'source') ([], 'helper') ([4, 3], 'target')\n",
      "1 ([2, 1], 'source') ([4, 3], 'target') ([], 'helper')\n",
      "0 ([2, 1], 'source') ([], 'helper') ([4, 3], 'target')\n",
      "source -> helper\n",
      "0 ([4, 3], 'target') ([2], 'source') ([1], 'helper')\n",
      "source -> target\n",
      "1 ([1], 'helper') ([], 'source') ([4, 3, 2], 'target')\n",
      "0 ([1], 'helper') ([4, 3, 2], 'target') ([], 'source')\n",
      "helper -> target\n",
      "0 ([], 'source') ([], 'helper') ([4, 3, 2, 1], 'target')\n",
      "([], 'source') ([], 'helper') ([4, 3, 2, 1], 'target')\n"
     ]
    }
   ],
   "source": [
    "def hanoi(n, source, helper, target):\n",
    "    print(n, source, helper, target)\n",
    "    \n",
    "    if n > 0:\n",
    "        # move tower of size n - 1 to helper:\n",
    "        hanoi(n - 1, source, target, helper)\n",
    "        \n",
    "        # move disk from source peg to target peg\n",
    "        if source[0]:\n",
    "            disk = source[0].pop()\n",
    "            print(source[1] + \" -> \" + target[1])\n",
    "            target[0].append(disk)\n",
    "        \n",
    "        # move tower of size n-1 from helper to target\n",
    "        hanoi(n - 1, helper, source, target)\n",
    "        \n",
    "source = ([4,3,2,1], \"source\")\n",
    "target = ([], \"target\")\n",
    "helper = ([], \"helper\")\n",
    "hanoi(len(source[0]),source,helper,target)\n",
    "\n",
    "print(source, helper, target)"
   ]
  },
  {
   "cell_type": "markdown",
   "metadata": {},
   "source": [
    "## Beispiel"
   ]
  },
  {
   "cell_type": "code",
   "execution_count": 21,
   "metadata": {},
   "outputs": [
    {
     "name": "stdout",
     "output_type": "stream",
     "text": [
      "a->b\n",
      "a->c\n",
      "c->a\n",
      "a->b\n",
      "b->c\n",
      "b->a\n",
      "a->b\n"
     ]
    }
   ],
   "source": [
    "class Tower:\n",
    "\n",
    "    def __init__(self):\n",
    "        self.counter = 0\n",
    "\n",
    "    def hanoi(self, n, a, c, b):\n",
    "        if n == 1: \n",
    "            self.counter += 1\n",
    "            print('{0}->{1}'.format(a, b))\n",
    "        else:\n",
    "            self.hanoi(n -1, a, b, c)\n",
    "            self.hanoi(1, a, c, b)\n",
    "            self.hanoi(n-1, b, c, a)\n",
    "\n",
    "tower = Tower()\n",
    "tower.hanoi(3,\"a\", \"c\", \"b\")"
   ]
  },
  {
   "cell_type": "markdown",
   "metadata": {},
   "source": [
    "## Beispiel"
   ]
  },
  {
   "cell_type": "code",
   "execution_count": 2,
   "metadata": {},
   "outputs": [
    {
     "name": "stdout",
     "output_type": "stream",
     "text": [
      "[3, 2, 1] [] []\n",
      "[3, 2] [] [1]\n",
      "[3] [2] [1]\n",
      "[3] [2, 1] []\n",
      "[] [2, 1] [3]\n",
      "[1] [2] [3]\n",
      "[1] [] [3, 2]\n",
      "[] [] [3, 2, 1]\n",
      "7\n"
     ]
    }
   ],
   "source": [
    "def hanoi(n, P1, P2, P3):\n",
    "    \n",
    "    \"\"\" Move n discs from pole P1 to pole P3. \"\"\"\n",
    "    if n == 0:\n",
    "        # No more discs to move in this step\n",
    "        return\n",
    "\n",
    "    global count\n",
    "    count += 1\n",
    "\n",
    "    # move n-1 discs from P1 to P2\n",
    "    hanoi(n-1, P1, P3, P2)\n",
    "\n",
    "    if P1:\n",
    "        # move disc from P1 to P3\n",
    "        P3.append(P1.pop())\n",
    "        print(A, B, C)\n",
    "\n",
    "    # move n-1 discs from P2 to P3\n",
    "    hanoi(n-1, P2, P1, P3)\n",
    "\n",
    "# Initialize the poles: all n discs are on pole A.\n",
    "n = 3\n",
    "A = list(range(n,0,-1))\n",
    "B, C = [], []\n",
    "\n",
    "print(A, B, C)\n",
    "count = 0\n",
    "hanoi(n, A, B, C)\n",
    "print(count)"
   ]
  },
  {
   "cell_type": "markdown",
   "metadata": {},
   "source": [
    "## Beispiel"
   ]
  },
  {
   "cell_type": "code",
   "execution_count": 3,
   "metadata": {},
   "outputs": [],
   "source": [
    "import turtle\n",
    "import time\n",
    "\n",
    "PILENUM=3\n",
    "\n",
    "BasePL=12\n",
    "TowerP=5\n",
    "TowerW=110  \n",
    "TowerH=200\n",
    "TowerSpace=260\n",
    "HORIZON=-100\n",
    "\n",
    "PMS = 1\n",
    "\n",
    "Isjump=True\n",
    "\n",
    "POLES={\n",
    "    \"1\": [],\n",
    "    \"2\": [],\n",
    "    \"3\": [],\n",
    "}\n",
    "\n",
    "LineColor=\"black\"\n",
    "FillColors=[\n",
    "    \"#d25b6a\",\n",
    "    \"#d2835b\",\n",
    "    \"#e5e234\",\n",
    "    \"#83d05d\",\n",
    "    \"#2862d2\",\n",
    "    \"#35b1c0\",\n",
    "    \"#5835c0\"\n",
    "]\n",
    "\n",
    "SCR=turtle.Screen()\n",
    "# SCR.tracer()\n",
    "SCR.delay(1)\n",
    "SCR.setup(800,600)"
   ]
  },
  {
   "cell_type": "code",
   "execution_count": 5,
   "metadata": {},
   "outputs": [],
   "source": [
    "def init_plate(pi=0):\n",
    "    _pi=pi+2\n",
    "    t = turtle.Turtle()\n",
    "    t.hideturtle()\n",
    "    t.speed(0)\n",
    "    t.penup()\n",
    "    t.begin_poly()\n",
    "    t.left(90)\n",
    "    t.forward(BasePL*_pi)\n",
    "    t.circle(BasePL, 180)\n",
    "    t.forward(BasePL * 2 * _pi)\n",
    "    t.circle(BasePL, 180)\n",
    "    t.forward(BasePL * _pi)\n",
    "    t.end_poly()\n",
    "    p = t.get_poly()\n",
    "    pname='plate_%s'%pi\n",
    "    SCR.register_shape(pname, p)"
   ]
  },
  {
   "cell_type": "code",
   "execution_count": 13,
   "metadata": {},
   "outputs": [],
   "source": [
    "def init_tower():\n",
    "    t = turtle.Turtle()\n",
    "    t.hideturtle()\n",
    "    t.speed(0)\n",
    "    t.penup()\n",
    "\n",
    "    t.begin_poly()\n",
    "    # t.pensize(TowerP)\n",
    "    t.left(90)\n",
    "    t.forward(TowerW)\n",
    "    t.circle(-TowerP, 180)\n",
    "    t.forward(TowerW)\n",
    "    t.forward(TowerW)\n",
    "    t.circle(-TowerP, 180)\n",
    "    t.forward(TowerW-TowerP/2)\n",
    "\n",
    "    t.left(90)\n",
    "    t.forward(TowerH)\n",
    "    t.circle(-TowerP, 180)\n",
    "    t.forward(TowerH)\n",
    "    t.end_poly()\n",
    "    p = t.get_poly()\n",
    "    \n",
    "    SCR.register_shape('tower', p)"
   ]
  },
  {
   "cell_type": "code",
   "execution_count": 8,
   "metadata": {},
   "outputs": [],
   "source": [
    "def moveDisk(Plates, fromP, toP):\n",
    "    if not (isinstance(Plates,list) or isinstance(Plates,tuple)):\n",
    "        Plates=[Plates]\n",
    "\n",
    "    for p in Plates:\n",
    "        p.penup()\n",
    "        # p.speed()\n",
    "\n",
    "        mx = (toP - 2) * TowerSpace\n",
    "        my = HORIZON + len(POLES[str(toP)]) * BasePL * 2\n",
    "\n",
    "        if fromP!=None:\n",
    "            POLES[str(fromP)].remove(p)\n",
    "            if Isjump:\n",
    "                px,py=p.pos()\n",
    "                p.goto(px,TowerH+py)\n",
    "                p.goto(mx,TowerH+py)\n",
    "\n",
    "        p.goto(mx, my)\n",
    "        \n",
    "        POLES[str(toP)].append(p)"
   ]
  },
  {
   "cell_type": "code",
   "execution_count": 7,
   "metadata": {},
   "outputs": [],
   "source": [
    "def moveTower(Plates,fromP,toP,midP):\n",
    "    if len(Plates)>1:\n",
    "        # Move a tower of height-1 to an intermediate pole, using the final pole.\n",
    "        moveTower(Plates[1:], fromP, midP, toP)\n",
    "        # Move the remaining disk to the final pole.\n",
    "        moveDisk(Plates[0],fromP, toP)\n",
    "        # Move the tower of height-1 from the intermediate pole to the final pole using the original pole.\n",
    "        moveTower(Plates[1:], midP, toP, fromP)\n",
    "    else:\n",
    "        moveDisk(Plates, fromP, toP)"
   ]
  },
  {
   "cell_type": "code",
   "execution_count": 9,
   "metadata": {},
   "outputs": [],
   "source": [
    "def get_plates(pn=4):\n",
    "    plates=[]\n",
    "    for i in range(pn):\n",
    "        init_plate(i)\n",
    "        _plate='plate_%s'%i\n",
    "        _p=turtle.Turtle(_plate)\n",
    "        _colorIdx = i % len(FillColors)\n",
    "        _color=FillColors[_colorIdx]\n",
    "\n",
    "        _p.color(_color,_color)\n",
    "        _p.speed(PMS)\n",
    "        plates.append(_p)\n",
    "\n",
    "    return plates[::-1]"
   ]
  },
  {
   "cell_type": "code",
   "execution_count": 10,
   "metadata": {},
   "outputs": [],
   "source": [
    "def show_towers():\n",
    "    init_tower()\n",
    "    for tx in [-TowerSpace, 0, TowerSpace]:\n",
    "        t3 = turtle.Turtle('tower')\n",
    "        t3.penup()\n",
    "        t3.goto(tx,HORIZON)"
   ]
  },
  {
   "cell_type": "code",
   "execution_count": null,
   "metadata": {},
   "outputs": [],
   "source": [
    "def main(*args):\n",
    "    show_towers()\n",
    "    plates = get_plates(PILENUM)\n",
    "    moveDisk(plates, None, 1)\n",
    "    moveTower(plates, 1, 3, 2)\n",
    "    # turtle.done()"
   ]
  },
  {
   "cell_type": "code",
   "execution_count": 11,
   "metadata": {},
   "outputs": [],
   "source": [
    "def test1():\n",
    "    init_plate(2)\n",
    "    _plate = 'plate_%s' % 2\n",
    "    p = turtle.Turtle(_plate)\n",
    "    c=FillColors[2]\n",
    "    p.color(\"black\", c)\n",
    "    for i in range(8):\n",
    "        p.forward(200)\n",
    "        p.left(90)"
   ]
  },
  {
   "cell_type": "code",
   "execution_count": 12,
   "metadata": {},
   "outputs": [],
   "source": [
    "main()\n",
    "SCR.onclick(main)\n",
    "# test1()\n",
    "#turtle.done()"
   ]
  },
  {
   "cell_type": "code",
   "execution_count": 14,
   "metadata": {},
   "outputs": [],
   "source": [
    "turtle.done()"
   ]
  },
  {
   "cell_type": "code",
   "execution_count": 15,
   "metadata": {},
   "outputs": [
    {
     "ename": "AttributeError",
     "evalue": "'_Screen' object has no attribute 'done'",
     "output_type": "error",
     "traceback": [
      "\u001b[1;31m---------------------------------------------------------------------------\u001b[0m",
      "\u001b[1;31mAttributeError\u001b[0m                            Traceback (most recent call last)",
      "\u001b[1;32m<ipython-input-15-df3c55f107e9>\u001b[0m in \u001b[0;36m<module>\u001b[1;34m\u001b[0m\n\u001b[1;32m----> 1\u001b[1;33m \u001b[0mSCR\u001b[0m\u001b[1;33m.\u001b[0m\u001b[0mdone\u001b[0m\u001b[1;33m(\u001b[0m\u001b[1;33m)\u001b[0m\u001b[1;33m\u001b[0m\u001b[1;33m\u001b[0m\u001b[0m\n\u001b[0m",
      "\u001b[1;31mAttributeError\u001b[0m: '_Screen' object has no attribute 'done'"
     ]
    }
   ],
   "source": [
    "SCR.done()"
   ]
  },
  {
   "cell_type": "code",
   "execution_count": null,
   "metadata": {},
   "outputs": [],
   "source": []
  }
 ],
 "metadata": {
  "kernelspec": {
   "display_name": "Python 3",
   "language": "python",
   "name": "python3"
  },
  "language_info": {
   "codemirror_mode": {
    "name": "ipython",
    "version": 3
   },
   "file_extension": ".py",
   "mimetype": "text/x-python",
   "name": "python",
   "nbconvert_exporter": "python",
   "pygments_lexer": "ipython3",
   "version": "3.7.6"
  }
 },
 "nbformat": 4,
 "nbformat_minor": 4
}
