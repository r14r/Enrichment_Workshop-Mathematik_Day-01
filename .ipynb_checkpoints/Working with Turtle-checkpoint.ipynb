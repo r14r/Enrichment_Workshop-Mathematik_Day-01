{
 "cells": [
  {
   "cell_type": "code",
   "execution_count": 1,
   "metadata": {},
   "outputs": [],
   "source": [
    "from ipyturtle import Turtle"
   ]
  },
  {
   "cell_type": "code",
   "execution_count": 2,
   "metadata": {},
   "outputs": [
    {
     "data": {
      "application/vnd.jupyter.widget-view+json": {
       "model_id": "fa5941cbb3cf4374bf13fe5f1091cf07",
       "version_major": 2,
       "version_minor": 0
      },
      "text/plain": [
       "Turtle()"
      ]
     },
     "metadata": {},
     "output_type": "display_data"
    }
   ],
   "source": [
    "t = Turtle()\n",
    "\n",
    "# or in page:\n",
    "# t = Turtle(fixed=False, width=400, height=400)\n",
    "t"
   ]
  },
  {
   "cell_type": "markdown",
   "metadata": {},
   "source": [
    "## First Steps"
   ]
  },
  {
   "cell_type": "code",
   "execution_count": 3,
   "metadata": {},
   "outputs": [],
   "source": [
    "t.reset()"
   ]
  },
  {
   "cell_type": "code",
   "execution_count": 4,
   "metadata": {},
   "outputs": [],
   "source": [
    "t.forward(100)\n",
    "t.position()\n",
    "t.right(90)\n",
    "t.heading()\n",
    "t.forward(100)\n",
    "t.right(90)\n",
    "t.forward(100)\n",
    "t.right(90)\n",
    "t.forward(100)"
   ]
  },
  {
   "cell_type": "markdown",
   "metadata": {},
   "source": [
    "## Square"
   ]
  },
  {
   "cell_type": "code",
   "execution_count": 5,
   "metadata": {},
   "outputs": [],
   "source": [
    "t.reset() #clear canvas and start again\n",
    "def square(size):\n",
    "    for i in range(4):\n",
    "        t.forward(size)\n",
    "        t.right(90)\n",
    "square(20)"
   ]
  },
  {
   "cell_type": "markdown",
   "metadata": {},
   "source": [
    "## Triangel"
   ]
  },
  {
   "cell_type": "code",
   "execution_count": 6,
   "metadata": {},
   "outputs": [],
   "source": [
    "t.reset()\n",
    "def triangle():\n",
    "    for i in range(3):\n",
    "        t.forward(100)\n",
    "        t.right(120)\n",
    "        \n",
    "triangle()"
   ]
  },
  {
   "cell_type": "markdown",
   "metadata": {},
   "source": [
    "## Circle"
   ]
  },
  {
   "cell_type": "code",
   "execution_count": 7,
   "metadata": {},
   "outputs": [],
   "source": [
    "t.reset()\n",
    "\n",
    "def circle():\n",
    "    for i in range(360):\n",
    "        t.forward(1)\n",
    "        t.right(1)"
   ]
  },
  {
   "cell_type": "code",
   "execution_count": 8,
   "metadata": {},
   "outputs": [],
   "source": [
    "circle()"
   ]
  },
  {
   "cell_type": "markdown",
   "metadata": {},
   "source": [
    "## Demo"
   ]
  },
  {
   "cell_type": "code",
   "execution_count": 9,
   "metadata": {},
   "outputs": [],
   "source": [
    "t.reset()\n",
    "colours=[\"red\",\"blue\",\"yellow\",\"brown\",\"black\",\"purple\",\"green\"]"
   ]
  },
  {
   "cell_type": "code",
   "execution_count": 10,
   "metadata": {},
   "outputs": [],
   "source": [
    "t.penup(); t.left(90); t.forward(200);t.right(90);t.pendown()\n",
    "for i in range (0,18):\n",
    "    t.pencolor(colours[i%7])\n",
    "    t.right(20)\n",
    "    t.forward(50)\n",
    "\n",
    "t.right(180)"
   ]
  },
  {
   "cell_type": "markdown",
   "metadata": {},
   "source": [
    "## Haus vom Nikolaus"
   ]
  },
  {
   "cell_type": "code",
   "execution_count": 11,
   "metadata": {},
   "outputs": [],
   "source": [
    "import turtle"
   ]
  },
  {
   "cell_type": "code",
   "execution_count": 12,
   "metadata": {},
   "outputs": [],
   "source": [
    "import math\n",
    "\n",
    "x = 100\n",
    "y = 100\n",
    "d = math.sqrt(2)*100"
   ]
  },
  {
   "cell_type": "code",
   "execution_count": 13,
   "metadata": {},
   "outputs": [],
   "source": [
    "route = [\n",
    "    (   0, x, \"blue\"),\n",
    "    (  90, y, \"blue\"),\n",
    "    (  90, x, \"blue\"),\n",
    "    (  90, y, \"blue\"),\n",
    "    ( 135, d, \"green\"),\n",
    "    ( -90, d / 2, \"red\"),\n",
    "    ( -90, d / 2, \"red\"),\n",
    "    ( -90, d, \"green\")\n",
    "]"
   ]
  },
  {
   "cell_type": "code",
   "execution_count": 26,
   "metadata": {},
   "outputs": [],
   "source": [
    "def drawTheHouse(x = 0, y = 0):\n",
    "    print(\"DrawTheHouse(\", x, \", \",y, \")\")\n",
    "    \n",
    "    #turtle.clearscreen()\n",
    "    turtle.mode(\"logo\")\n",
    "\n",
    "    t.reset()\n",
    "\n",
    "    for angle, distance, color in route:\n",
    "        t.right(angle)\n",
    "        t.pencolor(color)\n",
    "        t.forward(distance)\n",
    "    \n",
    "    return"
   ]
  },
  {
   "cell_type": "code",
   "execution_count": 27,
   "metadata": {},
   "outputs": [],
   "source": [
    "t.reset() # t = Turtle()"
   ]
  },
  {
   "cell_type": "code",
   "execution_count": 28,
   "metadata": {},
   "outputs": [],
   "source": [
    "turtle.onclick(drawTheHouse, add=True)"
   ]
  },
  {
   "cell_type": "code",
   "execution_count": 29,
   "metadata": {},
   "outputs": [
    {
     "name": "stdout",
     "output_type": "stream",
     "text": [
      "DrawTheHouse( 0 ,  0 )\n"
     ]
    }
   ],
   "source": [
    "drawTheHouse()"
   ]
  },
  {
   "cell_type": "code",
   "execution_count": 30,
   "metadata": {},
   "outputs": [],
   "source": [
    "from itertools import cycle\n",
    "\n",
    "\n",
    "colors = ('black', 'red', 'green', 'blue')\n",
    "data = ((t.left,   0, 50), (t.left, 135, 70), (t.right, 90, 70),\n",
    "        (t.right, 90, 35), (t.right, 90, 70), (t.right, 135, 50),\n",
    "        (t.right, 90, 50), (t.right, 90, 50))\n",
    "\n",
    "t.reset()\n",
    "\n",
    "for color, (rotate_func, angle, distance) in zip(cycle(colors), data):\n",
    "    t.pencolor(color)\n",
    "    rotate_func(angle)\n",
    "    t.forward(distance)"
   ]
  },
  {
   "cell_type": "markdown",
   "metadata": {},
   "source": [
    "## Fibonacci Numbers"
   ]
  },
  {
   "cell_type": "code",
   "execution_count": 31,
   "metadata": {},
   "outputs": [],
   "source": [
    "def fib(n, display = False):\n",
    "    a, b = 0, 1\n",
    "\n",
    "    if display:\n",
    "        print(\"%4d \" % n, end=\": \")\n",
    "    \n",
    "    for _ in range(n):\n",
    "        a, b = b, a + b\n",
    "\n",
    "        if display:\n",
    "            print(\"%4d \" % a, end=\" \")\n",
    "        \n",
    "    if display:\n",
    "        print(\"\")\n",
    "        \n",
    "    return a"
   ]
  },
  {
   "cell_type": "code",
   "execution_count": 32,
   "metadata": {},
   "outputs": [
    {
     "name": "stdout",
     "output_type": "stream",
     "text": [
      "   1:      1      1      1\n",
      "   2:      1      2      2\n",
      "   3:      2      6      6\n",
      "   4:      3     15     15\n",
      "   5:      5     40     40\n",
      "   6:      8    104    104\n",
      "   7:     13    273    273\n",
      "   8:     21    714    714\n",
      "   9:     34   1870   1870\n"
     ]
    }
   ],
   "source": [
    "sum_f_square = 0\n",
    "\n",
    "for n in range(1,10):\n",
    "    f = fib(n)\n",
    "    f_square = f * f\n",
    "    \n",
    "    sum_f_square += f_square\n",
    "    \n",
    "    \n",
    "    print(\"%4d: %6d %6d %6d\" % (n, f, sum_f_square, f * fib(n+1)))"
   ]
  },
  {
   "cell_type": "code",
   "execution_count": 33,
   "metadata": {},
   "outputs": [],
   "source": [
    "def drawBox(t, n):\n",
    "    print(\"Draw Box for =%d\" % n)\n",
    "    d = n * 2\n",
    "    t.forward(d)\n",
    "    t.left(90)\n",
    "    t.forward(d)\n",
    "    t.left(90)\n",
    "    t.forward(d)\n",
    "    t.left(90)\n",
    "    t.forward(d)\n",
    "    t.left(90)\n",
    "    t.penup()\n",
    "    t.forward(d)\n",
    "    t.left(90)\n",
    "    t.forward(d)\n",
    "    t.pendown()"
   ]
  },
  {
   "cell_type": "code",
   "execution_count": 41,
   "metadata": {},
   "outputs": [],
   "source": [
    "f = Turtle(width=600, height=600, fixed = False)"
   ]
  },
  {
   "cell_type": "code",
   "execution_count": 42,
   "metadata": {},
   "outputs": [
    {
     "name": "stdout",
     "output_type": "stream",
     "text": [
      "Draw Box for =1\n",
      "Draw Box for =1\n",
      "Draw Box for =2\n",
      "Draw Box for =3\n",
      "Draw Box for =5\n",
      "Draw Box for =8\n",
      "Draw Box for =13\n",
      "Draw Box for =21\n",
      "Draw Box for =34\n",
      "Draw Box for =55\n",
      "Draw Box for =89\n",
      "Draw Box for =144\n",
      "Draw Box for =233\n",
      "Draw Box for =377\n"
     ]
    }
   ],
   "source": [
    "for n in range(1,15):\n",
    "    drawBox(f, fib(n))"
   ]
  },
  {
   "cell_type": "code",
   "execution_count": null,
   "metadata": {},
   "outputs": [],
   "source": []
  }
 ],
 "metadata": {
  "kernelspec": {
   "display_name": "Python 3",
   "language": "python",
   "name": "python3"
  },
  "language_info": {
   "codemirror_mode": {
    "name": "ipython",
    "version": 3
   },
   "file_extension": ".py",
   "mimetype": "text/x-python",
   "name": "python",
   "nbconvert_exporter": "python",
   "pygments_lexer": "ipython3",
   "version": "3.7.6"
  }
 },
 "nbformat": 4,
 "nbformat_minor": 4
}
