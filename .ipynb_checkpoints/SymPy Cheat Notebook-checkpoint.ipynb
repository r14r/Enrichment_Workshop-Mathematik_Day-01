{
 "cells": [
  {
   "cell_type": "markdown",
   "metadata": {},
   "source": [
    "# SymPy Cheat Notebook\n",
    "\n",
    "<div style=\"text-align: right\"> \n",
    "M. Pritzkoleit, J. Winkler, 01'2019 \n",
    "<br>\n",
    "Institut für Regelungs- und Steuerungstheorie\n",
    "<br>\n",
    "TU Dresden\n",
    "</div>\n",
    "\n",
    "This notebook provides an overview about frequently used SymPy functionalities especially useful for control purposes.\n",
    "\n",
    "The documentation of the latest SymPy release can be found at : https://docs.sympy.org/latest/index.html\n",
    "\n",
    "For keyboard shortcuts drastically improving the user experience in Jupyter notebook see the help menu or press the littel keyboard icon in the command symbol line at the top of the notebook. The most important ones are:\n",
    "\n",
    "``RET`` --> Enter a cell, i.e. start edit mode (green border around cell)\n",
    "\n",
    "``ESC`` --> Leave a cell, i.e. start command mode (blue border around cell)\n",
    "\n",
    "**In edit mode:**\n",
    "\n",
    "``STRG + RET`` --> Execute current cell\n",
    "\n",
    "``SHIFT + RET`` --> Execute current cell and jump to the next cell\n",
    "\n",
    "``ALT + RET`` --> Execute current cell, open a new cell below and jump to the new cell\n",
    "\n",
    "``STRG + SHIFT + -`` --> Split current cell at cursor position\n",
    "\n",
    "**In command mode:**\n",
    "\n",
    "``A`` --> Create new cell above\n",
    "\n",
    "``B`` --> Create new cell below\n",
    "\n",
    "``D`` ``D`` --> Delete current cell\n",
    "\n",
    "``C`` --> Copy cell to clipboard\n",
    "\n",
    "``X`` --> Cut cell to clipboard\n",
    "\n",
    "``V`` --> Insert cell from clipboard below currently selected cell\n",
    "\n",
    "``SHIFT + M`` Merge current cell with cell below\n",
    "\n",
    "``M`` Convert cell to a markdown cell used for text and comments only\n",
    "\n",
    "``Y`` Change cell to a code cell used for computations (the default)"
   ]
  },
  {
   "cell_type": "markdown",
   "metadata": {},
   "source": [
    "---\n",
    "\n",
    "## Contents\n",
    "### Basics\n",
    "* [How to import SymPy?](#import)\n",
    "\n",
    "* [How to setup LaTeX printing?](#latex)\n",
    "\n",
    "### Definitions\n",
    "* [How to define a symbol?](#symbol)\n",
    "\n",
    "* [How to define multiple symbols at once?](#symbols)\n",
    "\n",
    "* [How to define a symbolic matrix expression?](#matrix-symbol)\n",
    "\n",
    "* [How to define a symbolic function of a variable?](#function)\n",
    "\n",
    "* [How to define a row vector?](#rowvector)\n",
    "\n",
    "* [How to define a column vector?](#colvector)\n",
    "\n",
    "* [How to define a 2D matrix?](#2dmatrix)\n",
    "\n",
    "### Operations\n",
    "* [How to simplify an expression?](#simplify)\n",
    "\n",
    "* [How to expand an expression?](#expand)\n",
    "\n",
    "* [How to concatenate vectors and matrices?](#concat)\n",
    "\n",
    "* [How to substitute variables by other variables?](#subs)\n",
    "\n",
    "* [How to find all symbols in an expression?](#free_symbols)\n",
    "\n",
    "### Computation\n",
    "* [How to solve an algebraic equation?](#solve)\n",
    "\n",
    "* [How to compute the rank of a matrix?](#rank)\n",
    "\n",
    "* [How to compute the inverse of a matrix?](#inverse)\n",
    "\n",
    "* [How to compute the transpose of a matrix?](#transpose)\n",
    "\n",
    "* [How to compute the eigenvalues and eigenvectors of a matrix?](#eigen)\n",
    "\n",
    "* [How to compute the controllability matrix?](#control)\n",
    "\n",
    "* [How to compute the observabiltiy matrix?](#obs)\n",
    "\n",
    "* [How to compute the jacobian of a vector?](#jacobian)\n",
    "\n",
    "* [How to compute the gradient of an expression?](#gradient)\n",
    "\n",
    "### Export\n",
    "* [How to create a callable function from an expression?](#callable)\n",
    "\n",
    "* [How to export an expression to C-code?](#ccode)"
   ]
  },
  {
   "cell_type": "markdown",
   "metadata": {},
   "source": [
    "---\n",
    "\n",
    "## Basics"
   ]
  },
  {
   "cell_type": "markdown",
   "metadata": {},
   "source": [
    "### How to import SymPy? <a class=\"anchor\" id=\"import\"></a>"
   ]
  },
  {
   "cell_type": "code",
   "execution_count": 2,
   "metadata": {},
   "outputs": [],
   "source": [
    "import sympy as sp"
   ]
  },
  {
   "cell_type": "markdown",
   "metadata": {},
   "source": [
    "### How to setup LaTeX printing? <a class=\"anchor\" id=\"latex\"></a>"
   ]
  },
  {
   "cell_type": "code",
   "execution_count": 3,
   "metadata": {},
   "outputs": [],
   "source": [
    "from sympy import init_printing\n",
    "init_printing()"
   ]
  },
  {
   "cell_type": "markdown",
   "metadata": {},
   "source": [
    "---\n",
    "\n",
    "## Definitions"
   ]
  },
  {
   "cell_type": "markdown",
   "metadata": {},
   "source": [
    "### How to define a symbol? <a class=\"anchor\" id=\"symbol\"></a>"
   ]
  },
  {
   "cell_type": "code",
   "execution_count": 4,
   "metadata": {},
   "outputs": [
    {
     "data": {
      "image/png": "[encoded data removed]",
      "text/latex": [
       "$\\displaystyle t$"
      ],
      "text/plain": [
       "t"
      ]
     },
     "execution_count": 4,
     "metadata": {},
     "output_type": "execute_result"
    }
   ],
   "source": [
    "t = sp.Symbol('t')\n",
    "t"
   ]
  },
  {
   "cell_type": "markdown",
   "metadata": {},
   "source": [
    "### How to define multiple symbols at once? <a class=\"anchor\" id=\"symbols\"></a>"
   ]
  },
  {
   "cell_type": "code",
   "execution_count": 6,
   "metadata": {},
   "outputs": [
    {
     "data": {
      "image/png": "[encoded data removed]",
      "text/latex": [
       "$\\displaystyle \\left( a, \\  b, \\  c, \\  d\\right)$"
      ],
      "text/plain": [
       "(a, b, c, d)"
      ]
     },
     "execution_count": 6,
     "metadata": {},
     "output_type": "execute_result"
    }
   ],
   "source": [
    "a, b, c, d = sp.symbols('a b c d')\n",
    "a, b, c, d"
   ]
  },
  {
   "cell_type": "markdown",
   "metadata": {},
   "source": [
    "**Note:** Only the last symbol is printed. If you want to show several symbols simultaneously use the notation shown above."
   ]
  },
  {
   "cell_type": "code",
   "execution_count": 7,
   "metadata": {},
   "outputs": [
    {
     "data": {
      "image/png": "[encoded data removed]",
      "text/latex": [
       "$\\displaystyle c$"
      ],
      "text/plain": [
       "c"
      ]
     },
     "execution_count": 7,
     "metadata": {},
     "output_type": "execute_result"
    }
   ],
   "source": [
    "a\n",
    "b\n",
    "c"
   ]
  },
  {
   "cell_type": "markdown",
   "metadata": {},
   "source": [
    "### How to define a symbolic matrix expression? <a class=\"anchor\" id=\"matrix-symbol\"></a>"
   ]
  },
  {
   "cell_type": "code",
   "execution_count": 8,
   "metadata": {},
   "outputs": [
    {
     "data": {
      "image/png": "[encoded data removed]",
      "text/latex": [
       "$\\displaystyle A$"
      ],
      "text/plain": [
       "A"
      ]
     },
     "execution_count": 8,
     "metadata": {},
     "output_type": "execute_result"
    }
   ],
   "source": [
    "A = sp.MatrixSymbol('A', 3, 3) # 3x3 dimensions\n",
    "A"
   ]
  },
  {
   "cell_type": "markdown",
   "metadata": {},
   "source": [
    "### How to define a symbolic function of a variable? <a class=\"anchor\" id=\"function\"></a>"
   ]
  },
  {
   "cell_type": "code",
   "execution_count": 9,
   "metadata": {},
   "outputs": [
    {
     "data": {
      "image/png": "[encoded data removed]",
      "text/latex": [
       "$\\displaystyle s{\\left(t \\right)}$"
      ],
      "text/plain": [
       "s(t)"
      ]
     },
     "execution_count": 9,
     "metadata": {},
     "output_type": "execute_result"
    }
   ],
   "source": [
    "s = sp.Function('s')(t)\n",
    "s"
   ]
  },
  {
   "cell_type": "markdown",
   "metadata": {},
   "source": [
    "**Note:** Definition of functions are useful if you need to differentiate the expression later, see [How to differentiate an expression?](#diff)"
   ]
  },
  {
   "cell_type": "markdown",
   "metadata": {},
   "source": [
    "### How to define a row vector? <a class=\"anchor\" id=\"rowvector\"></a>"
   ]
  },
  {
   "cell_type": "code",
   "execution_count": 10,
   "metadata": {},
   "outputs": [
    {
     "data": {
      "text/latex": [
       "$\\displaystyle \\left[\\begin{matrix}a_{1} & a_{2}\\end{matrix}\\right]$"
      ],
      "text/plain": [
       "[a₁  a₂]"
      ]
     },
     "execution_count": 10,
     "metadata": {},
     "output_type": "execute_result"
    }
   ],
   "source": [
    "a1, a2 = sp.symbols('a1, a2')\n",
    "a = sp.Matrix([[a1, a2]])\n",
    "a"
   ]
  },
  {
   "cell_type": "markdown",
   "metadata": {},
   "source": [
    "### How to define a column vector? <a class=\"anchor\" id=\"colvector\"></a>"
   ]
  },
  {
   "cell_type": "code",
   "execution_count": 11,
   "metadata": {},
   "outputs": [
    {
     "data": {
      "text/latex": [
       "$\\displaystyle \\left[\\begin{matrix}a_{1}\\\\a_{2}\\end{matrix}\\right]$"
      ],
      "text/plain": [
       "⎡a₁⎤\n",
       "⎢  ⎥\n",
       "⎣a₂⎦"
      ]
     },
     "execution_count": 11,
     "metadata": {},
     "output_type": "execute_result"
    }
   ],
   "source": [
    "a1, a2 = sp.symbols('a1, a2')\n",
    "a = sp.Matrix([[a1], [a2]])\n",
    "a"
   ]
  },
  {
   "cell_type": "markdown",
   "metadata": {},
   "source": [
    "### How to define a 2D matrix?  <a class=\"anchor\" id=\"2dmatrix\"></a>"
   ]
  },
  {
   "cell_type": "code",
   "execution_count": 12,
   "metadata": {},
   "outputs": [
    {
     "data": {
      "text/latex": [
       "$\\displaystyle \\left[\\begin{matrix}a_{11} & a_{12}\\\\a_{21} & a_{22}\\end{matrix}\\right]$"
      ],
      "text/plain": [
       "⎡a₁₁  a₁₂⎤\n",
       "⎢        ⎥\n",
       "⎣a₂₁  a₂₂⎦"
      ]
     },
     "execution_count": 12,
     "metadata": {},
     "output_type": "execute_result"
    }
   ],
   "source": [
    "a11, a12, a21, a22 = sp.symbols('a11, a12, a21, a22')\n",
    "A = sp.Matrix([[a11, a12], [a21, a22]])\n",
    "A"
   ]
  },
  {
   "cell_type": "markdown",
   "metadata": {},
   "source": [
    "---\n",
    "\n",
    "## Operations"
   ]
  },
  {
   "cell_type": "markdown",
   "metadata": {},
   "source": [
    "### How to simplify an expression? <a class=\"anchor\" id=\"simplify\"></a>"
   ]
  },
  {
   "cell_type": "code",
   "execution_count": 13,
   "metadata": {},
   "outputs": [],
   "source": [
    "a, b, c = sp.symbols('a, b, c')"
   ]
  },
  {
   "cell_type": "code",
   "execution_count": 14,
   "metadata": {},
   "outputs": [
    {
     "data": {
      "image/png": "[encoded data removed]",
      "text/latex": [
       "$\\displaystyle \\frac{a^{2} + \\frac{a}{c} + \\frac{a}{b} + b c}{a}$"
      ],
      "text/plain": [
       " 2   a   a      \n",
       "a  + ─ + ─ + b⋅c\n",
       "     c   b      \n",
       "────────────────\n",
       "       a        "
      ]
     },
     "execution_count": 14,
     "metadata": {},
     "output_type": "execute_result"
    }
   ],
   "source": [
    "d = (a/c + c*b + a**2 + a/b)/a\n",
    "d"
   ]
  },
  {
   "cell_type": "code",
   "execution_count": 15,
   "metadata": {},
   "outputs": [
    {
     "data": {
      "image/png": "[encoded data removed]",
      "text/latex": [
       "$\\displaystyle a + \\frac{1}{c} + \\frac{1}{b} + \\frac{b c}{a}$"
      ],
      "text/plain": [
       "    1   1   b⋅c\n",
       "a + ─ + ─ + ───\n",
       "    c   b    a "
      ]
     },
     "execution_count": 15,
     "metadata": {},
     "output_type": "execute_result"
    }
   ],
   "source": [
    "d.simplify()"
   ]
  },
  {
   "cell_type": "markdown",
   "metadata": {},
   "source": [
    "### How to expand an expression? <a class=\"anchor\" id=\"expand\"></a>"
   ]
  },
  {
   "cell_type": "code",
   "execution_count": 155,
   "metadata": {},
   "outputs": [],
   "source": [
    "x = sp.Symbol('x')"
   ]
  },
  {
   "cell_type": "code",
   "execution_count": 156,
   "metadata": {},
   "outputs": [
    {
     "data": {
      "image/png": "[encoded data removed]",
      "text/latex": [
       "$$\\left(x + 2\\right)^{2}$$"
      ],
      "text/plain": [
       "       2\n",
       "(x + 2) "
      ]
     },
     "execution_count": 156,
     "metadata": {},
     "output_type": "execute_result"
    }
   ],
   "source": [
    "y = (x+2)**2\n",
    "y"
   ]
  },
  {
   "cell_type": "code",
   "execution_count": 157,
   "metadata": {},
   "outputs": [],
   "source": [
    "y = y.expand()"
   ]
  },
  {
   "cell_type": "markdown",
   "metadata": {},
   "source": [
    "### How to concatenate vectors and matrices? <a class=\"anchor\" id=\"concat\"></a>"
   ]
  },
  {
   "cell_type": "code",
   "execution_count": 158,
   "metadata": {},
   "outputs": [
    {
     "data": {
      "image/png": "[encoded data removed]",
      "text/latex": [
       "$$\\left ( \\left[\\begin{matrix}a_{1}\\\\a_{2}\\end{matrix}\\right], \\quad \\left[\\begin{matrix}b_{1} & b_{2}\\end{matrix}\\right]\\right )$$"
      ],
      "text/plain": [
       "⎛⎡a₁⎤          ⎞\n",
       "⎜⎢  ⎥, [b₁  b₂]⎟\n",
       "⎝⎣a₂⎦          ⎠"
      ]
     },
     "execution_count": 158,
     "metadata": {},
     "output_type": "execute_result"
    }
   ],
   "source": [
    "a1, a2, b1, b2 = sp.symbols('a1, a2, b1, b2')\n",
    "a = sp.Matrix([[a1], [a2]]) # column vector\n",
    "b = sp.Matrix([[b1 ,b2]]) # row vector\n",
    "a, b"
   ]
  },
  {
   "cell_type": "markdown",
   "metadata": {},
   "source": [
    "Concatenate two *column* vectors columnwise:"
   ]
  },
  {
   "cell_type": "code",
   "execution_count": 159,
   "metadata": {},
   "outputs": [
    {
     "data": {
      "image/png": "[encoded data removed]",
      "text/latex": [
       "$$\\left[\\begin{matrix}a_{1} & a_{1}\\\\a_{2} & a_{2}\\end{matrix}\\right]$$"
      ],
      "text/plain": [
       "⎡a₁  a₁⎤\n",
       "⎢      ⎥\n",
       "⎣a₂  a₂⎦"
      ]
     },
     "execution_count": 159,
     "metadata": {},
     "output_type": "execute_result"
    }
   ],
   "source": [
    "c = a.row_join(a)\n",
    "c"
   ]
  },
  {
   "cell_type": "markdown",
   "metadata": {},
   "source": [
    "Concatenate two *column* in one column:"
   ]
  },
  {
   "cell_type": "code",
   "execution_count": 160,
   "metadata": {},
   "outputs": [
    {
     "data": {
      "image/png": "[encoded data removed]",
      "text/latex": [
       "$$\\left[\\begin{matrix}a_{1}\\\\a_{2}\\\\a_{1}\\\\a_{2}\\end{matrix}\\right]$$"
      ],
      "text/plain": [
       "⎡a₁⎤\n",
       "⎢  ⎥\n",
       "⎢a₂⎥\n",
       "⎢  ⎥\n",
       "⎢a₁⎥\n",
       "⎢  ⎥\n",
       "⎣a₂⎦"
      ]
     },
     "execution_count": 160,
     "metadata": {},
     "output_type": "execute_result"
    }
   ],
   "source": [
    "d = a.col_join(a)\n",
    "d"
   ]
  },
  {
   "cell_type": "markdown",
   "metadata": {},
   "source": [
    "Concatenate two *row* vectors in one row:"
   ]
  },
  {
   "cell_type": "code",
   "execution_count": 161,
   "metadata": {},
   "outputs": [
    {
     "data": {
      "image/png": "[encoded data removed]",
      "text/latex": [
       "$$\\left[\\begin{matrix}b_{1} & b_{2} & b_{1} & b_{2}\\end{matrix}\\right]$$"
      ],
      "text/plain": [
       "[b₁  b₂  b₁  b₂]"
      ]
     },
     "execution_count": 161,
     "metadata": {},
     "output_type": "execute_result"
    }
   ],
   "source": [
    "e = b.row_join(b)\n",
    "e"
   ]
  },
  {
   "cell_type": "markdown",
   "metadata": {},
   "source": [
    "Concatenate two *row* vectors rowwise:"
   ]
  },
  {
   "cell_type": "code",
   "execution_count": 162,
   "metadata": {},
   "outputs": [
    {
     "data": {
      "image/png": "[encoded data removed]",
      "text/latex": [
       "$$\\left[\\begin{matrix}b_{1} & b_{2}\\\\b_{1} & b_{2}\\end{matrix}\\right]$$"
      ],
      "text/plain": [
       "⎡b₁  b₂⎤\n",
       "⎢      ⎥\n",
       "⎣b₁  b₂⎦"
      ]
     },
     "execution_count": 162,
     "metadata": {},
     "output_type": "execute_result"
    }
   ],
   "source": [
    "f = b.col_join(b)\n",
    "f"
   ]
  },
  {
   "cell_type": "code",
   "execution_count": 163,
   "metadata": {},
   "outputs": [
    {
     "data": {
      "image/png": "[encoded data removed]",
      "text/latex": [
       "$$\\left[\\begin{matrix}a_{1} & a_{1}\\\\a_{2} & a_{2}\\\\b_{1} & b_{2}\\\\b_{1} & b_{2}\\end{matrix}\\right]$$"
      ],
      "text/plain": [
       "⎡a₁  a₁⎤\n",
       "⎢      ⎥\n",
       "⎢a₂  a₂⎥\n",
       "⎢      ⎥\n",
       "⎢b₁  b₂⎥\n",
       "⎢      ⎥\n",
       "⎣b₁  b₂⎦"
      ]
     },
     "execution_count": 163,
     "metadata": {},
     "output_type": "execute_result"
    }
   ],
   "source": [
    "g = c.col_join(f)\n",
    "g"
   ]
  },
  {
   "cell_type": "markdown",
   "metadata": {},
   "source": [
    "### How to substitute variables by other variables? <a class=\"anchor\" id=\"subs\"></a>"
   ]
  },
  {
   "cell_type": "code",
   "execution_count": 164,
   "metadata": {},
   "outputs": [
    {
     "data": {
      "image/png": "[encoded data removed]",
      "text/latex": [
       "$$\\left[\\begin{matrix}a_{1}\\\\a_{2}\\end{matrix}\\right]$$"
      ],
      "text/plain": [
       "⎡a₁⎤\n",
       "⎢  ⎥\n",
       "⎣a₂⎦"
      ]
     },
     "execution_count": 164,
     "metadata": {},
     "output_type": "execute_result"
    }
   ],
   "source": [
    "a1, a2, b1, b2 = sp.symbols('a1, a2, b1, b2')\n",
    "a = sp.Matrix([[a1], [a2]]) # column vector\n",
    "a"
   ]
  },
  {
   "cell_type": "code",
   "execution_count": 165,
   "metadata": {},
   "outputs": [
    {
     "data": {
      "image/png": "[encoded data removed]",
      "text/latex": [
       "$$\\left[\\begin{matrix}b_{1}\\\\b_{2}\\end{matrix}\\right]$$"
      ],
      "text/plain": [
       "⎡b₁⎤\n",
       "⎢  ⎥\n",
       "⎣b₂⎦"
      ]
     },
     "execution_count": 165,
     "metadata": {},
     "output_type": "execute_result"
    }
   ],
   "source": [
    "b = a.subs(([a1, b1], [a2, b2]))\n",
    "b"
   ]
  },
  {
   "cell_type": "code",
   "execution_count": 166,
   "metadata": {},
   "outputs": [
    {
     "data": {
      "image/png": "[encoded data removed]",
      "text/latex": [
       "$$\\left[\\begin{matrix}a_{2}\\\\b_{2}\\end{matrix}\\right]$$"
      ],
      "text/plain": [
       "⎡a₂⎤\n",
       "⎢  ⎥\n",
       "⎣b₂⎦"
      ]
     },
     "execution_count": 166,
     "metadata": {},
     "output_type": "execute_result"
    }
   ],
   "source": [
    "c = b.subs(b1, a2)\n",
    "c"
   ]
  },
  {
   "cell_type": "markdown",
   "metadata": {},
   "source": [
    "### How to find all symbols in an expression? <a class=\"anchor\" id=\"free_symbols\"></a>"
   ]
  },
  {
   "cell_type": "code",
   "execution_count": 167,
   "metadata": {},
   "outputs": [],
   "source": [
    "a1, a2 = sp.symbols('a1, a2')"
   ]
  },
  {
   "cell_type": "code",
   "execution_count": 168,
   "metadata": {},
   "outputs": [
    {
     "data": {
      "image/png": "[encoded data removed]",
      "text/latex": [
       "$$\\left[\\begin{matrix}a_{1}\\\\a_{1}^{2}\\end{matrix}\\right]$$"
      ],
      "text/plain": [
       "⎡a₁ ⎤\n",
       "⎢   ⎥\n",
       "⎢  2⎥\n",
       "⎣a₁ ⎦"
      ]
     },
     "execution_count": 168,
     "metadata": {},
     "output_type": "execute_result"
    }
   ],
   "source": [
    "a = sp.Matrix([[a1], [a1**2]]) # column vector\n",
    "a"
   ]
  },
  {
   "cell_type": "code",
   "execution_count": 169,
   "metadata": {},
   "outputs": [
    {
     "data": {
      "image/png": "[encoded data removed]",
      "text/latex": [
       "$$\\left\\{a_{1}\\right\\}$$"
      ],
      "text/plain": [
       "{a₁}"
      ]
     },
     "execution_count": 169,
     "metadata": {},
     "output_type": "execute_result"
    }
   ],
   "source": [
    "a.free_symbols"
   ]
  },
  {
   "cell_type": "code",
   "execution_count": 170,
   "metadata": {},
   "outputs": [
    {
     "data": {
      "image/png": "[encoded data removed]",
      "text/latex": [
       "$$\\left[\\begin{matrix}a_{1} a_{2}\\\\a_{1}^{2}\\end{matrix}\\right]$$"
      ],
      "text/plain": [
       "⎡a₁⋅a₂⎤\n",
       "⎢     ⎥\n",
       "⎢   2 ⎥\n",
       "⎣ a₁  ⎦"
      ]
     },
     "execution_count": 170,
     "metadata": {},
     "output_type": "execute_result"
    }
   ],
   "source": [
    "b = sp.Matrix([[a1*a2], [a1**2]]) # column vector\n",
    "b"
   ]
  },
  {
   "cell_type": "code",
   "execution_count": 171,
   "metadata": {},
   "outputs": [
    {
     "data": {
      "image/png": "[encoded data removed]",
      "text/latex": [
       "$$\\left\\{a_{1}, a_{2}\\right\\}$$"
      ],
      "text/plain": [
       "{a₁, a₂}"
      ]
     },
     "execution_count": 171,
     "metadata": {},
     "output_type": "execute_result"
    }
   ],
   "source": [
    "b.free_symbols"
   ]
  },
  {
   "cell_type": "markdown",
   "metadata": {},
   "source": [
    "---\n",
    "\n",
    "## Computation"
   ]
  },
  {
   "cell_type": "markdown",
   "metadata": {},
   "source": [
    "### How to solve an algebraic equation for a symbol? <a class=\"anchor\" id=\"solve\"></a>"
   ]
  },
  {
   "cell_type": "code",
   "execution_count": 172,
   "metadata": {},
   "outputs": [],
   "source": [
    "a1, a2, b1, b2 = sp.symbols('a1, a2, b1, b2')"
   ]
  },
  {
   "cell_type": "code",
   "execution_count": 173,
   "metadata": {},
   "outputs": [],
   "source": [
    "a = a1/a2 + b2 # a = 0 "
   ]
  },
  {
   "cell_type": "code",
   "execution_count": 174,
   "metadata": {},
   "outputs": [
    {
     "data": {
      "image/png": "[encoded data removed]",
      "text/latex": [
       "$$\\left [ - \\frac{a_{1}}{a_{2}}\\right ]$$"
      ],
      "text/plain": [
       "⎡-a₁ ⎤\n",
       "⎢────⎥\n",
       "⎣ a₂ ⎦"
      ]
     },
     "execution_count": 174,
     "metadata": {},
     "output_type": "execute_result"
    }
   ],
   "source": [
    "b = sp.solve(a, b2)\n",
    "b"
   ]
  },
  {
   "cell_type": "markdown",
   "metadata": {},
   "source": [
    "### How to differentiate an expression? <a class=\"anchor\" id=\"diff\"></a>"
   ]
  },
  {
   "cell_type": "code",
   "execution_count": 175,
   "metadata": {},
   "outputs": [
    {
     "data": {
      "image/png": "[encoded data removed]",
      "text/latex": [
       "$$\\left ( \\left[\\begin{matrix}x{\\left (t \\right )}\\\\y{\\left (t \\right )}\\end{matrix}\\right], \\quad \\left[\\begin{matrix}a_{1} & b_{1}\\\\a_{2} & a_{1} b_{2}\\end{matrix}\\right]\\right )$$"
      ],
      "text/plain": [
       "⎛⎡x(t)⎤  ⎡a₁   b₁  ⎤⎞\n",
       "⎜⎢    ⎥, ⎢         ⎥⎟\n",
       "⎝⎣y(t)⎦  ⎣a₂  a₁⋅b₂⎦⎠"
      ]
     },
     "execution_count": 175,
     "metadata": {},
     "output_type": "execute_result"
    }
   ],
   "source": [
    "# Symbols do not depend on anything\n",
    "a1, a2, b1, b2 = sp.symbols('a1, a2, b1, b2')\n",
    "t = sp.Symbol('t')\n",
    "\n",
    "# Functions depend on something, here t\n",
    "x = sp.Function('x')(t)\n",
    "y = sp.Function('y')(t)\n",
    "\n",
    "# More complex expressions consisting of symbols and functions\n",
    "f = sp.Matrix([x, y])\n",
    "g = sp.Matrix([[a1, b1], [a2, a1*b2]])\n",
    "f, g"
   ]
  },
  {
   "cell_type": "code",
   "execution_count": 176,
   "metadata": {},
   "outputs": [
    {
     "data": {
      "image/png": "[encoded data removed]",
      "text/latex": [
       "$$\\frac{d}{d t} x{\\left (t \\right )}$$"
      ],
      "text/plain": [
       "d       \n",
       "──(x(t))\n",
       "dt      "
      ]
     },
     "execution_count": 176,
     "metadata": {},
     "output_type": "execute_result"
    }
   ],
   "source": [
    "x.diff(t)"
   ]
  },
  {
   "cell_type": "code",
   "execution_count": 177,
   "metadata": {},
   "outputs": [
    {
     "data": {
      "image/png": "[encoded data removed]",
      "text/latex": [
       "$$0$$"
      ],
      "text/plain": [
       "0"
      ]
     },
     "execution_count": 177,
     "metadata": {},
     "output_type": "execute_result"
    }
   ],
   "source": [
    "a1.diff(t)"
   ]
  },
  {
   "cell_type": "code",
   "execution_count": 178,
   "metadata": {},
   "outputs": [
    {
     "data": {
      "image/png": "[encoded data removed]",
      "text/latex": [
       "$$\\left[\\begin{matrix}\\frac{d}{d t} x{\\left (t \\right )}\\\\\\frac{d}{d t} y{\\left (t \\right )}\\end{matrix}\\right]$$"
      ],
      "text/plain": [
       "⎡d       ⎤\n",
       "⎢──(x(t))⎥\n",
       "⎢dt      ⎥\n",
       "⎢        ⎥\n",
       "⎢d       ⎥\n",
       "⎢──(y(t))⎥\n",
       "⎣dt      ⎦"
      ]
     },
     "execution_count": 178,
     "metadata": {},
     "output_type": "execute_result"
    }
   ],
   "source": [
    "f.diff(t)"
   ]
  },
  {
   "cell_type": "code",
   "execution_count": 179,
   "metadata": {},
   "outputs": [
    {
     "data": {
      "image/png": "[encoded data removed]",
      "text/latex": [
       "$$\\left[\\begin{matrix}0 & 0\\\\0 & 0\\end{matrix}\\right]$$"
      ],
      "text/plain": [
       "⎡0  0⎤\n",
       "⎢    ⎥\n",
       "⎣0  0⎦"
      ]
     },
     "execution_count": 179,
     "metadata": {},
     "output_type": "execute_result"
    }
   ],
   "source": [
    "g.diff(t)"
   ]
  },
  {
   "cell_type": "code",
   "execution_count": 180,
   "metadata": {},
   "outputs": [
    {
     "data": {
      "image/png": "[encoded data removed]",
      "text/latex": [
       "$$\\left[\\begin{matrix}1 & 0\\\\0 & b_{2}\\end{matrix}\\right]$$"
      ],
      "text/plain": [
       "⎡1  0 ⎤\n",
       "⎢     ⎥\n",
       "⎣0  b₂⎦"
      ]
     },
     "execution_count": 180,
     "metadata": {},
     "output_type": "execute_result"
    }
   ],
   "source": [
    "g.diff(a1)"
   ]
  },
  {
   "cell_type": "code",
   "execution_count": 181,
   "metadata": {},
   "outputs": [
    {
     "data": {
      "image/png": "[encoded data removed]",
      "text/latex": [
       "$$0.25 t^{2} + 5 t$$"
      ],
      "text/plain": [
       "      2      \n",
       "0.25⋅t  + 5⋅t"
      ]
     },
     "execution_count": 181,
     "metadata": {},
     "output_type": "execute_result"
    }
   ],
   "source": [
    "s = 1/4*t**2 + 5*t\n",
    "s"
   ]
  },
  {
   "cell_type": "code",
   "execution_count": 182,
   "metadata": {},
   "outputs": [
    {
     "data": {
      "image/png": "[encoded data removed]",
      "text/latex": [
       "$$0.5 t + 5$$"
      ],
      "text/plain": [
       "0.5⋅t + 5"
      ]
     },
     "execution_count": 182,
     "metadata": {},
     "output_type": "execute_result"
    }
   ],
   "source": [
    "v = s.diff(t) # = s.diff(t, 1)\n",
    "v"
   ]
  },
  {
   "cell_type": "markdown",
   "metadata": {},
   "source": [
    "2.nd derivative"
   ]
  },
  {
   "cell_type": "code",
   "execution_count": 183,
   "metadata": {},
   "outputs": [
    {
     "data": {
      "image/png": "[encoded data removed]",
      "text/latex": [
       "$$0.5$$"
      ],
      "text/plain": [
       "0.500000000000000"
      ]
     },
     "execution_count": 183,
     "metadata": {},
     "output_type": "execute_result"
    }
   ],
   "source": [
    "a = s.diff(t, 2)\n",
    "a"
   ]
  },
  {
   "cell_type": "markdown",
   "metadata": {},
   "source": [
    "### How to compute the jacobian of a function? <a class=\"anchor\" id=\"jacbobian\"></a>\n",
    "\n",
    "Given a vector-valued function $f : \\mathbb{R}^2 \\to \\mathbb{R}^2$ with $f(x) = \\left(f_1, f_2\\right)^T = \\left(x_1 x_2, x_2^2\\right)^T$ and $x = \\left(x_1, x_2\\right)^T$ we want to calculate the Jacobian\n",
    "\n",
    "$$\n",
    "\\begin{pmatrix}\n",
    "\\frac{\\partial f_1}{x_1} & \\frac{\\partial f_1}{x_2}\\\\\n",
    "\\frac{\\partial f_2}{x_1} & \\frac{\\partial f_2}{x_2}\n",
    "\\end{pmatrix}\n",
    "$$"
   ]
  },
  {
   "cell_type": "markdown",
   "metadata": {},
   "source": [
    "Define the independent variables and hold them in a vector:"
   ]
  },
  {
   "cell_type": "code",
   "execution_count": 184,
   "metadata": {},
   "outputs": [],
   "source": [
    "x1, x2 = sp.symbols('x_1, x_2')"
   ]
  },
  {
   "cell_type": "code",
   "execution_count": 185,
   "metadata": {},
   "outputs": [
    {
     "data": {
      "image/png": "[encoded data removed]",
      "text/latex": [
       "$$\\left[\\begin{matrix}x_{1}\\\\x_{2}\\end{matrix}\\right]$$"
      ],
      "text/plain": [
       "⎡x₁⎤\n",
       "⎢  ⎥\n",
       "⎣x₂⎦"
      ]
     },
     "execution_count": 185,
     "metadata": {},
     "output_type": "execute_result"
    }
   ],
   "source": [
    "x = sp.Matrix([[x1], [x2]])\n",
    "x"
   ]
  },
  {
   "cell_type": "markdown",
   "metadata": {},
   "source": [
    "Define the vector valued function:"
   ]
  },
  {
   "cell_type": "code",
   "execution_count": 186,
   "metadata": {},
   "outputs": [
    {
     "data": {
      "image/png": "[encoded data removed]",
      "text/latex": [
       "$$\\left[\\begin{matrix}x_{1} x_{2}\\\\x_{2}^{2}\\end{matrix}\\right]$$"
      ],
      "text/plain": [
       "⎡x₁⋅x₂⎤\n",
       "⎢     ⎥\n",
       "⎢   2 ⎥\n",
       "⎣ x₂  ⎦"
      ]
     },
     "execution_count": 186,
     "metadata": {},
     "output_type": "execute_result"
    }
   ],
   "source": [
    "f = sp.Matrix([[x1*x2], [x2**2]])\n",
    "f"
   ]
  },
  {
   "cell_type": "markdown",
   "metadata": {},
   "source": [
    "Calculate the Jacobian:"
   ]
  },
  {
   "cell_type": "code",
   "execution_count": 187,
   "metadata": {},
   "outputs": [
    {
     "data": {
      "image/png": "[encoded data removed]",
      "text/latex": [
       "$$\\left[\\begin{matrix}x_{2} & x_{1}\\\\0 & 2 x_{2}\\end{matrix}\\right]$$"
      ],
      "text/plain": [
       "⎡x₂   x₁ ⎤\n",
       "⎢        ⎥\n",
       "⎣0   2⋅x₂⎦"
      ]
     },
     "execution_count": 187,
     "metadata": {},
     "output_type": "execute_result"
    }
   ],
   "source": [
    "f.jacobian(x)"
   ]
  },
  {
   "cell_type": "markdown",
   "metadata": {},
   "source": [
    "### How to compute the rank of a matrix? <a class=\"anchor\" id=\"rank\"></a>"
   ]
  },
  {
   "cell_type": "code",
   "execution_count": 188,
   "metadata": {},
   "outputs": [],
   "source": [
    "a1, a2, b1, b2 = sp.symbols('a1, a2, b1, b2')"
   ]
  },
  {
   "cell_type": "code",
   "execution_count": 189,
   "metadata": {},
   "outputs": [
    {
     "data": {
      "image/png": "[encoded data removed]",
      "text/latex": [
       "$$\\left[\\begin{matrix}a_{1} b_{2} & b_{2}\\\\a_{2} b_{1}^{2} & a_{2}^{2}\\end{matrix}\\right]$$"
      ],
      "text/plain": [
       "⎡a₁⋅b₂   b₂ ⎤\n",
       "⎢           ⎥\n",
       "⎢     2    2⎥\n",
       "⎣a₂⋅b₁   a₂ ⎦"
      ]
     },
     "execution_count": 189,
     "metadata": {},
     "output_type": "execute_result"
    }
   ],
   "source": [
    "A = sp.Matrix([[a1*b2, b2], [a2*b1**2, a2**2]])\n",
    "A"
   ]
  },
  {
   "cell_type": "code",
   "execution_count": 190,
   "metadata": {},
   "outputs": [
    {
     "data": {
      "image/png": "[encoded data removed]",
      "text/latex": [
       "$$2$$"
      ],
      "text/plain": [
       "2"
      ]
     },
     "execution_count": 190,
     "metadata": {},
     "output_type": "execute_result"
    }
   ],
   "source": [
    "r = A.rank()\n",
    "r"
   ]
  },
  {
   "cell_type": "code",
   "execution_count": 191,
   "metadata": {},
   "outputs": [
    {
     "data": {
      "image/png": "[encoded data removed]",
      "text/latex": [
       "$$\\left[\\begin{matrix}a_{1} b_{2} & b_{2}\\\\a_{1} b_{2}^{2} & b_{2}^{2}\\end{matrix}\\right]$$"
      ],
      "text/plain": [
       "⎡a₁⋅b₂   b₂ ⎤\n",
       "⎢           ⎥\n",
       "⎢     2    2⎥\n",
       "⎣a₁⋅b₂   b₂ ⎦"
      ]
     },
     "execution_count": 191,
     "metadata": {},
     "output_type": "execute_result"
    }
   ],
   "source": [
    "B = sp.Matrix([[a1*b2, b2], [a1*b2**2, b2**2]])\n",
    "B"
   ]
  },
  {
   "cell_type": "code",
   "execution_count": 192,
   "metadata": {},
   "outputs": [
    {
     "data": {
      "image/png": "[encoded data removed]",
      "text/latex": [
       "$$1$$"
      ],
      "text/plain": [
       "1"
      ]
     },
     "execution_count": 192,
     "metadata": {},
     "output_type": "execute_result"
    }
   ],
   "source": [
    "r = B.rank()\n",
    "r"
   ]
  },
  {
   "cell_type": "markdown",
   "metadata": {},
   "source": [
    "\n",
    "### How to compute the inverse of a matrix? <a class=\"anchor\" id=\"inverse\"></a>"
   ]
  },
  {
   "cell_type": "code",
   "execution_count": 193,
   "metadata": {},
   "outputs": [
    {
     "data": {
      "image/png": "[encoded data removed]",
      "text/latex": [
       "$$\\left[\\begin{matrix}a_{1} a_{3} & a_{2}\\\\a_{2} a_{4}^{2} & a_{2}^{2}\\end{matrix}\\right]$$"
      ],
      "text/plain": [
       "⎡a₁⋅a₃   a₂ ⎤\n",
       "⎢           ⎥\n",
       "⎢     2    2⎥\n",
       "⎣a₂⋅a₄   a₂ ⎦"
      ]
     },
     "execution_count": 193,
     "metadata": {},
     "output_type": "execute_result"
    }
   ],
   "source": [
    "a1, a2, a3, a4 = sp.symbols('a_1, a_2, a_3, a_4')\n",
    "A = sp.Matrix([[a1*a3, a2], [a2*a4**2, a2**2]])\n",
    "A"
   ]
  },
  {
   "cell_type": "code",
   "execution_count": 194,
   "metadata": {},
   "outputs": [
    {
     "data": {
      "image/png": "[encoded data removed]",
      "text/latex": [
       "$$\\left[\\begin{matrix}\\frac{a_{2}^{2}}{a_{1} a_{2}^{2} a_{3} - a_{2}^{2} a_{4}^{2}} & - \\frac{a_{2}}{a_{1} a_{2}^{2} a_{3} - a_{2}^{2} a_{4}^{2}}\\\\- \\frac{a_{2} a_{4}^{2}}{a_{1} a_{2}^{2} a_{3} - a_{2}^{2} a_{4}^{2}} & \\frac{a_{1} a_{3}}{a_{1} a_{2}^{2} a_{3} - a_{2}^{2} a_{4}^{2}}\\end{matrix}\\right]$$"
      ],
      "text/plain": [
       "⎡          2                             ⎤\n",
       "⎢        a₂                   -a₂        ⎥\n",
       "⎢───────────────────  ───────────────────⎥\n",
       "⎢     2        2   2       2        2   2⎥\n",
       "⎢a₁⋅a₂ ⋅a₃ - a₂ ⋅a₄   a₁⋅a₂ ⋅a₃ - a₂ ⋅a₄ ⎥\n",
       "⎢                                        ⎥\n",
       "⎢            2                           ⎥\n",
       "⎢      -a₂⋅a₄                a₁⋅a₃       ⎥\n",
       "⎢───────────────────  ───────────────────⎥\n",
       "⎢     2        2   2       2        2   2⎥\n",
       "⎣a₁⋅a₂ ⋅a₃ - a₂ ⋅a₄   a₁⋅a₂ ⋅a₃ - a₂ ⋅a₄ ⎦"
      ]
     },
     "execution_count": 194,
     "metadata": {},
     "output_type": "execute_result"
    }
   ],
   "source": [
    "A.inv()"
   ]
  },
  {
   "cell_type": "markdown",
   "metadata": {},
   "source": [
    "### How to compute the transpose of a matrix? <a class=\"anchor\" id=\"transpose\"></a>"
   ]
  },
  {
   "cell_type": "code",
   "execution_count": 195,
   "metadata": {},
   "outputs": [
    {
     "data": {
      "image/png": "[encoded data removed]",
      "text/latex": [
       "$$\\left[\\begin{matrix}a_{11} & a_{12} & a_{13}\\\\a_{21} & a_{22} & a_{23}\\\\a_{31} & a_{32} & a_{33}\\end{matrix}\\right]$$"
      ],
      "text/plain": [
       "⎡a_{11}  a_{12}  a_{13}⎤\n",
       "⎢                      ⎥\n",
       "⎢a_{21}  a_{22}  a_{23}⎥\n",
       "⎢                      ⎥\n",
       "⎣a_{31}  a_{32}  a_{33}⎦"
      ]
     },
     "execution_count": 195,
     "metadata": {},
     "output_type": "execute_result"
    }
   ],
   "source": [
    "a11, a12, a13, a21, a22, a23, a31, a32, a33 = sp.symbols('a_{11}, a_{12}, a_{13}, a_{21}, a_{22}, a_{23}, a_{31}, a_{32}, a_{33}')\n",
    "A = sp.Matrix([[a11, a12, a13], [a21, a22, a23], [a31, a32, a33]])\n",
    "A"
   ]
  },
  {
   "cell_type": "code",
   "execution_count": 196,
   "metadata": {},
   "outputs": [
    {
     "data": {
      "image/png": "[encoded data removed]",
      "text/latex": [
       "$$\\left[\\begin{matrix}a_{11} & a_{21} & a_{31}\\\\a_{12} & a_{22} & a_{32}\\\\a_{13} & a_{23} & a_{33}\\end{matrix}\\right]$$"
      ],
      "text/plain": [
       "⎡a_{11}  a_{21}  a_{31}⎤\n",
       "⎢                      ⎥\n",
       "⎢a_{12}  a_{22}  a_{32}⎥\n",
       "⎢                      ⎥\n",
       "⎣a_{13}  a_{23}  a_{33}⎦"
      ]
     },
     "execution_count": 196,
     "metadata": {},
     "output_type": "execute_result"
    }
   ],
   "source": [
    "A.T"
   ]
  },
  {
   "cell_type": "markdown",
   "metadata": {},
   "source": [
    "### How to compute the eigenvalues and eigenvectors of a matrix? <a class=\"anchor\" id=\"eigen\"></a>"
   ]
  },
  {
   "cell_type": "code",
   "execution_count": 197,
   "metadata": {},
   "outputs": [
    {
     "data": {
      "image/png": "[encoded data removed]",
      "text/latex": [
       "$$\\left[\\begin{matrix}a_{11} & a_{12}\\\\a_{21} & a_{22}\\end{matrix}\\right]$$"
      ],
      "text/plain": [
       "⎡a_{11}  a_{12}⎤\n",
       "⎢              ⎥\n",
       "⎣a_{21}  a_{22}⎦"
      ]
     },
     "execution_count": 197,
     "metadata": {},
     "output_type": "execute_result"
    }
   ],
   "source": [
    "a11, a12, a21, a22 = sp.symbols('a_{11}, a_{12}, a_{21}, a_{22}')\n",
    "A = sp.Matrix([[a11, a12], [a21, a22]])\n",
    "A"
   ]
  },
  {
   "cell_type": "code",
   "execution_count": 198,
   "metadata": {},
   "outputs": [
    {
     "data": {
      "image/png": "[encoded data removed]",
      "text/latex": [
       "$$\\left \\{ \\frac{a_{11}}{2} + \\frac{a_{22}}{2} - \\frac{\\sqrt{a_{11}^{2} - 2 a_{11} a_{22} + 4 a_{12} a_{21} + a_{22}^{2}}}{2} : 1, \\quad \\frac{a_{11}}{2} + \\frac{a_{22}}{2} + \\frac{\\sqrt{a_{11}^{2} - 2 a_{11} a_{22} + 4 a_{12} a_{21} + a_{22}^{2}}}{2} : 1\\right \\}$$"
      ],
      "text/plain": [
       "⎧                     _______________________________________________________ \n",
       "⎪                    ╱       2                                             2  \n",
       "⎨a_{11}   a_{22}   ╲╱  a_{11}  - 2⋅a_{11}⋅a_{22} + 4⋅a_{12}⋅a_{21} + a_{22}   \n",
       "⎪────── + ────── - ──────────────────────────────────────────────────────────:\n",
       "⎩  2        2                                  2                              \n",
       "\n",
       "                         _____________________________________________________\n",
       "                        ╱       2                                             \n",
       "    a_{11}   a_{22}   ╲╱  a_{11}  - 2⋅a_{11}⋅a_{22} + 4⋅a_{12}⋅a_{21} + a_{22}\n",
       " 1, ────── + ────── + ────────────────────────────────────────────────────────\n",
       "      2        2                                  2                           \n",
       "\n",
       "__   ⎫\n",
       "2    ⎪\n",
       "     ⎬\n",
       "──: 1⎪\n",
       "     ⎭"
      ]
     },
     "execution_count": 198,
     "metadata": {},
     "output_type": "execute_result"
    }
   ],
   "source": [
    "A.eigenvals()"
   ]
  },
  {
   "cell_type": "markdown",
   "metadata": {},
   "source": [
    "This is a dictionary. Each entry consists of the eigenvalue as key and its algebraic multiplicity as value. Use ``list(A.eigenvals().keys())`` to access the eigenvalues only:"
   ]
  },
  {
   "cell_type": "code",
   "execution_count": 199,
   "metadata": {},
   "outputs": [
    {
     "data": {
      "image/png": "[encoded data removed]",
      "text/latex": [
       "$$\\left [ \\frac{a_{11}}{2} + \\frac{a_{22}}{2} - \\frac{\\sqrt{a_{11}^{2} - 2 a_{11} a_{22} + 4 a_{12} a_{21} + a_{22}^{2}}}{2}, \\quad \\frac{a_{11}}{2} + \\frac{a_{22}}{2} + \\frac{\\sqrt{a_{11}^{2} - 2 a_{11} a_{22} + 4 a_{12} a_{21} + a_{22}^{2}}}{2}\\right ]$$"
      ],
      "text/plain": [
       "⎡                     _______________________________________________________ \n",
       "⎢                    ╱       2                                             2  \n",
       "⎢a_{11}   a_{22}   ╲╱  a_{11}  - 2⋅a_{11}⋅a_{22} + 4⋅a_{12}⋅a_{21} + a_{22}   \n",
       "⎢────── + ────── - ──────────────────────────────────────────────────────────,\n",
       "⎣  2        2                                  2                              \n",
       "\n",
       "                      _______________________________________________________⎤\n",
       "                     ╱       2                                             2 ⎥\n",
       " a_{11}   a_{22}   ╲╱  a_{11}  - 2⋅a_{11}⋅a_{22} + 4⋅a_{12}⋅a_{21} + a_{22}  ⎥\n",
       " ────── + ────── + ──────────────────────────────────────────────────────────⎥\n",
       "   2        2                                  2                             ⎦"
      ]
     },
     "execution_count": 199,
     "metadata": {},
     "output_type": "execute_result"
    }
   ],
   "source": [
    "EV=A.eigenvals()\n",
    "list(EV.keys())"
   ]
  },
  {
   "cell_type": "code",
   "execution_count": 200,
   "metadata": {
    "scrolled": true
   },
   "outputs": [
    {
     "data": {
      "image/png": "[encoded data removed]",
      "text/latex": [
       "$$\\left [ \\left ( \\frac{a_{11}}{2} + \\frac{a_{22}}{2} - \\frac{\\sqrt{a_{11}^{2} - 2 a_{11} a_{22} + 4 a_{12} a_{21} + a_{22}^{2}}}{2}, \\quad 1, \\quad \\left [ \\left[\\begin{matrix}- \\frac{a_{12}}{\\frac{a_{11}}{2} - \\frac{a_{22}}{2} + \\frac{\\sqrt{a_{11}^{2} - 2 a_{11} a_{22} + 4 a_{12} a_{21} + a_{22}^{2}}}{2}}\\\\1\\end{matrix}\\right]\\right ]\\right ), \\quad \\left ( \\frac{a_{11}}{2} + \\frac{a_{22}}{2} + \\frac{\\sqrt{a_{11}^{2} - 2 a_{11} a_{22} + 4 a_{12} a_{21} + a_{22}^{2}}}{2}, \\quad 1, \\quad \\left [ \\left[\\begin{matrix}- \\frac{a_{12}}{\\frac{a_{11}}{2} - \\frac{a_{22}}{2} - \\frac{\\sqrt{a_{11}^{2} - 2 a_{11} a_{22} + 4 a_{12} a_{21} + a_{22}^{2}}}{2}}\\\\1\\end{matrix}\\right]\\right ]\\right )\\right ]$$"
      ],
      "text/plain": [
       "⎡⎛                                                                            \n",
       "⎢⎜                     _______________________________________________________\n",
       "⎢⎜                    ╱       2                                             2 \n",
       "⎢⎜a_{11}   a_{22}   ╲╱  a_{11}  - 2⋅a_{11}⋅a_{22} + 4⋅a_{12}⋅a_{21} + a_{22}  \n",
       "⎢⎜────── + ────── - ──────────────────────────────────────────────────────────\n",
       "⎢⎜  2        2                                  2                             \n",
       "⎢⎜                                                                            \n",
       "⎢⎜                                                                            \n",
       "⎣⎝                                                                            \n",
       "\n",
       "     ⎡⎡                                  -a_{12}                              \n",
       "     ⎢⎢───────────────────────────────────────────────────────────────────────\n",
       "     ⎢⎢                     __________________________________________________\n",
       "     ⎢⎢                    ╱       2                                          \n",
       ", 1, ⎢⎢a_{11}   a_{22}   ╲╱  a_{11}  - 2⋅a_{11}⋅a_{22} + 4⋅a_{12}⋅a_{21} + a_{\n",
       "     ⎢⎢────── - ────── + ─────────────────────────────────────────────────────\n",
       "     ⎢⎢  2        2                                  2                        \n",
       "     ⎢⎢                                                                       \n",
       "     ⎣⎣                                     1                                 \n",
       "\n",
       "     ⎤⎤⎞  ⎛                                                                   \n",
       "─────⎥⎥⎟  ⎜                     ______________________________________________\n",
       "_____⎥⎥⎟  ⎜                    ╱       2                                      \n",
       "   2 ⎥⎥⎟  ⎜a_{11}   a_{22}   ╲╱  a_{11}  - 2⋅a_{11}⋅a_{22} + 4⋅a_{12}⋅a_{21} +\n",
       "22}  ⎥⎥⎟, ⎜────── + ────── + ─────────────────────────────────────────────────\n",
       "─────⎥⎥⎟  ⎜  2        2                                  2                    \n",
       "     ⎥⎥⎟  ⎜                                                                   \n",
       "     ⎥⎥⎟  ⎜                                                                   \n",
       "     ⎦⎦⎠  ⎝                                                                   \n",
       "\n",
       "              ⎡⎡                                  -a_{12}                     \n",
       "_________     ⎢⎢──────────────────────────────────────────────────────────────\n",
       "       2      ⎢⎢                     _________________________________________\n",
       " a_{22}       ⎢⎢                    ╱       2                                 \n",
       "─────────, 1, ⎢⎢a_{11}   a_{22}   ╲╱  a_{11}  - 2⋅a_{11}⋅a_{22} + 4⋅a_{12}⋅a_{\n",
       "              ⎢⎢────── - ────── - ────────────────────────────────────────────\n",
       "              ⎢⎢  2        2                                  2               \n",
       "              ⎢⎢                                                              \n",
       "              ⎣⎣                                     1                        \n",
       "\n",
       "              ⎤⎤⎞⎤\n",
       "──────────────⎥⎥⎟⎥\n",
       "______________⎥⎥⎟⎥\n",
       "            2 ⎥⎥⎟⎥\n",
       "21} + a_{22}  ⎥⎥⎟⎥\n",
       "──────────────⎥⎥⎟⎥\n",
       "              ⎥⎥⎟⎥\n",
       "              ⎥⎥⎟⎥\n",
       "              ⎦⎦⎠⎦"
      ]
     },
     "execution_count": 200,
     "metadata": {},
     "output_type": "execute_result"
    }
   ],
   "source": [
    "A.eigenvects()"
   ]
  },
  {
   "cell_type": "markdown",
   "metadata": {},
   "source": [
    "For each eigenvalue this command returns a tuple containing the eigenvalue, its algebraic multiplicity and the corresponding eigenvector(s). See https://docs.sympy.org/latest/tutorial/matrices.html#eigenvalues-eigenvectors-and-diagonalization for more details."
   ]
  },
  {
   "cell_type": "markdown",
   "metadata": {},
   "source": [
    "### How to compute the observability matrix? <a class=\"anchor\" id=\"obs\"></a>\n",
    "\n",
    "We want to calculate the observability matrix\n",
    "\n",
    "\\begin{pmatrix}\n",
    "c\\\\\n",
    "c\\cdot A\\\\\n",
    "c\\cdot A^2\n",
    "\\end{pmatrix}"
   ]
  },
  {
   "cell_type": "code",
   "execution_count": 201,
   "metadata": {},
   "outputs": [
    {
     "data": {
      "image/png": "[encoded data removed]",
      "text/latex": [
       "$$\\left[\\begin{matrix}a_{11} & a_{12} & a_{13}\\\\a_{21} & a_{22} & a_{23}\\\\a_{31} & a_{32} & a_{33}\\end{matrix}\\right]$$"
      ],
      "text/plain": [
       "⎡a_{11}  a_{12}  a_{13}⎤\n",
       "⎢                      ⎥\n",
       "⎢a_{21}  a_{22}  a_{23}⎥\n",
       "⎢                      ⎥\n",
       "⎣a_{31}  a_{32}  a_{33}⎦"
      ]
     },
     "execution_count": 201,
     "metadata": {},
     "output_type": "execute_result"
    }
   ],
   "source": [
    "a11, a12, a13, a21, a22, a23, a31, a32, a33 = sp.symbols('a_{11}, a_{12}, a_{13}, a_{21}, a_{22}, a_{23}, a_{31}, a_{32}, a_{33}')\n",
    "A = sp.Matrix([[a11, a12, a13], [a21, a22, a23], [a31, a32, a33]])\n",
    "A"
   ]
  },
  {
   "cell_type": "code",
   "execution_count": 202,
   "metadata": {},
   "outputs": [
    {
     "data": {
      "image/png": "[encoded data removed]",
      "text/latex": [
       "$$\\left[\\begin{matrix}c_{1} & c_{2} & c_{3}\\end{matrix}\\right]$$"
      ],
      "text/plain": [
       "[c₁  c₂  c₃]"
      ]
     },
     "execution_count": 202,
     "metadata": {},
     "output_type": "execute_result"
    }
   ],
   "source": [
    "c1, c2, c3 = sp.symbols('c_1, c_2, c_3')\n",
    "c = sp.Matrix([[c1, c2, c3]])\n",
    "c"
   ]
  },
  {
   "cell_type": "markdown",
   "metadata": {},
   "source": [
    "Since $c$, $c \\cdot A$, $\\ldots$ are row vectors, it is straightforward how to build the matrix:"
   ]
  },
  {
   "cell_type": "code",
   "execution_count": 203,
   "metadata": {},
   "outputs": [
    {
     "data": {
      "image/png": "[encoded data removed]",
      "text/latex": [
       "$$\\left[\\begin{matrix}c_{1} & c_{2} & c_{3}\\\\a_{11} c_{1} + a_{21} c_{2} + a_{31} c_{3} & a_{12} c_{1} + a_{22} c_{2} + a_{32} c_{3} & a_{13} c_{1} + a_{23} c_{2} + a_{33} c_{3}\\\\c_{1} \\left(a_{11}^{2} + a_{12} a_{21} + a_{13} a_{31}\\right) + c_{2} \\left(a_{11} a_{21} + a_{21} a_{22} + a_{23} a_{31}\\right) + c_{3} \\left(a_{11} a_{31} + a_{21} a_{32} + a_{31} a_{33}\\right) & c_{1} \\left(a_{11} a_{12} + a_{12} a_{22} + a_{13} a_{32}\\right) + c_{2} \\left(a_{12} a_{21} + a_{22}^{2} + a_{23} a_{32}\\right) + c_{3} \\left(a_{12} a_{31} + a_{22} a_{32} + a_{32} a_{33}\\right) & c_{1} \\left(a_{11} a_{13} + a_{12} a_{23} + a_{13} a_{33}\\right) + c_{2} \\left(a_{13} a_{21} + a_{22} a_{23} + a_{23} a_{33}\\right) + c_{3} \\left(a_{13} a_{31} + a_{23} a_{32} + a_{33}^{2}\\right)\\end{matrix}\\right]$$"
      ],
      "text/plain": [
       "⎡                                                                          c₁ \n",
       "⎢                                                                             \n",
       "⎢                                                          a_{11}⋅c₁ + a_{21}⋅\n",
       "⎢                                                                             \n",
       "⎢   ⎛      2                                ⎞                                 \n",
       "⎣c₁⋅⎝a_{11}  + a_{12}⋅a_{21} + a_{13}⋅a_{31}⎠ + c₂⋅(a_{11}⋅a_{21} + a_{21}⋅a_{\n",
       "\n",
       "                                                                              \n",
       "                                                                              \n",
       "c₂ + a_{31}⋅c₃                                                                \n",
       "                                                                              \n",
       "                                                                              \n",
       "22} + a_{23}⋅a_{31}) + c₃⋅(a_{11}⋅a_{31} + a_{21}⋅a_{32} + a_{31}⋅a_{33})  c₁⋅\n",
       "\n",
       "                                                                       c₂     \n",
       "                                                                              \n",
       "                                                       a_{12}⋅c₁ + a_{22}⋅c₂ +\n",
       "                                                                              \n",
       "                                                     ⎛                      2 \n",
       "(a_{11}⋅a_{12} + a_{12}⋅a_{22} + a_{13}⋅a_{32}) + c₂⋅⎝a_{12}⋅a_{21} + a_{22}  \n",
       "\n",
       "                                                                              \n",
       "                                                                              \n",
       " a_{32}⋅c₃                                                                    \n",
       "                                                                              \n",
       "               ⎞                                                              \n",
       "+ a_{23}⋅a_{32}⎠ + c₃⋅(a_{12}⋅a_{31} + a_{22}⋅a_{32} + a_{32}⋅a_{33})  c₁⋅(a_{\n",
       "\n",
       "                                                                   c₃         \n",
       "                                                                              \n",
       "                                                   a_{13}⋅c₁ + a_{23}⋅c₂ + a_{\n",
       "                                                                              \n",
       "                                                                              \n",
       "11}⋅a_{13} + a_{12}⋅a_{23} + a_{13}⋅a_{33}) + c₂⋅(a_{13}⋅a_{21} + a_{22}⋅a_{23\n",
       "\n",
       "                                                                 ⎤\n",
       "                                                                 ⎥\n",
       "33}⋅c₃                                                           ⎥\n",
       "                                                                 ⎥\n",
       "                        ⎛                                      2⎞⎥\n",
       "} + a_{23}⋅a_{33}) + c₃⋅⎝a_{13}⋅a_{31} + a_{23}⋅a_{32} + a_{33} ⎠⎦"
      ]
     },
     "execution_count": 203,
     "metadata": {},
     "output_type": "execute_result"
    }
   ],
   "source": [
    "sp.Matrix([c, c*A, c*A**2])"
   ]
  },
  {
   "cell_type": "markdown",
   "metadata": {},
   "source": [
    "### How to compute the controllability matrix? <a class=\"anchor\" id=\"control\"></a>\n",
    "\n",
    "The controllability matrix reads\n",
    "\n",
    "\\begin{pmatrix}\n",
    "b, A\\cdot b, A^2 b\n",
    "\\end{pmatrix}"
   ]
  },
  {
   "cell_type": "code",
   "execution_count": 204,
   "metadata": {},
   "outputs": [
    {
     "data": {
      "image/png": "[encoded data removed]",
      "text/latex": [
       "$$\\left[\\begin{matrix}b_{1}\\\\b_{2}\\\\b_{3}\\end{matrix}\\right]$$"
      ],
      "text/plain": [
       "⎡b₁⎤\n",
       "⎢  ⎥\n",
       "⎢b₂⎥\n",
       "⎢  ⎥\n",
       "⎣b₃⎦"
      ]
     },
     "execution_count": 204,
     "metadata": {},
     "output_type": "execute_result"
    }
   ],
   "source": [
    "b1, b2, b3 = sp.symbols('b_1, b_2, b_3')\n",
    "b = sp.Matrix([b1, b2, b3])\n",
    "b"
   ]
  },
  {
   "cell_type": "markdown",
   "metadata": {},
   "source": [
    "Since $b$, $A \\cdot b$, $\\ldots$ are column vectors the construction is a little bit spooky:"
   ]
  },
  {
   "cell_type": "code",
   "execution_count": 205,
   "metadata": {},
   "outputs": [
    {
     "data": {
      "image/png": "[encoded data removed]",
      "text/latex": [
       "$$\\left[\\begin{matrix}b_{1} & a_{11} b_{1} + a_{12} b_{2} + a_{13} b_{3} & b_{1} \\left(a_{11}^{2} + a_{12} a_{21} + a_{13} a_{31}\\right) + b_{2} \\left(a_{11} a_{12} + a_{12} a_{22} + a_{13} a_{32}\\right) + b_{3} \\left(a_{11} a_{13} + a_{12} a_{23} + a_{13} a_{33}\\right)\\\\b_{2} & a_{21} b_{1} + a_{22} b_{2} + a_{23} b_{3} & b_{1} \\left(a_{11} a_{21} + a_{21} a_{22} + a_{23} a_{31}\\right) + b_{2} \\left(a_{12} a_{21} + a_{22}^{2} + a_{23} a_{32}\\right) + b_{3} \\left(a_{13} a_{21} + a_{22} a_{23} + a_{23} a_{33}\\right)\\\\b_{3} & a_{31} b_{1} + a_{32} b_{2} + a_{33} b_{3} & b_{1} \\left(a_{11} a_{31} + a_{21} a_{32} + a_{31} a_{33}\\right) + b_{2} \\left(a_{12} a_{31} + a_{22} a_{32} + a_{32} a_{33}\\right) + b_{3} \\left(a_{13} a_{31} + a_{23} a_{32} + a_{33}^{2}\\right)\\end{matrix}\\right]$$"
      ],
      "text/plain": [
       "⎡                                          ⎛      2                           \n",
       "⎢b₁  a_{11}⋅b₁ + a_{12}⋅b₂ + a_{13}⋅b₃  b₁⋅⎝a_{11}  + a_{12}⋅a_{21} + a_{13}⋅a\n",
       "⎢                                                                             \n",
       "⎢                                                                             \n",
       "⎢b₂  a_{21}⋅b₁ + a_{22}⋅b₂ + a_{23}⋅b₃  b₁⋅(a_{11}⋅a_{21} + a_{21}⋅a_{22} + a_\n",
       "⎢                                                                             \n",
       "⎢                                                                             \n",
       "⎣b₃  a_{31}⋅b₁ + a_{32}⋅b₂ + a_{33}⋅b₃  b₁⋅(a_{11}⋅a_{31} + a_{21}⋅a_{32} + a_\n",
       "\n",
       "     ⎞                                                                        \n",
       "_{31}⎠ + b₂⋅(a_{11}⋅a_{12} + a_{12}⋅a_{22} + a_{13}⋅a_{32}) + b₃⋅(a_{11}⋅a_{13\n",
       "                                                                              \n",
       "                  ⎛                      2                ⎞                   \n",
       "{23}⋅a_{31}) + b₂⋅⎝a_{12}⋅a_{21} + a_{22}  + a_{23}⋅a_{32}⎠ + b₃⋅(a_{13}⋅a_{21\n",
       "                                                                              \n",
       "                                                                       ⎛      \n",
       "{31}⋅a_{33}) + b₂⋅(a_{12}⋅a_{31} + a_{22}⋅a_{32} + a_{32}⋅a_{33}) + b₃⋅⎝a_{13}\n",
       "\n",
       "                                  ⎤\n",
       "} + a_{12}⋅a_{23} + a_{13}⋅a_{33})⎥\n",
       "                                  ⎥\n",
       "                                  ⎥\n",
       "} + a_{22}⋅a_{23} + a_{23}⋅a_{33})⎥\n",
       "                                  ⎥\n",
       "                                2⎞⎥\n",
       "⋅a_{31} + a_{23}⋅a_{32} + a_{33} ⎠⎦"
      ]
     },
     "execution_count": 205,
     "metadata": {},
     "output_type": "execute_result"
    }
   ],
   "source": [
    "sp.Matrix([b.T, (A*b).T, (A**2*b).T]).T"
   ]
  },
  {
   "cell_type": "markdown",
   "metadata": {},
   "source": [
    "---\n",
    "\n",
    "## Export"
   ]
  },
  {
   "cell_type": "markdown",
   "metadata": {},
   "source": [
    "### How to create a callable function from an expression? <a class=\"anchor\" id=\"callable\"></a>\n",
    "\n",
    "This is interesting when having done all the symbolic calculations and one wants to to some numerical simulations."
   ]
  },
  {
   "cell_type": "code",
   "execution_count": 206,
   "metadata": {},
   "outputs": [],
   "source": [
    "a1, a2, b1, b2 = sp.symbols('a1, a2, b1, b2')"
   ]
  },
  {
   "cell_type": "code",
   "execution_count": 207,
   "metadata": {},
   "outputs": [
    {
     "data": {
      "image/png": "[encoded data removed]",
      "text/latex": [
       "$$a_{1} a_{2} - a_{1} b_{2} + b_{1}$$"
      ],
      "text/plain": [
       "a₁⋅a₂ - a₁⋅b₂ + b₁"
      ]
     },
     "execution_count": 207,
     "metadata": {},
     "output_type": "execute_result"
    }
   ],
   "source": [
    "a = a1*a2 + b1 - b2*a1\n",
    "a"
   ]
  },
  {
   "cell_type": "code",
   "execution_count": 208,
   "metadata": {},
   "outputs": [],
   "source": [
    "args = (a1, a2, b1, b2)"
   ]
  },
  {
   "cell_type": "code",
   "execution_count": 209,
   "metadata": {},
   "outputs": [],
   "source": [
    "a_fnc = sp.lambdify(args, a)"
   ]
  },
  {
   "cell_type": "code",
   "execution_count": 210,
   "metadata": {},
   "outputs": [
    {
     "data": {
      "image/png": "[encoded data removed]",
      "text/latex": [
       "$$1$$"
      ],
      "text/plain": [
       "1"
      ]
     },
     "execution_count": 210,
     "metadata": {},
     "output_type": "execute_result"
    }
   ],
   "source": [
    "res = a_fnc(1, 0, 3, 2) # 1*0 - 1*2 + 3 = 1\n",
    "res"
   ]
  },
  {
   "cell_type": "markdown",
   "metadata": {},
   "source": [
    "### How to export an expression to C-code? <a class=\"anchor\" id=\"ccode\"></a>"
   ]
  },
  {
   "cell_type": "code",
   "execution_count": 211,
   "metadata": {},
   "outputs": [],
   "source": [
    "a1, a2, b1, b2 = sp.symbols('a1, a2, b1, b2')"
   ]
  },
  {
   "cell_type": "code",
   "execution_count": 212,
   "metadata": {},
   "outputs": [
    {
     "data": {
      "image/png": "[encoded data removed]",
      "text/latex": [
       "$$a_{1} a_{2} - a_{1} b_{2} + b_{1}$$"
      ],
      "text/plain": [
       "a₁⋅a₂ - a₁⋅b₂ + b₁"
      ]
     },
     "execution_count": 212,
     "metadata": {},
     "output_type": "execute_result"
    }
   ],
   "source": [
    "a = a1*a2 + b1 - b2*a1\n",
    "a"
   ]
  },
  {
   "cell_type": "code",
   "execution_count": 213,
   "metadata": {},
   "outputs": [
    {
     "data": {
      "text/plain": [
       "'a1*a2 - a1*b2 + b1'"
      ]
     },
     "execution_count": 213,
     "metadata": {},
     "output_type": "execute_result"
    }
   ],
   "source": [
    "sp.ccode(a)"
   ]
  },
  {
   "cell_type": "code",
   "execution_count": 214,
   "metadata": {},
   "outputs": [
    {
     "data": {
      "image/png": "[encoded data removed]",
      "text/latex": [
       "$$\\left[\\begin{matrix}a_{1} & a_{2} b_{1}\\\\b_{2} & b_{1}\\end{matrix}\\right]$$"
      ],
      "text/plain": [
       "⎡a₁  a₂⋅b₁⎤\n",
       "⎢         ⎥\n",
       "⎣b₂   b₁  ⎦"
      ]
     },
     "execution_count": 214,
     "metadata": {},
     "output_type": "execute_result"
    }
   ],
   "source": [
    "A = sp.Matrix([[a1, a2*b1],[b2, b1]])\n",
    "A"
   ]
  },
  {
   "cell_type": "markdown",
   "metadata": {},
   "source": [
    "For expressions with matrices, one has to provide a matrix symbol to assign values to. Hence, the following statement fails:"
   ]
  },
  {
   "cell_type": "code",
   "execution_count": 215,
   "metadata": {},
   "outputs": [
    {
     "data": {
      "text/plain": [
       "'// Not supported in C:\\n// ImmutableDenseMatrix\\nMatrix([\\n[a1, a2*b1],\\n[b2,    b1]])'"
      ]
     },
     "execution_count": 215,
     "metadata": {},
     "output_type": "execute_result"
    }
   ],
   "source": [
    "sp.ccode(A)"
   ]
  },
  {
   "cell_type": "markdown",
   "metadata": {},
   "source": [
    "Instead, one has to proceed as follows:"
   ]
  },
  {
   "cell_type": "code",
   "execution_count": 216,
   "metadata": {},
   "outputs": [
    {
     "data": {
      "image/png": "[encoded data removed]",
      "text/latex": [
       "$$B$$"
      ],
      "text/plain": [
       "B"
      ]
     },
     "execution_count": 216,
     "metadata": {},
     "output_type": "execute_result"
    }
   ],
   "source": [
    "AC = sp.MatrixSymbol('B', 2, 2)\n",
    "AC"
   ]
  },
  {
   "cell_type": "code",
   "execution_count": 219,
   "metadata": {},
   "outputs": [
    {
     "data": {
      "text/plain": [
       "'B[0] = a1;\\nB[1] = a2*b1;\\nB[2] = b2;\\nB[3] = b1;'"
      ]
     },
     "execution_count": 219,
     "metadata": {},
     "output_type": "execute_result"
    }
   ],
   "source": [
    "sp.ccode(A, AC)"
   ]
  }
 ],
 "metadata": {
  "kernelspec": {
   "display_name": "Python 3",
   "language": "python",
   "name": "python3"
  },
  "language_info": {
   "codemirror_mode": {
    "name": "ipython",
    "version": 3
   },
   "file_extension": ".py",
   "mimetype": "text/x-python",
   "name": "python",
   "nbconvert_exporter": "python",
   "pygments_lexer": "ipython3",
   "version": "3.7.6"
  }
 },
 "nbformat": 4,
 "nbformat_minor": 2
}
