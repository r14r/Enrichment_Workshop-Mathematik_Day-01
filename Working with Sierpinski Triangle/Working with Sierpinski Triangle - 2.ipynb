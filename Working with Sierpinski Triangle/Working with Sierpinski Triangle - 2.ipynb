{
 "cells": [
  {
   "cell_type": "markdown",
   "metadata": {},
   "source": [
    "# Introduction"
   ]
  },
  {
   "cell_type": "markdown",
   "metadata": {},
   "source": [
    "## Sierpinski with Turtle"
   ]
  },
  {
   "cell_type": "code",
   "execution_count": 1,
   "metadata": {},
   "outputs": [],
   "source": [
    "from turtle import Turtle, colormode\n",
    "from random import randint\n",
    "import sys"
   ]
  },
  {
   "cell_type": "code",
   "execution_count": 2,
   "metadata": {},
   "outputs": [],
   "source": [
    "def randColor():\n",
    "    return randint(0,255)\n",
    "\n",
    "\n",
    "def drawTriangle(t,dist):\n",
    "    t.fillcolor(randColor(),randColor(),randColor())\n",
    "    t.down()\n",
    "    t.setheading(0)\n",
    "    t.begin_fill()\n",
    "    t.forward(dist)\n",
    "    t.left(120)\n",
    "    t.forward(dist)\n",
    "    t.left(120)\n",
    "    t.forward(dist)\n",
    "    t.setheading(0)\n",
    "    t.end_fill()\n",
    "    t.up()\n",
    "\n",
    "\n",
    "def sierpinski(t,levels,size):\n",
    "    if levels == 0:\n",
    "        #   Draw triangle\n",
    "        drawTriangle(t,size)\n",
    "    else:\n",
    "        half    = size/2\n",
    "        levels -= 1\n",
    "        #   Recursive calls\n",
    "        sierpinski(t,levels,half)\n",
    "        t.setpos(t.xcor()+half,t.ycor())\n",
    "        sierpinski(t,levels,half)\n",
    "        t.left(120)\n",
    "        t.forward(half)\n",
    "        t.setheading(0)\n",
    "        sierpinski(t,levels,half)\n",
    "        t.right(120)\n",
    "        t.forward(half)\n",
    "        t.setheading(0)"
   ]
  },
  {
   "cell_type": "code",
   "execution_count": 3,
   "metadata": {},
   "outputs": [],
   "source": [
    "def main(configuration, t):\n"
   ]
  },
  {
   "cell_type": "code",
   "execution_count": 4,
   "metadata": {},
   "outputs": [],
   "source": [
    "t = Turtle()"
   ]
  },
  {
   "cell_type": "code",
   "execution_count": 5,
   "metadata": {},
   "outputs": [],
   "source": [
    "t.reset()"
   ]
  },
  {
   "cell_type": "code",
   "execution_count": 6,
   "metadata": {},
   "outputs": [],
   "source": [
    "configuration = {'level': 2, 'size': 480}\n",
    "    \n",
    "t.speed(10)\n",
    "t.up()\n",
    "t.setpos(-configuration['size']/2,-configuration['size']/2)\n",
    "colormode(255)\n",
    "\n",
    "sierpinski(t,configuration['level'],configuration['size'])"
   ]
  },
  {
   "cell_type": "code",
   "execution_count": 7,
   "metadata": {},
   "outputs": [],
   "source": [
    "t.screen.mainloop()"
   ]
  }
 ],
 "metadata": {
  "kernelspec": {
   "display_name": "Python 3",
   "language": "python",
   "name": "python3"
  },
  "language_info": {
   "codemirror_mode": {
    "name": "ipython",
    "version": 3
   },
   "file_extension": ".py",
   "mimetype": "text/x-python",
   "name": "python",
   "nbconvert_exporter": "python",
   "pygments_lexer": "ipython3",
   "version": "3.7.6"
  }
 },
 "nbformat": 4,
 "nbformat_minor": 4
}
