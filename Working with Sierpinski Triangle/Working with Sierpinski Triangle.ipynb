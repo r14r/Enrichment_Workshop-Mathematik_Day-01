{
 "cells": [
  {
   "cell_type": "markdown",
   "metadata": {},
   "source": [
    "# Introduction"
   ]
  },
  {
   "cell_type": "markdown",
   "metadata": {},
   "source": [
    "https://www.geeksforgeeks.org/sierpinski-triangle/?ref=rp"
   ]
  },
  {
   "cell_type": "markdown",
   "metadata": {},
   "source": [
    "## Triangle"
   ]
  },
  {
   "cell_type": "code",
   "execution_count": 1,
   "metadata": {
    "scrolled": true
   },
   "outputs": [
    {
     "name": "stdout",
     "output_type": "stream",
     "text": [
      "                                                               * \n",
      "                                                              * * \n",
      "                                                             *   * \n",
      "                                                            * * * * \n",
      "                                                           *       * \n",
      "                                                          * *     * * \n",
      "                                                         *   *   *   * \n",
      "                                                        * * * * * * * * \n",
      "                                                       *               * \n",
      "                                                      * *             * * \n",
      "                                                     *   *           *   * \n",
      "                                                    * * * *         * * * * \n",
      "                                                   *       *       *       * \n",
      "                                                  * *     * *     * *     * * \n",
      "                                                 *   *   *   *   *   *   *   * \n",
      "                                                * * * * * * * * * * * * * * * * \n",
      "                                               *                               * \n",
      "                                              * *                             * * \n",
      "                                             *   *                           *   * \n",
      "                                            * * * *                         * * * * \n",
      "                                           *       *                       *       * \n",
      "                                          * *     * *                     * *     * * \n",
      "                                         *   *   *   *                   *   *   *   * \n",
      "                                        * * * * * * * *                 * * * * * * * * \n",
      "                                       *               *               *               * \n",
      "                                      * *             * *             * *             * * \n",
      "                                     *   *           *   *           *   *           *   * \n",
      "                                    * * * *         * * * *         * * * *         * * * * \n",
      "                                   *       *       *       *       *       *       *       * \n",
      "                                  * *     * *     * *     * *     * *     * *     * *     * * \n",
      "                                 *   *   *   *   *   *   *   *   *   *   *   *   *   *   *   * \n",
      "                                * * * * * * * * * * * * * * * * * * * * * * * * * * * * * * * * \n",
      "                               *                                                               * \n",
      "                              * *                                                             * * \n",
      "                             *   *                                                           *   * \n",
      "                            * * * *                                                         * * * * \n",
      "                           *       *                                                       *       * \n",
      "                          * *     * *                                                     * *     * * \n",
      "                         *   *   *   *                                                   *   *   *   * \n",
      "                        * * * * * * * *                                                 * * * * * * * * \n",
      "                       *               *                                               *               * \n",
      "                      * *             * *                                             * *             * * \n",
      "                     *   *           *   *                                           *   *           *   * \n",
      "                    * * * *         * * * *                                         * * * *         * * * * \n",
      "                   *       *       *       *                                       *       *       *       * \n",
      "                  * *     * *     * *     * *                                     * *     * *     * *     * * \n",
      "                 *   *   *   *   *   *   *   *                                   *   *   *   *   *   *   *   * \n",
      "                * * * * * * * * * * * * * * * *                                 * * * * * * * * * * * * * * * * \n",
      "               *                               *                               *                               * \n",
      "              * *                             * *                             * *                             * * \n",
      "             *   *                           *   *                           *   *                           *   * \n",
      "            * * * *                         * * * *                         * * * *                         * * * * \n",
      "           *       *                       *       *                       *       *                       *       * \n",
      "          * *     * *                     * *     * *                     * *     * *                     * *     * * \n",
      "         *   *   *   *                   *   *   *   *                   *   *   *   *                   *   *   *   * \n",
      "        * * * * * * * *                 * * * * * * * *                 * * * * * * * *                 * * * * * * * * \n",
      "       *               *               *               *               *               *               *               * \n",
      "      * *             * *             * *             * *             * *             * *             * *             * * \n",
      "     *   *           *   *           *   *           *   *           *   *           *   *           *   *           *   * \n",
      "    * * * *         * * * *         * * * *         * * * *         * * * *         * * * *         * * * *         * * * * \n",
      "   *       *       *       *       *       *       *       *       *       *       *       *       *       *       *       * \n",
      "  * *     * *     * *     * *     * *     * *     * *     * *     * *     * *     * *     * *     * *     * *     * *     * * \n",
      " *   *   *   *   *   *   *   *   *   *   *   *   *   *   *   *   *   *   *   *   *   *   *   *   *   *   *   *   *   *   *   * \n",
      "* * * * * * * * * * * * * * * * * * * * * * * * * * * * * * * * * * * * * * * * * * * * * * * * * * * * * * * * * * * * * * * * \n"
     ]
    }
   ],
   "source": [
    "def printSierpinski( n) : \n",
    "\n",
    "    y = n - 1\n",
    "    while(y >= 0) : \n",
    "\n",
    "        # printing space till \n",
    "        # the value of y \n",
    "        i = 0\n",
    "        while(i < y ): \n",
    "            print(\" \",end=\"\") \n",
    "            i = i + 1\n",
    "\n",
    "        # printing '*' \n",
    "        x = 0\n",
    "        while(x + y < n ): \n",
    "\n",
    "            # printing '*' at the appropriate position is done by the and \n",
    "            # value of x and y wherever value \n",
    "            # is 0 we have printed '*' \n",
    "            if ((x & y) != 0) : \n",
    "                print(\" \", end = \" \") \n",
    "            else : \n",
    "                print(\"* \", end = \"\") \n",
    "            x =x + 1\n",
    "\n",
    "        print() \n",
    "        y = y - 1\n",
    "\n",
    "# Driver code \n",
    "n = 64\n",
    "\n",
    "# Function calling \n",
    "printSierpinski(n) "
   ]
  },
  {
   "cell_type": "code",
   "execution_count": 2,
   "metadata": {},
   "outputs": [],
   "source": [
    "## Sierpinski Carpet"
   ]
  },
  {
   "cell_type": "code",
   "execution_count": 3,
   "metadata": {},
   "outputs": [],
   "source": [
    "import numpy as np \n",
    "from PIL import Image \n",
    "\n",
    "# total number of times the process will be repeated \n",
    "total = 7\n",
    "\n",
    "# size of the image \n",
    "size = 3**total \n",
    "\n",
    "square = np.empty([size, size, 3], dtype = np.uint8) \n",
    "color = np.array([255, 255, 255], dtype = np.uint8) \n",
    "\n",
    "# filling it black \n",
    "square.fill(0) \n",
    "\n",
    "for i in range(0, total + 1): \n",
    "    stepdown = 3**(total - i) \n",
    "    for x in range(0, 3**i): \n",
    "\n",
    "        # checking for the centremost square \n",
    "        if x % 3 == 1: \n",
    "            for y in range(0, 3**i): \n",
    "                if y % 3 == 1: \n",
    "\n",
    "                    # changing its color \n",
    "                    square[y * stepdown:(y + 1)*stepdown, x * stepdown:(x + 1)*stepdown] = color "
   ]
  },
  {
   "cell_type": "code",
   "execution_count": 5,
   "metadata": {},
   "outputs": [],
   "source": [
    "# saving the image produced \n",
    "save_file = \"sierpinski.jpg\"\n",
    "Image.fromarray(square).save(save_file) \n",
    "\n",
    "# displaying it in console \n",
    "i = Image.open(\"sierpinski.jpg\") \n",
    "i.show() "
   ]
  },
  {
   "cell_type": "markdown",
   "metadata": {},
   "source": [
    "## Sierpinski with Turtle"
   ]
  },
  {
   "cell_type": "code",
   "execution_count": 3,
   "metadata": {},
   "outputs": [],
   "source": [
    "from turtle import Turtle, colormode\n",
    "from random import randint\n",
    "import sys"
   ]
  },
  {
   "cell_type": "code",
   "execution_count": 4,
   "metadata": {},
   "outputs": [],
   "source": [
    "def randColor():\n",
    "    return randint(0,255)\n",
    "\n",
    "\n",
    "def drawTriangle(t,dist):\n",
    "    t.fillcolor(randColor(),randColor(),randColor())\n",
    "    t.down()\n",
    "    t.setheading(0)\n",
    "    t.begin_fill()\n",
    "    t.forward(dist)\n",
    "    t.left(120)\n",
    "    t.forward(dist)\n",
    "    t.left(120)\n",
    "    t.forward(dist)\n",
    "    t.setheading(0)\n",
    "    t.end_fill()\n",
    "    t.up()\n",
    "\n",
    "\n",
    "def sierpinski(t,levels,size):\n",
    "    if levels == 0:\n",
    "        #   Draw triangle\n",
    "        drawTriangle(t,size)\n",
    "    else:\n",
    "        half    = size/2\n",
    "        levels -= 1\n",
    "        #   Recursive calls\n",
    "        sierpinski(t,levels,half)\n",
    "        t.setpos(t.xcor()+half,t.ycor())\n",
    "        sierpinski(t,levels,half)\n",
    "        t.left(120)\n",
    "        t.forward(half)\n",
    "        t.setheading(0)\n",
    "        sierpinski(t,levels,half)\n",
    "        t.right(120)\n",
    "        t.forward(half)\n",
    "        t.setheading(0)"
   ]
  },
  {
   "cell_type": "code",
   "execution_count": 5,
   "metadata": {},
   "outputs": [],
   "source": [
    "def main(configuration, t):\n",
    "    t.speed(10)\n",
    "    t.up()\n",
    "    t.setpos(-configuration['size']/2,-configuration['size']/2)\n",
    "    colormode(255)\n",
    "    sierpinski(t,configuration['level'],configuration['size'])\n",
    "\n",
    "\n",
    "def start(t):\n",
    "    configuration = {'level': 2, 'size': 480}\n",
    "    if len(sys.argv) >= 2 and sys.argv[1].isdigit():\n",
    "        configuration['level'] = int(sys.argv[1])\n",
    "    if len(sys.argv) == 3 and sys.argv[2].isdigit():\n",
    "        configuration['size'] = int(sys.argv[2])\n",
    "    main(configuration, t)"
   ]
  },
  {
   "cell_type": "code",
   "execution_count": 6,
   "metadata": {},
   "outputs": [],
   "source": [
    "t = Turtle()"
   ]
  },
  {
   "cell_type": "code",
   "execution_count": 19,
   "metadata": {},
   "outputs": [],
   "source": [
    "t.reset()"
   ]
  },
  {
   "cell_type": "code",
   "execution_count": 20,
   "metadata": {},
   "outputs": [],
   "source": [
    "start(t)"
   ]
  },
  {
   "cell_type": "markdown",
   "metadata": {},
   "source": [
    "## Sierpinski Curve"
   ]
  },
  {
   "cell_type": "code",
   "execution_count": null,
   "metadata": {},
   "outputs": [],
   "source": [
    "import numpy as np\n",
    "from matplotlib.pyplot import figure, show, rc, grid"
   ]
  },
  {
   "cell_type": "code",
   "execution_count": null,
   "metadata": {},
   "outputs": [],
   "source": [
    "%matplotlib inline"
   ]
  },
  {
   "cell_type": "code",
   "execution_count": null,
   "metadata": {},
   "outputs": [],
   "source": [
    "def symmetrize(a = +1.0, b = -1.0, c = 0.0, X = [], Y = []):\n",
    "    # Create symmetric points over a line, that is described\n",
    "    # with the following equation\n",
    "    # ax + by + c = 0\n",
    "    den = 1.0/(a**2+b**2)\n",
    "    Xs = []\n",
    "    Ys = []\n",
    "    for x,y in zip(X,Y):\n",
    "        xl = den*(b**2*x-a*b*y-a*c)\n",
    "        yl = den*(-a*b*x+a**2*y-b*c)\n",
    "        Xs.append(2*xl-x)\n",
    "        Ys.append(2*yl-y)\n",
    "        \n",
    "    return Xs,Ys\n",
    "\n",
    "def generateSymmetries(DX, DY):\n",
    "    # Create symmetric pattern\n",
    "    DX[2] = np.flipud(-DX[1])\n",
    "    DY[2] = np.flipud(DY[1])\n",
    "    DX[3] = np.flipud(DX[1])\n",
    "    DY[3] = np.flipud(-DY[1])\n",
    "    DX[4] = np.flipud(-DX[1])\n",
    "    DY[4] = np.flipud(-DY[1])\n",
    "\n",
    "def getOffset(key):\n",
    "    offsetX, offsetY = 0.0,0.0\n",
    "    \n",
    "    for i,k in enumerate(key):\n",
    "        scale = 1.0/2**(i+1)\n",
    "        k = int(k)\n",
    "        if k%2==1:\n",
    "            offsetX += -scale\n",
    "        else:\n",
    "            offsetX += +scale\n",
    "        if k<3:\n",
    "            offsetY += +scale\n",
    "        else:\n",
    "            offsetY += -scale\n",
    "            \n",
    "    return offsetX, offsetY"
   ]
  },
  {
   "cell_type": "code",
   "execution_count": null,
   "metadata": {},
   "outputs": [],
   "source": [
    "class Pattern(object):\n",
    "    def __init__(self, rootPattern_X = [-0.5,-0.5,-0.75], rootPattern_Y = [+0.0,+0.25,+0.5]):\n",
    "        self.level = 0\n",
    "        Xs,Ys = symmetrize(a = -1.0, b = -1.0, c = 0.0, X = rootPattern_X, Y = rootPattern_Y)\n",
    "        \n",
    "        self.pattern_X = {1:np.append(rootPattern_X, np.flipud(Xs))}\n",
    "        self.pattern_Y = {1:np.append(rootPattern_Y, np.flipud(Ys))}\n",
    "        \n",
    "        generateSymmetries(self.pattern_X,self.pattern_Y)\n",
    "        \n",
    "        Xs,Ys = symmetrize(a = +1.0, b = -1.0, c = 1.0, X = rootPattern_X[0:-1], Y = rootPattern_Y[0:-1])\n",
    "        \n",
    "        self.patternS_X = {1:np.append(rootPattern_X[0:-1], np.flipud(Xs))}\n",
    "        self.patternS_Y = {1:np.append(rootPattern_Y[0:-1], np.flipud(Ys))}\n",
    "        \n",
    "        generateSymmetries(self.patternS_X,self.patternS_Y)\n",
    "        \n",
    "        patternE_X,patternE_Y = symmetrize(a = +1.0, b = +1.0, c = 0.0, X = self.patternS_X[1], Y = self.patternS_Y[1])\n",
    "        \n",
    "        self.patternE_X = {1:np.array(patternE_X)}\n",
    "        self.patternE_Y = {1:np.array(patternE_Y)}\n",
    "        \n",
    "        generateSymmetries(self.patternE_X, self.patternE_Y)"
   ]
  },
  {
   "cell_type": "code",
   "execution_count": null,
   "metadata": {},
   "outputs": [],
   "source": [
    "class Steinhaus(object):\n",
    "    def __init__(self, level = 6, rootPattern_X = [-0.5,-0.5,-0.75], rootPattern_Y = [+0.0,+0.25,+0.5]):\n",
    "        self.level = level\n",
    "        self.pattern = Pattern(rootPattern_X, rootPattern_Y)\n",
    "        self.lines = {1:{str(k):self.get(k) for k in range(1,5)}}\n",
    "        for n in range(2,self.level+1):\n",
    "            self.generateLevel(n)\n",
    "            \n",
    "    def generateLevel(self, level = 2):\n",
    "        self.lines[level] = {}\n",
    "        for key,lines in self.lines[level-1].items():\n",
    "            self.lines[level].update({key+str(k):self.getFromKey(key+str(k), len(lines[0])) for k in range(1,5)})\n",
    "            \n",
    "    def get(self, id, idParent = 0, level = 1, offset = (0.0, 0.0), nParent = 1):\n",
    "        scale = 1.0/2**(level-1)\n",
    "        if (id == (5-idParent)) or (nParent==2 and idParent==id):\n",
    "            return [[scale*self.pattern.patternS_X[id]+offset[0], scale*self.pattern.patternE_X[id]+offset[0]],\\\n",
    "                    [scale*self.pattern.patternS_Y[id]+offset[1], scale*self.pattern.patternE_Y[id]+offset[1]]]\n",
    "        else:\n",
    "            return [scale*self.pattern.pattern_X[id]+offset[0]], [scale*self.pattern.pattern_Y[id]+offset[1]]\n",
    "        \n",
    "    def getFromKey(self, key, nParent = 1):\n",
    "        return self.get(id = int(key[-1]), idParent = int(key[-2]), level = len(key), offset = getOffset(key[:-1]), nParent = nParent)\n",
    "\n",
    "    def makePlot(self, outputFilename = r'Steinhaus.svg', level = 1, plotGrid = False, randomColor = False):\n",
    "        rc('grid', linewidth = 1, linestyle = '-', color = '#a0a0a0')\n",
    "\n",
    "        fig = figure()\n",
    "        ax = fig.add_axes([0.12, 0.12, 0.76, 0.76])\n",
    "        grid(plotGrid)\n",
    "        for lines in self.lines[level].values():\n",
    "            for lineX,lineY in zip(lines[0],lines[1]):\n",
    "                if randomColor:\n",
    "                    color = [np.random.random() for _ in range(3)]\n",
    "                else:\n",
    "                    color = 'k'\n",
    "                ax.plot(lineX, lineY, lw = 1, ls = '-', color = color)\n",
    "                \n",
    "        xlimMin, xlimMax = (-1.0, +1.0)\n",
    "        ylimMin, ylimMax = (-1.0, +1.0)\n",
    "        \n",
    "        ax.set_xlim((xlimMin, xlimMax))\n",
    "        ax.set_ylim((ylimMin, ylimMax))\n",
    "        ax.set_aspect('equal')\n",
    "        ax.set_xticks([])\n",
    "        ax.set_yticks([])\n",
    "        \n",
    "        fig.savefig(outputFilename)\n",
    "        fig.show()"
   ]
  },
  {
   "cell_type": "code",
   "execution_count": null,
   "metadata": {},
   "outputs": [],
   "source": [
    "def main(\\\n",
    "    TopLeftPattern_X = [-0.5,-0.3,-0.6,-0.75,-0.9],\\\n",
    "    TopLeftPattern_Y = [+0.0,+0.25,+0.1,0.6,+0.85],\n",
    "    nLevel = 6):\n",
    "    s = Steinhaus(rootPattern_X = TopLeftPattern_X, rootPattern_Y = TopLeftPattern_Y, level = nLevel)\n",
    "    for i in range(1,s.level+1):\n",
    "        s.makePlot(outputFilename = r'Steinhaus_{0}.svg'.format(i), level = i, randomColor = False)\n",
    "        s.makePlot(outputFilename = r'Steinhaus_{0}.png'.format(i), level = i, randomColor = False)"
   ]
  },
  {
   "cell_type": "code",
   "execution_count": null,
   "metadata": {},
   "outputs": [],
   "source": [
    "TopLeftPattern_X, TopLeftPattern_Y = [-0.5,-0.5,-0.75], [+0.0,+0.25,+0.5]\n",
    "\n",
    "nLevel = 3\n",
    "main(TopLeftPattern_X, TopLeftPattern_Y, nLevel)"
   ]
  },
  {
   "cell_type": "code",
   "execution_count": null,
   "metadata": {},
   "outputs": [],
   "source": [
    "## Example"
   ]
  },
  {
   "cell_type": "code",
   "execution_count": null,
   "metadata": {},
   "outputs": [],
   "source": [
    "import turtle\n",
    "import sys"
   ]
  },
  {
   "cell_type": "code",
   "execution_count": null,
   "metadata": {},
   "outputs": [],
   "source": [
    "VERTICES_FILE = \".vertices.txt\"\n",
    "POINTS_FILE = \".points.txt\"\n",
    "WIDTH = 200\n",
    "HEIGHT = 200\n",
    "NUM_VERTICES = 10\n",
    "NUM_POINTS = 10\n",
    "\n",
    "# change these colors if you want\n",
    "COLOR_WINDOW = \"black\"\n",
    "COLOR_TEXT = \"white\"\n",
    "COLOR_DOTS = \"white\"\n",
    "COLOR_VERTICES = \"green\"\n",
    "# change these parameters if you want, its just aesthetic\n",
    "SHAPE = \"circle\"\n",
    "SHAPESIZE = 0.15\n",
    "VERTIX_SIZE = 0.5\n",
    "\n",
    "X = []\n",
    "Y = []"
   ]
  },
  {
   "cell_type": "code",
   "execution_count": null,
   "metadata": {},
   "outputs": [],
   "source": [
    "# WINDOW\n",
    "window = turtle.Screen()\n",
    "window.bgcolor(\"black\")\n",
    "window.setup(WIDTH, HEIGHT)\n",
    "\n",
    "# POINTS COUNTER\n",
    "point_tx = turtle.Turtle()\n",
    "point_tx.penup()\n",
    "point_tx.speed(0)\n",
    "point_tx.hideturtle()\n",
    "point_tx.color(COLOR_TEXT)\n",
    "point_tx.setposition(-WIDTH/2 + 16, HEIGHT/2 - 58)\n",
    "point_tx.write(\"points 0\", align='left', font=('Arial', 12, 'italic'))\n",
    "\n",
    "# DOT\n",
    "d = turtle.Turtle()\n",
    "d.penup()\n",
    "d.shape(SHAPE)\n",
    "d.hideturtle()\n",
    "d.speed(0)"
   ]
  },
  {
   "cell_type": "code",
   "execution_count": null,
   "metadata": {},
   "outputs": [],
   "source": [
    "def read_coordinates_from_file(filename, num, xlist, ylist):\n",
    "    file = open(filename, \"r\")\n",
    "    lines_in_file = file.readlines()\n",
    "    for i in range(0, num*2):\n",
    "        if (i % 2 == 0):\n",
    "            xlist.append(lines_in_file[i])\n",
    "        else:\n",
    "            ylist.append(lines_in_file[i])\n",
    "    file.close()\n",
    "\n",
    "\n",
    "def draw_points():\n",
    "    d.color(COLOR_DOTS)\n",
    "    d.shapesize(SHAPESIZE)\n",
    "    read_coordinates_from_file(POINTS_FILE, NUM_POINTS, X, Y)\n",
    "    for i in range(NUM_POINTS):\n",
    "        d.goto(int(X[i]), int(Y[i]))\n",
    "        d.stamp()\n",
    "        point_txt = \"iterations {}\".format(i+1)\n",
    "        point_tx.undo()\n",
    "        point_tx.write(point_txt, align='left', font=('Arial', 12, 'italic'))\n",
    "\n",
    "\n",
    "def draw_vertices():\n",
    "    d.color(COLOR_VERTICES)\n",
    "    d.shapesize(VERTIX_SIZE)\n",
    "    read_coordinates_from_file(VERTICES_FILE, NUM_VERTICES, X, Y)\n",
    "    \n",
    "    for i in range(NUM_VERTICES):\n",
    "        print(\"printing vertix\")\n",
    "        d.goto(int(X[i]), int(Y[i]))\n",
    "        d.stamp()"
   ]
  },
  {
   "cell_type": "code",
   "execution_count": null,
   "metadata": {},
   "outputs": [],
   "source": [
    "draw_vertices()"
   ]
  },
  {
   "cell_type": "code",
   "execution_count": null,
   "metadata": {},
   "outputs": [],
   "source": [
    "draw_points()\n",
    "window.mainloop()"
   ]
  },
  {
   "cell_type": "markdown",
   "metadata": {},
   "source": [
    "## Example"
   ]
  },
  {
   "cell_type": "code",
   "execution_count": 1,
   "metadata": {},
   "outputs": [],
   "source": [
    "def get_midpoints(point1, point2):\n",
    "    return (0.5 *(point1[0]+point2[0]), 0.5 *(point1[1]+point2[1])  )"
   ]
  },
  {
   "cell_type": "code",
   "execution_count": 14,
   "metadata": {},
   "outputs": [],
   "source": [
    "def gen_sierpinski(points, level, step_size, t):\n",
    "    if  level > 0:\n",
    "        p0, p1, p2 = points[0], points[1], points[2]\n",
    "\n",
    "        #turtl fill color\n",
    "        color_val = level * step_size\n",
    "        \n",
    "        print(f\"level = {level} color_val={color_val} ({p0}/{p1}/{p2})\")\n",
    "        \n",
    "        t.fillcolor(color_val,color_val,color_val)\n",
    "        \n",
    "        #go to 1st corner\n",
    "        t.up()\n",
    "        t.goto(p0[0],p0[1])\n",
    "        t.down()\n",
    "\n",
    "        t.begin_fill()\n",
    "        \n",
    "        t.goto(p1[0],p1[1])\n",
    "        t.goto(p2[0],p2[1])\n",
    "        t.goto(p0[0],p0[1])\n",
    "\n",
    "        t.end_fill()\n",
    "\n",
    "        #generate mid points for each sides\n",
    "        gen_sierpinski([p0, get_midpoints(p0,p1), get_midpoints(p0,p2)], level -1 , step_size, t)\n",
    "        gen_sierpinski([p1, get_midpoints(p0,p1), get_midpoints(p1,p2)], level -1 , step_size, t)\n",
    "        gen_sierpinski([p2, get_midpoints(p2,p1), get_midpoints(p0,p2)], level -1 , step_size, t)"
   ]
  },
  {
   "cell_type": "code",
   "execution_count": 15,
   "metadata": {},
   "outputs": [
    {
     "name": "stdout",
     "output_type": "stream",
     "text": [
      "level = 3 color_val=255 ([-100, -50]/[0, 100]/[100, -50])\n"
     ]
    },
    {
     "ename": "TurtleGraphicsError",
     "evalue": "bad color sequence: (255, 255, 255)",
     "output_type": "error",
     "traceback": [
      "\u001b[1;31m---------------------------------------------------------------------------\u001b[0m",
      "\u001b[1;31mTurtleGraphicsError\u001b[0m                       Traceback (most recent call last)",
      "\u001b[1;32m<ipython-input-15-93d34536a8e8>\u001b[0m in \u001b[0;36m<module>\u001b[1;34m\u001b[0m\n\u001b[0;32m      8\u001b[0m \u001b[0mstep_size\u001b[0m \u001b[1;33m=\u001b[0m \u001b[1;36m255\u001b[0m \u001b[1;33m//\u001b[0m \u001b[0mlevel\u001b[0m\u001b[1;33m\u001b[0m\u001b[1;33m\u001b[0m\u001b[0m\n\u001b[0;32m      9\u001b[0m \u001b[1;33m\u001b[0m\u001b[0m\n\u001b[1;32m---> 10\u001b[1;33m \u001b[0mgen_sierpinski\u001b[0m\u001b[1;33m(\u001b[0m\u001b[0mpoints\u001b[0m\u001b[1;33m,\u001b[0m \u001b[0mlevel\u001b[0m\u001b[1;33m,\u001b[0m \u001b[0mstep_size\u001b[0m\u001b[1;33m,\u001b[0m \u001b[0mt\u001b[0m\u001b[1;33m)\u001b[0m\u001b[1;33m\u001b[0m\u001b[1;33m\u001b[0m\u001b[0m\n\u001b[0m",
      "\u001b[1;32m<ipython-input-14-c74d48b147d2>\u001b[0m in \u001b[0;36mgen_sierpinski\u001b[1;34m(points, level, step_size, t)\u001b[0m\n\u001b[0;32m      8\u001b[0m         \u001b[0mprint\u001b[0m\u001b[1;33m(\u001b[0m\u001b[1;34mf\"level = {level} color_val={color_val} ({p0}/{p1}/{p2})\"\u001b[0m\u001b[1;33m)\u001b[0m\u001b[1;33m\u001b[0m\u001b[1;33m\u001b[0m\u001b[0m\n\u001b[0;32m      9\u001b[0m \u001b[1;33m\u001b[0m\u001b[0m\n\u001b[1;32m---> 10\u001b[1;33m         \u001b[0mt\u001b[0m\u001b[1;33m.\u001b[0m\u001b[0mfillcolor\u001b[0m\u001b[1;33m(\u001b[0m\u001b[0mcolor_val\u001b[0m\u001b[1;33m,\u001b[0m\u001b[0mcolor_val\u001b[0m\u001b[1;33m,\u001b[0m\u001b[0mcolor_val\u001b[0m\u001b[1;33m)\u001b[0m\u001b[1;33m\u001b[0m\u001b[1;33m\u001b[0m\u001b[0m\n\u001b[0m\u001b[0;32m     11\u001b[0m \u001b[1;33m\u001b[0m\u001b[0m\n\u001b[0;32m     12\u001b[0m         \u001b[1;31m#go to 1st corner\u001b[0m\u001b[1;33m\u001b[0m\u001b[1;33m\u001b[0m\u001b[1;33m\u001b[0m\u001b[0m\n",
      "\u001b[1;32mD:\\DevApps\\Anaconda3\\2020.02\\lib\\turtle.py\u001b[0m in \u001b[0;36mfillcolor\u001b[1;34m(self, *args)\u001b[0m\n\u001b[0;32m   2286\u001b[0m         \"\"\"\n\u001b[0;32m   2287\u001b[0m         \u001b[1;32mif\u001b[0m \u001b[0margs\u001b[0m\u001b[1;33m:\u001b[0m\u001b[1;33m\u001b[0m\u001b[1;33m\u001b[0m\u001b[0m\n\u001b[1;32m-> 2288\u001b[1;33m             \u001b[0mcolor\u001b[0m \u001b[1;33m=\u001b[0m \u001b[0mself\u001b[0m\u001b[1;33m.\u001b[0m\u001b[0m_colorstr\u001b[0m\u001b[1;33m(\u001b[0m\u001b[0margs\u001b[0m\u001b[1;33m)\u001b[0m\u001b[1;33m\u001b[0m\u001b[1;33m\u001b[0m\u001b[0m\n\u001b[0m\u001b[0;32m   2289\u001b[0m             \u001b[1;32mif\u001b[0m \u001b[0mcolor\u001b[0m \u001b[1;33m==\u001b[0m \u001b[0mself\u001b[0m\u001b[1;33m.\u001b[0m\u001b[0m_fillcolor\u001b[0m\u001b[1;33m:\u001b[0m\u001b[1;33m\u001b[0m\u001b[1;33m\u001b[0m\u001b[0m\n\u001b[0;32m   2290\u001b[0m                 \u001b[1;32mreturn\u001b[0m\u001b[1;33m\u001b[0m\u001b[1;33m\u001b[0m\u001b[0m\n",
      "\u001b[1;32mD:\\DevApps\\Anaconda3\\2020.02\\lib\\turtle.py\u001b[0m in \u001b[0;36m_colorstr\u001b[1;34m(self, args)\u001b[0m\n\u001b[0;32m   2694\u001b[0m \u001b[1;33m\u001b[0m\u001b[0m\n\u001b[0;32m   2695\u001b[0m     \u001b[1;32mdef\u001b[0m \u001b[0m_colorstr\u001b[0m\u001b[1;33m(\u001b[0m\u001b[0mself\u001b[0m\u001b[1;33m,\u001b[0m \u001b[0margs\u001b[0m\u001b[1;33m)\u001b[0m\u001b[1;33m:\u001b[0m\u001b[1;33m\u001b[0m\u001b[1;33m\u001b[0m\u001b[0m\n\u001b[1;32m-> 2696\u001b[1;33m         \u001b[1;32mreturn\u001b[0m \u001b[0mself\u001b[0m\u001b[1;33m.\u001b[0m\u001b[0mscreen\u001b[0m\u001b[1;33m.\u001b[0m\u001b[0m_colorstr\u001b[0m\u001b[1;33m(\u001b[0m\u001b[0margs\u001b[0m\u001b[1;33m)\u001b[0m\u001b[1;33m\u001b[0m\u001b[1;33m\u001b[0m\u001b[0m\n\u001b[0m\u001b[0;32m   2697\u001b[0m \u001b[1;33m\u001b[0m\u001b[0m\n\u001b[0;32m   2698\u001b[0m     \u001b[1;32mdef\u001b[0m \u001b[0m_cc\u001b[0m\u001b[1;33m(\u001b[0m\u001b[0mself\u001b[0m\u001b[1;33m,\u001b[0m \u001b[0margs\u001b[0m\u001b[1;33m)\u001b[0m\u001b[1;33m:\u001b[0m\u001b[1;33m\u001b[0m\u001b[1;33m\u001b[0m\u001b[0m\n",
      "\u001b[1;32mD:\\DevApps\\Anaconda3\\2020.02\\lib\\turtle.py\u001b[0m in \u001b[0;36m_colorstr\u001b[1;34m(self, color)\u001b[0m\n\u001b[0;32m   1164\u001b[0m             \u001b[0mr\u001b[0m\u001b[1;33m,\u001b[0m \u001b[0mg\u001b[0m\u001b[1;33m,\u001b[0m \u001b[0mb\u001b[0m \u001b[1;33m=\u001b[0m \u001b[1;33m[\u001b[0m\u001b[0mround\u001b[0m\u001b[1;33m(\u001b[0m\u001b[1;36m255.0\u001b[0m\u001b[1;33m*\u001b[0m\u001b[0mx\u001b[0m\u001b[1;33m)\u001b[0m \u001b[1;32mfor\u001b[0m \u001b[0mx\u001b[0m \u001b[1;32min\u001b[0m \u001b[1;33m(\u001b[0m\u001b[0mr\u001b[0m\u001b[1;33m,\u001b[0m \u001b[0mg\u001b[0m\u001b[1;33m,\u001b[0m \u001b[0mb\u001b[0m\u001b[1;33m)\u001b[0m\u001b[1;33m]\u001b[0m\u001b[1;33m\u001b[0m\u001b[1;33m\u001b[0m\u001b[0m\n\u001b[0;32m   1165\u001b[0m         \u001b[1;32mif\u001b[0m \u001b[1;32mnot\u001b[0m \u001b[1;33m(\u001b[0m\u001b[1;33m(\u001b[0m\u001b[1;36m0\u001b[0m \u001b[1;33m<=\u001b[0m \u001b[0mr\u001b[0m \u001b[1;33m<=\u001b[0m \u001b[1;36m255\u001b[0m\u001b[1;33m)\u001b[0m \u001b[1;32mand\u001b[0m \u001b[1;33m(\u001b[0m\u001b[1;36m0\u001b[0m \u001b[1;33m<=\u001b[0m \u001b[0mg\u001b[0m \u001b[1;33m<=\u001b[0m \u001b[1;36m255\u001b[0m\u001b[1;33m)\u001b[0m \u001b[1;32mand\u001b[0m \u001b[1;33m(\u001b[0m\u001b[1;36m0\u001b[0m \u001b[1;33m<=\u001b[0m \u001b[0mb\u001b[0m \u001b[1;33m<=\u001b[0m \u001b[1;36m255\u001b[0m\u001b[1;33m)\u001b[0m\u001b[1;33m)\u001b[0m\u001b[1;33m:\u001b[0m\u001b[1;33m\u001b[0m\u001b[1;33m\u001b[0m\u001b[0m\n\u001b[1;32m-> 1166\u001b[1;33m             \u001b[1;32mraise\u001b[0m \u001b[0mTurtleGraphicsError\u001b[0m\u001b[1;33m(\u001b[0m\u001b[1;34m\"bad color sequence: %s\"\u001b[0m \u001b[1;33m%\u001b[0m \u001b[0mstr\u001b[0m\u001b[1;33m(\u001b[0m\u001b[0mcolor\u001b[0m\u001b[1;33m)\u001b[0m\u001b[1;33m)\u001b[0m\u001b[1;33m\u001b[0m\u001b[1;33m\u001b[0m\u001b[0m\n\u001b[0m\u001b[0;32m   1167\u001b[0m         \u001b[1;32mreturn\u001b[0m \u001b[1;34m\"#%02x%02x%02x\"\u001b[0m \u001b[1;33m%\u001b[0m \u001b[1;33m(\u001b[0m\u001b[0mr\u001b[0m\u001b[1;33m,\u001b[0m \u001b[0mg\u001b[0m\u001b[1;33m,\u001b[0m \u001b[0mb\u001b[0m\u001b[1;33m)\u001b[0m\u001b[1;33m\u001b[0m\u001b[1;33m\u001b[0m\u001b[0m\n\u001b[0;32m   1168\u001b[0m \u001b[1;33m\u001b[0m\u001b[0m\n",
      "\u001b[1;31mTurtleGraphicsError\u001b[0m: bad color sequence: (255, 255, 255)"
     ]
    }
   ],
   "source": [
    "import turtle\n",
    "\n",
    "t = turtle.Turtle()\n",
    "t.speed(5)\n",
    "\n",
    "level = 3\n",
    "points =[[-100,-50], [0,100], [100,-50]]\n",
    "step_size = 255 // level\n",
    "\n",
    "gen_sierpinski(points, level, step_size, t)"
   ]
  },
  {
   "cell_type": "code",
   "execution_count": null,
   "metadata": {},
   "outputs": [],
   "source": []
  }
 ],
 "metadata": {
  "kernelspec": {
   "display_name": "Python 3",
   "language": "python",
   "name": "python3"
  },
  "language_info": {
   "codemirror_mode": {
    "name": "ipython",
    "version": 3
   },
   "file_extension": ".py",
   "mimetype": "text/x-python",
   "name": "python",
   "nbconvert_exporter": "python",
   "pygments_lexer": "ipython3",
   "version": "3.7.6"
  }
 },
 "nbformat": 4,
 "nbformat_minor": 4
}
