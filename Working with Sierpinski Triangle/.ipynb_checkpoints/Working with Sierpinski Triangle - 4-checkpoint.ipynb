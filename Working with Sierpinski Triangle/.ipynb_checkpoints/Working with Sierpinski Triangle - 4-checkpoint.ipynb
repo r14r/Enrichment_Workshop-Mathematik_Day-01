{
 "cells": [
  {
   "cell_type": "markdown",
   "metadata": {},
   "source": [
    "# Introduction"
   ]
  },
  {
   "cell_type": "code",
   "execution_count": 1,
   "metadata": {},
   "outputs": [],
   "source": [
    "def get_midpoints(point1, point2):\n",
    "    return (0.5 *(point1[0]+point2[0]), 0.5 *(point1[1]+point2[1])  )"
   ]
  },
  {
   "cell_type": "code",
   "execution_count": 5,
   "metadata": {},
   "outputs": [],
   "source": [
    "def gen_sierpinski(points, level, step_size, t):\n",
    "    if  level > 0:\n",
    "        p0, p1, p2 = points[0], points[1], points[2]\n",
    "\n",
    "        #turtl fill color\n",
    "        color_val = level * step_size\n",
    "        \n",
    "        print(f\"level = {level} color_val={color_val} ({p0}/{p1}/{p2})\")\n",
    "        \n",
    "        try:\n",
    "            t.fillcolor(color_val,color_val,color_val)\n",
    "        except Exception as ex:\n",
    "            print(ex, \"color=\" , color_val)\n",
    "        \n",
    "        #go to 1st corner\n",
    "        t.up()\n",
    "        t.goto(p0[0],p0[1])\n",
    "        t.down()\n",
    "\n",
    "        t.begin_fill()\n",
    "        \n",
    "        t.goto(p1[0],p1[1])\n",
    "        t.goto(p2[0],p2[1])\n",
    "        t.goto(p0[0],p0[1])\n",
    "\n",
    "        t.end_fill()\n",
    "\n",
    "        #generate mid points for each sides\n",
    "        gen_sierpinski([p0, get_midpoints(p0,p1), get_midpoints(p0,p2)], level -1 , step_size, t)\n",
    "        gen_sierpinski([p1, get_midpoints(p0,p1), get_midpoints(p1,p2)], level -1 , step_size, t)\n",
    "        gen_sierpinski([p2, get_midpoints(p2,p1), get_midpoints(p0,p2)], level -1 , step_size, t)"
   ]
  },
  {
   "cell_type": "code",
   "execution_count": 6,
   "metadata": {},
   "outputs": [],
   "source": [
    "import turtle\n",
    "\n",
    "t = turtle.Turtle()\n",
    "s = t.screen\n",
    "\n",
    "t.speed(5)"
   ]
  },
  {
   "cell_type": "code",
   "execution_count": 7,
   "metadata": {},
   "outputs": [
    {
     "name": "stdout",
     "output_type": "stream",
     "text": [
      "level = 3 color_val=252 ([-100, -50]/[0, 100]/[100, -50])\n",
      "bad color sequence: (252, 252, 252) color= 252\n",
      "level = 2 color_val=168 ([-100, -50]/(-50.0, 25.0)/(0.0, -50.0))\n",
      "bad color sequence: (168, 168, 168) color= 168\n",
      "level = 1 color_val=84 ([-100, -50]/(-75.0, -12.5)/(-50.0, -50.0))\n",
      "bad color sequence: (84, 84, 84) color= 84\n",
      "level = 1 color_val=84 ((-50.0, 25.0)/(-75.0, -12.5)/(-25.0, -12.5))\n",
      "bad color sequence: (84, 84, 84) color= 84\n",
      "level = 1 color_val=84 ((0.0, -50.0)/(-25.0, -12.5)/(-50.0, -50.0))\n",
      "bad color sequence: (84, 84, 84) color= 84\n",
      "level = 2 color_val=168 ([0, 100]/(-50.0, 25.0)/(50.0, 25.0))\n",
      "bad color sequence: (168, 168, 168) color= 168\n",
      "level = 1 color_val=84 ([0, 100]/(-25.0, 62.5)/(25.0, 62.5))\n",
      "bad color sequence: (84, 84, 84) color= 84\n",
      "level = 1 color_val=84 ((-50.0, 25.0)/(-25.0, 62.5)/(0.0, 25.0))\n",
      "bad color sequence: (84, 84, 84) color= 84\n",
      "level = 1 color_val=84 ((50.0, 25.0)/(0.0, 25.0)/(25.0, 62.5))\n",
      "bad color sequence: (84, 84, 84) color= 84\n",
      "level = 2 color_val=168 ([100, -50]/(50.0, 25.0)/(0.0, -50.0))\n",
      "bad color sequence: (168, 168, 168) color= 168\n",
      "level = 1 color_val=84 ([100, -50]/(75.0, -12.5)/(50.0, -50.0))\n",
      "bad color sequence: (84, 84, 84) color= 84\n",
      "level = 1 color_val=84 ((50.0, 25.0)/(75.0, -12.5)/(25.0, -12.5))\n",
      "bad color sequence: (84, 84, 84) color= 84\n",
      "level = 1 color_val=84 ((0.0, -50.0)/(25.0, -12.5)/(50.0, -50.0))\n",
      "bad color sequence: (84, 84, 84) color= 84\n"
     ]
    }
   ],
   "source": [
    "level = 3\n",
    "points =[[-100,-50], [0,100], [100,-50]]\n",
    "step_size = 254 // level\n",
    "\n",
    "gen_sierpinski(points, level, step_size, t)\n",
    "\n",
    "s.mainloop()"
   ]
  },
  {
   "cell_type": "code",
   "execution_count": null,
   "metadata": {},
   "outputs": [],
   "source": []
  }
 ],
 "metadata": {
  "kernelspec": {
   "display_name": "Python 3",
   "language": "python",
   "name": "python3"
  },
  "language_info": {
   "codemirror_mode": {
    "name": "ipython",
    "version": 3
   },
   "file_extension": ".py",
   "mimetype": "text/x-python",
   "name": "python",
   "nbconvert_exporter": "python",
   "pygments_lexer": "ipython3",
   "version": "3.7.6"
  }
 },
 "nbformat": 4,
 "nbformat_minor": 4
}
