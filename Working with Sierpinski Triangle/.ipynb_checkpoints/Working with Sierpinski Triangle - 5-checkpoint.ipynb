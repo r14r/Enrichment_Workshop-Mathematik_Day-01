{
 "cells": [
  {
   "cell_type": "markdown",
   "metadata": {},
   "source": [
    "# Introduction"
   ]
  },
  {
   "cell_type": "code",
   "execution_count": null,
   "metadata": {},
   "outputs": [],
   "source": [
    "import turtle\n",
    "import sys"
   ]
  },
  {
   "cell_type": "code",
   "execution_count": null,
   "metadata": {},
   "outputs": [],
   "source": [
    "VERTICES_FILE = \".vertices.txt\"\n",
    "POINTS_FILE = \".points.txt\"\n",
    "WIDTH = 200\n",
    "HEIGHT = 200\n",
    "NUM_VERTICES = 10\n",
    "NUM_POINTS = 10\n",
    "\n",
    "# change these colors if you want\n",
    "COLOR_WINDOW = \"black\"\n",
    "COLOR_TEXT = \"white\"\n",
    "COLOR_DOTS = \"white\"\n",
    "COLOR_VERTICES = \"green\"\n",
    "# change these parameters if you want, its just aesthetic\n",
    "SHAPE = \"circle\"\n",
    "SHAPESIZE = 0.15\n",
    "VERTIX_SIZE = 0.5\n",
    "\n",
    "X = []\n",
    "Y = []"
   ]
  },
  {
   "cell_type": "code",
   "execution_count": null,
   "metadata": {},
   "outputs": [],
   "source": [
    "# WINDOW\n",
    "window = turtle.Screen()\n",
    "window.bgcolor(\"black\")\n",
    "window.setup(WIDTH, HEIGHT)\n",
    "\n",
    "# POINTS COUNTER\n",
    "point_tx = turtle.Turtle()\n",
    "point_tx.penup()\n",
    "point_tx.speed(0)\n",
    "point_tx.hideturtle()\n",
    "point_tx.color(COLOR_TEXT)\n",
    "point_tx.setposition(-WIDTH/2 + 16, HEIGHT/2 - 58)\n",
    "point_tx.write(\"points 0\", align='left', font=('Arial', 12, 'italic'))\n",
    "\n",
    "# DOT\n",
    "d = turtle.Turtle()\n",
    "d.penup()\n",
    "d.shape(SHAPE)\n",
    "d.hideturtle()\n",
    "d.speed(0)"
   ]
  },
  {
   "cell_type": "code",
   "execution_count": null,
   "metadata": {},
   "outputs": [],
   "source": [
    "def read_coordinates_from_file(filename, num, xlist, ylist):\n",
    "    file = open(filename, \"r\")\n",
    "    lines_in_file = file.readlines()\n",
    "    for i in range(0, num*2):\n",
    "        if (i % 2 == 0):\n",
    "            xlist.append(lines_in_file[i])\n",
    "        else:\n",
    "            ylist.append(lines_in_file[i])\n",
    "    file.close()\n",
    "\n",
    "\n",
    "def draw_points():\n",
    "    d.color(COLOR_DOTS)\n",
    "    d.shapesize(SHAPESIZE)\n",
    "    read_coordinates_from_file(POINTS_FILE, NUM_POINTS, X, Y)\n",
    "    for i in range(NUM_POINTS):\n",
    "        d.goto(int(X[i]), int(Y[i]))\n",
    "        d.stamp()\n",
    "        point_txt = \"iterations {}\".format(i+1)\n",
    "        point_tx.undo()\n",
    "        point_tx.write(point_txt, align='left', font=('Arial', 12, 'italic'))\n",
    "\n",
    "\n",
    "def draw_vertices():\n",
    "    d.color(COLOR_VERTICES)\n",
    "    d.shapesize(VERTIX_SIZE)\n",
    "    read_coordinates_from_file(VERTICES_FILE, NUM_VERTICES, X, Y)\n",
    "    \n",
    "    for i in range(NUM_VERTICES):\n",
    "        print(\"printing vertix\")\n",
    "        d.goto(int(X[i]), int(Y[i]))\n",
    "        d.stamp()"
   ]
  },
  {
   "cell_type": "code",
   "execution_count": null,
   "metadata": {},
   "outputs": [],
   "source": [
    "draw_vertices()"
   ]
  },
  {
   "cell_type": "code",
   "execution_count": null,
   "metadata": {},
   "outputs": [],
   "source": [
    "draw_points()\n",
    "window.mainloop()"
   ]
  }
 ],
 "metadata": {
  "kernelspec": {
   "display_name": "Python 3",
   "language": "python",
   "name": "python3"
  },
  "language_info": {
   "codemirror_mode": {
    "name": "ipython",
    "version": 3
   },
   "file_extension": ".py",
   "mimetype": "text/x-python",
   "name": "python",
   "nbconvert_exporter": "python",
   "pygments_lexer": "ipython3",
   "version": "3.7.6"
  }
 },
 "nbformat": 4,
 "nbformat_minor": 4
}
