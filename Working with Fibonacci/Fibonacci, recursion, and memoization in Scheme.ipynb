{
 "cells": [
  {
   "cell_type": "markdown",
   "metadata": {},
   "source": [
    "# Fibonacci, recursion, and memoization in Scheme"
   ]
  },
  {
   "cell_type": "markdown",
   "metadata": {},
   "source": [
    "We examined the running speed of computing the $n^{th}$ Fibonacci number in Scheme. "
   ]
  },
  {
   "cell_type": "code",
   "execution_count": 1,
   "metadata": {},
   "outputs": [
    {
     "ename": "SyntaxError",
     "evalue": "invalid syntax (<ipython-input-1-d5430fed2e42>, line 1)",
     "output_type": "error",
     "traceback": [
      "\u001b[1;36m  File \u001b[1;32m\"<ipython-input-1-d5430fed2e42>\"\u001b[1;36m, line \u001b[1;32m1\u001b[0m\n\u001b[1;33m    (define fib\u001b[0m\n\u001b[1;37m              ^\u001b[0m\n\u001b[1;31mSyntaxError\u001b[0m\u001b[1;31m:\u001b[0m invalid syntax\n"
     ]
    }
   ],
   "source": [
    "(define fib\n",
    "  (lambda (n)\n",
    "    (if (or (= n 1)\n",
    "            (= n 2))\n",
    "        1\n",
    "        (+ (fib (- n 1))\n",
    "           (fib (- n 2))))))"
   ]
  },
  {
   "cell_type": "code",
   "execution_count": null,
   "metadata": {},
   "outputs": [],
   "source": [
    "(map fib (range 1 11))"
   ]
  },
  {
   "cell_type": "markdown",
   "metadata": {},
   "source": [
    "How much time does it take to compute?"
   ]
  },
  {
   "cell_type": "code",
   "execution_count": null,
   "metadata": {},
   "outputs": [],
   "source": [
    "%%time\n",
    "(fib 10)"
   ]
  },
  {
   "cell_type": "code",
   "execution_count": null,
   "metadata": {},
   "outputs": [],
   "source": [
    "%%time\n",
    "(fib 20)"
   ]
  },
  {
   "cell_type": "code",
   "execution_count": null,
   "metadata": {},
   "outputs": [],
   "source": [
    "(import-as \"calico.widgets\" '*)\n",
    "(import-as \"calico.display\" 'display)\n",
    "\n",
    "(GoogleChart \"LineChart\" '(\"n\" \"Time\")\n",
    "    (map (lambda (n)\n",
    "           (let ((start (current-time)))\n",
    "             (fib n)\n",
    "             (- (current-time) start)))\n",
    "         (range 1 20)))"
   ]
  },
  {
   "cell_type": "code",
   "execution_count": 2,
   "metadata": {},
   "outputs": [
    {
     "ename": "SyntaxError",
     "evalue": "invalid syntax (<ipython-input-2-2fa1cf8c6471>, line 1)",
     "output_type": "error",
     "traceback": [
      "\u001b[1;36m  File \u001b[1;32m\"<ipython-input-2-2fa1cf8c6471>\"\u001b[1;36m, line \u001b[1;32m1\u001b[0m\n\u001b[1;33m    (define count 0)\u001b[0m\n\u001b[1;37m                ^\u001b[0m\n\u001b[1;31mSyntaxError\u001b[0m\u001b[1;31m:\u001b[0m invalid syntax\n"
     ]
    }
   ],
   "source": [
    "(define count 0)\n",
    "(define counter\n",
    "   (lambda (f)\n",
    "     (lambda (n)\n",
    "       (set! count (+ count 1))\n",
    "       (f n))))"
   ]
  },
  {
   "cell_type": "code",
   "execution_count": null,
   "metadata": {},
   "outputs": [],
   "source": [
    "(define fib (counter fib))"
   ]
  },
  {
   "cell_type": "code",
   "execution_count": null,
   "metadata": {},
   "outputs": [],
   "source": [
    "(define test-fib\n",
    "  (lambda (n)\n",
    "    (set! count 0)\n",
    "    (fib n)\n",
    "    count))"
   ]
  },
  {
   "cell_type": "code",
   "execution_count": null,
   "metadata": {},
   "outputs": [],
   "source": [
    "(GoogleChart \"LineChart\" '(\"n\" \"Count\")\n",
    "    (map (lambda (n)\n",
    "           (test-fib n))\n",
    "         (range 1 20)))"
   ]
  },
  {
   "cell_type": "markdown",
   "metadata": {},
   "source": [
    "Wow... that does take some time to compute as n get just slightly larger!\n",
    "\n",
    "Is it because recursion is bad? No, not at all. \n",
    "\n",
    "Instead of recomputing the same values over and over, perhaps we should save them?\n",
    "\n",
    "Here is a technique called _memoization_ (related to Dynamic Programming). We can take any function and wrap this around it. It then acts as an intermediary... if the value is in its cache, then we retrieve it from there. Otherwise we compute it and save it."
   ]
  },
  {
   "cell_type": "code",
   "execution_count": null,
   "metadata": {},
   "outputs": [],
   "source": [
    "(define memoize\n",
    "  (lambda (f)\n",
    "    (let ((cache (dict)))\n",
    "        (lambda (n)\n",
    "          (if (contains cache n)\n",
    "              (getitem cache n)\n",
    "              (setitem cache n (f n)))))))"
   ]
  },
  {
   "cell_type": "markdown",
   "metadata": {},
   "source": [
    "Now, we wrap fib:"
   ]
  },
  {
   "cell_type": "code",
   "execution_count": null,
   "metadata": {},
   "outputs": [],
   "source": [
    "(define fib\n",
    "  (lambda (n)\n",
    "    (if (or (= n 1)\n",
    "            (= n 2))\n",
    "        1\n",
    "        (+ (fib (- n 1))\n",
    "           (fib (- n 2))))))"
   ]
  },
  {
   "cell_type": "markdown",
   "metadata": {},
   "source": [
    "First we apply memoization:"
   ]
  },
  {
   "cell_type": "code",
   "execution_count": null,
   "metadata": {},
   "outputs": [],
   "source": [
    "(define fib (memoize fib))"
   ]
  },
  {
   "cell_type": "markdown",
   "metadata": {},
   "source": [
    "Then we apply the counter on top:"
   ]
  },
  {
   "cell_type": "code",
   "execution_count": null,
   "metadata": {},
   "outputs": [],
   "source": [
    "(define fib (counter fib))"
   ]
  },
  {
   "cell_type": "code",
   "execution_count": null,
   "metadata": {},
   "outputs": [],
   "source": [
    "(GoogleChart \"LineChart\" '(\"n\" \"Count\")\n",
    "    (map (lambda (n)\n",
    "           (test-fib n))\n",
    "         (range 1 20)))"
   ]
  },
  {
   "cell_type": "code",
   "execution_count": null,
   "metadata": {},
   "outputs": [],
   "source": [
    "%%time\n",
    "(fib 10)"
   ]
  },
  {
   "cell_type": "code",
   "execution_count": null,
   "metadata": {},
   "outputs": [],
   "source": [
    "%%time\n",
    "(fib 20)"
   ]
  },
  {
   "cell_type": "markdown",
   "metadata": {},
   "source": [
    "Wow... that is some speed up! Why does it appear to be constant of 3 calls for each fib we compute? Let's do it again."
   ]
  },
  {
   "cell_type": "code",
   "execution_count": null,
   "metadata": {},
   "outputs": [],
   "source": [
    "(GoogleChart \"LineChart\" '(\"n\" \"Count\")\n",
    "    (map (lambda (n)\n",
    "           (test-fib n))\n",
    "         (range 1 20)))"
   ]
  },
  {
   "cell_type": "markdown",
   "metadata": {},
   "source": [
    "Now it is a contant of 1 call for each we fib compute."
   ]
  },
  {
   "cell_type": "markdown",
   "metadata": {},
   "source": [
    "What is the Big O of Fib without memoization? It is bounded by:\n",
    "\n",
    "$\\dfrac{1}{\\sqrt{5}} 1.618^{n+1}$\n",
    "\n",
    "which is $O(2^n)$.\n",
    "\n",
    "http://courses.csail.mit.edu/6.01/spring07/lectures/lecture4.pdf"
   ]
  },
  {
   "cell_type": "code",
   "execution_count": null,
   "metadata": {},
   "outputs": [],
   "source": [
    "(import \"math\")\n",
    "\n",
    "(define f_hat\n",
    "  (lambda (n)\n",
    "    (* (/ 1 (math.sqrt 5)) (math.pow 1.618 (+ n 1)))))"
   ]
  },
  {
   "cell_type": "markdown",
   "metadata": {},
   "source": [
    "How many times is `fib` called in `(fib 20)`."
   ]
  },
  {
   "cell_type": "code",
   "execution_count": null,
   "metadata": {},
   "outputs": [],
   "source": [
    "(f_hat 20)"
   ]
  }
 ],
 "metadata": {
  "kernelspec": {
   "display_name": "Python 3",
   "language": "python",
   "name": "python3"
  },
  "language_info": {
   "codemirror_mode": {
    "name": "ipython",
    "version": 3
   },
   "file_extension": ".py",
   "mimetype": "text/x-python",
   "name": "python",
   "nbconvert_exporter": "python",
   "pygments_lexer": "ipython3",
   "version": "3.7.6"
  }
 },
 "nbformat": 4,
 "nbformat_minor": 1
}
