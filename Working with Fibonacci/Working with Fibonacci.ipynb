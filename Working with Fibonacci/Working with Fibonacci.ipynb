{
 "cells": [
  {
   "cell_type": "markdown",
   "metadata": {},
   "source": [
    "## Fibonacci Numbers"
   ]
  },
  {
   "cell_type": "code",
   "execution_count": 1,
   "metadata": {},
   "outputs": [],
   "source": [
    "from ipyturtle import Turtle"
   ]
  },
  {
   "cell_type": "markdown",
   "metadata": {},
   "source": [
    "## First Steps"
   ]
  },
  {
   "cell_type": "code",
   "execution_count": 2,
   "metadata": {},
   "outputs": [],
   "source": [
    "def fib(n, display = False):\n",
    "    a, b = 0, 1\n",
    "\n",
    "    if display:\n",
    "        print(\"%4d \" % n, end=\": \")\n",
    "    \n",
    "    for _ in range(n):\n",
    "        a, b = b, a + b\n",
    "\n",
    "        if display:\n",
    "            print(\"%4d \" % a, end=\" \")\n",
    "        \n",
    "    if display:\n",
    "        print(\"\")\n",
    "        \n",
    "    return a"
   ]
  },
  {
   "cell_type": "code",
   "execution_count": 3,
   "metadata": {},
   "outputs": [
    {
     "name": "stdout",
     "output_type": "stream",
     "text": [
      "   1:            1            1            1 1.0000000000\n",
      "   2:            1            2            2 0.5000000000\n",
      "   3:            2            6            6 0.6666666667\n",
      "   4:            3           15           15 0.6000000000\n",
      "   5:            5           40           40 0.6250000000\n",
      "   6:            8          104          104 0.6153846154\n",
      "   7:           13          273          273 0.6190476190\n",
      "   8:           21          714          714 0.6176470588\n",
      "   9:           34         1870         1870 0.6181818182\n",
      "  10:           55         4895         4895 0.6179775281\n",
      "  11:           89        12816        12816 0.6180555556\n",
      "  12:          144        33552        33552 0.6180257511\n",
      "  13:          233        87841        87841 0.6180371353\n",
      "  14:          377       229970       229970 0.6180327869\n",
      "  15:          610       602070       602070 0.6180344478\n",
      "  16:          987      1576239      1576239 0.6180338134\n",
      "  17:         1597      4126648      4126648 0.6180340557\n",
      "  18:         2584     10803704     10803704 0.6180339632\n",
      "  19:         4181     28284465     28284465 0.6180339985\n",
      "  20:         6765     74049690     74049690 0.6180339850\n",
      "  21:        10946    193864606    193864606 0.6180339902\n",
      "  22:        17711    507544127    507544127 0.6180339882\n",
      "  23:        28657   1328767776   1328767776 0.6180339890\n",
      "  24:        46368   3478759200   3478759200 0.6180339887\n"
     ]
    }
   ],
   "source": [
    "sum_f_square = 0\n",
    "\n",
    "for n in range(1,25):\n",
    "    f = fib(n)\n",
    "    f_next = fib(n+1)\n",
    "    \n",
    "    f_square = f * f\n",
    "    \n",
    "    sum_f_square += f_square\n",
    "    \n",
    "    \n",
    "    print(\"%4d: %12d %12d %12d %12.10f\" % (n, f, sum_f_square, f * f_next, f / f_next))"
   ]
  },
  {
   "cell_type": "code",
   "execution_count": 4,
   "metadata": {},
   "outputs": [],
   "source": [
    "def drawBox(t, n):\n",
    "    d = n * 2\n",
    "    t.forward(d)\n",
    "    t.left(90)\n",
    "    t.forward(d)\n",
    "    t.left(90)\n",
    "    t.forward(d)\n",
    "    t.left(90)\n",
    "    t.forward(d)\n",
    "    t.left(90)\n",
    "    t.penup()\n",
    "    t.forward(d)\n",
    "    t.left(90)\n",
    "    t.forward(d)\n",
    "    t.pendown()"
   ]
  },
  {
   "cell_type": "code",
   "execution_count": 5,
   "metadata": {},
   "outputs": [
    {
     "data": {
      "application/vnd.jupyter.widget-view+json": {
       "model_id": "f401bfdb30c94d59bbd44947ff556baa",
       "version_major": 2,
       "version_minor": 0
      },
      "text/plain": [
       "Turtle()"
      ]
     },
     "metadata": {},
     "output_type": "display_data"
    }
   ],
   "source": [
    "f = Turtle(width=600, height=600, fixed = False)\n",
    "f"
   ]
  },
  {
   "cell_type": "code",
   "execution_count": 6,
   "metadata": {},
   "outputs": [],
   "source": [
    "for n in range(1,15):\n",
    "    drawBox(f, fib(n))"
   ]
  },
  {
   "cell_type": "code",
   "execution_count": null,
   "metadata": {},
   "outputs": [],
   "source": []
  }
 ],
 "metadata": {
  "kernelspec": {
   "display_name": "Python 3",
   "language": "python",
   "name": "python3"
  },
  "language_info": {
   "codemirror_mode": {
    "name": "ipython",
    "version": 3
   },
   "file_extension": ".py",
   "mimetype": "text/x-python",
   "name": "python",
   "nbconvert_exporter": "python",
   "pygments_lexer": "ipython3",
   "version": "3.7.6"
  }
 },
 "nbformat": 4,
 "nbformat_minor": 4
}
