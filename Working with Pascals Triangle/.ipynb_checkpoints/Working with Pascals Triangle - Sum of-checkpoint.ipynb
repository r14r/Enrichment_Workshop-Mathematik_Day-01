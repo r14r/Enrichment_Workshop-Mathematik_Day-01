{
 "cells": [
  {
   "cell_type": "markdown",
   "metadata": {},
   "source": [
    "# Introduction"
   ]
  },
  {
   "cell_type": "markdown",
   "metadata": {},
   "source": [
    "https://www.geeksforgeeks.org/sum-triangle-from-array/?ref=rp"
   ]
  },
  {
   "cell_type": "markdown",
   "metadata": {},
   "source": [
    "## Triangle"
   ]
  },
  {
   "cell_type": "code",
   "execution_count": 2,
   "metadata": {},
   "outputs": [],
   "source": [
    "def triangle(A, max, l = None):\n",
    "    if l == None:\n",
    "        l = max\n",
    "        \n",
    "    if (len(A) < 1): \n",
    "        return\n",
    "\n",
    "    # Creating new array which contains the sum of consecutive elements in the array passes as parameter. \n",
    "    temp = [0] * (len(A) - 1) \n",
    "    for i in range( 0, len(A) - 1): \n",
    "        x = A[i] + A[i + 1] \n",
    "        temp[i] = x \n",
    "\n",
    "    # Make a recursive call and pass the newly created array \n",
    "    triangle(temp, max, l-1) \n",
    "\n",
    "    # Print current array in the end so that smaller arrays are printed first \n",
    "    print(f\"{max:4} {l:4}: \", end=\"\")\n",
    "    print(\"  \" * (max - l), end=\" \")\n",
    "    \n",
    "    for a in A:\n",
    "        print(f\"{a:4}\", end=\"\") \n",
    "    print()\n",
    "    "
   ]
  },
  {
   "cell_type": "code",
   "execution_count": 3,
   "metadata": {},
   "outputs": [
    {
     "name": "stdout",
     "output_type": "stream",
     "text": [
      "   8    1:                 576\n",
      "   8    2:               256 320\n",
      "   8    3:             112 144 176\n",
      "   8    4:            48  64  80  96\n",
      "   8    5:          20  28  36  44  52\n",
      "   8    6:         8  12  16  20  24  28\n",
      "   8    7:       3   5   7   9  11  13  15\n",
      "   8    8:     1   2   3   4   5   6   7   8\n"
     ]
    }
   ],
   "source": [
    "# Driver function \n",
    "A = [ 1, 2, 3, 4, 5 , 6, 7, 8 ] \n",
    "triangle(A, len(A)) "
   ]
  },
  {
   "cell_type": "code",
   "execution_count": null,
   "metadata": {},
   "outputs": [],
   "source": []
  }
 ],
 "metadata": {
  "kernelspec": {
   "display_name": "Python 3",
   "language": "python",
   "name": "python3"
  },
  "language_info": {
   "codemirror_mode": {
    "name": "ipython",
    "version": 3
   },
   "file_extension": ".py",
   "mimetype": "text/x-python",
   "name": "python",
   "nbconvert_exporter": "python",
   "pygments_lexer": "ipython3",
   "version": "3.7.6"
  }
 },
 "nbformat": 4,
 "nbformat_minor": 4
}
