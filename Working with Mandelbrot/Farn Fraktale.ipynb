{
 "cells": [
  {
   "cell_type": "code",
   "execution_count": 1,
   "metadata": {},
   "outputs": [
    {
     "ename": "ModuleNotFoundError",
     "evalue": "No module named 'gpanel'",
     "output_type": "error",
     "traceback": [
      "\u001b[1;31m---------------------------------------------------------------------------\u001b[0m",
      "\u001b[1;31mModuleNotFoundError\u001b[0m                       Traceback (most recent call last)",
      "\u001b[1;32m<ipython-input-1-21dcf06afd7a>\u001b[0m in \u001b[0;36m<module>\u001b[1;34m\u001b[0m\n\u001b[1;32m----> 1\u001b[1;33m \u001b[1;32mfrom\u001b[0m \u001b[0mgpanel\u001b[0m \u001b[1;32mimport\u001b[0m \u001b[1;33m*\u001b[0m\u001b[1;33m\u001b[0m\u001b[1;33m\u001b[0m\u001b[0m\n\u001b[0m\u001b[0;32m      2\u001b[0m \u001b[1;32mimport\u001b[0m \u001b[0mrandom\u001b[0m\u001b[1;33m\u001b[0m\u001b[1;33m\u001b[0m\u001b[0m\n",
      "\u001b[1;31mModuleNotFoundError\u001b[0m: No module named 'gpanel'"
     ]
    }
   ],
   "source": [
    "from gpanel import *\n",
    "import random"
   ]
  },
  {
   "cell_type": "code",
   "execution_count": null,
   "metadata": {},
   "outputs": [],
   "source": [
    "def fern():\n",
    "    z = 0\n",
    "    n = 0\n",
    "    \n",
    "    while n < nbPoints:\n",
    "        r = random.random()\n",
    "        c = \"black\"\n",
    "        if r < 0.01:\n",
    "            c = \"yellow\"\n",
    "            z = f(z, 0, 0, 0, 0.16, 0, 0) # Stem\n",
    "        elif r < 0.86:\n",
    "            c = \"green\"\n",
    "            z = f(z, 0.85, 0.04, -0.04, 0.85, 0, 1.60) # symmetry\n",
    "        elif r > 0.86 and r < 0.93:\n",
    "            c = \"red\"\n",
    "            z = f(z, 0.20, -0.26, 0.23, 0.22, 0, 1.60)  # left leaves\n",
    "        elif r > 0.93:\n",
    "            c = \"blue\"\n",
    "            z = f(z, -0.15, 0.28, 0.26, 0.24, 0, 1.44) # right leaves\n",
    "            \n",
    "        setColor(c)\n",
    "        point(z)\n",
    "        n += 1\n",
    "        \n",
    "        if n % 100 == 0:\n",
    "            repaint()"
   ]
  },
  {
   "cell_type": "code",
   "execution_count": null,
   "metadata": {},
   "outputs": [],
   "source": [
    "def f(z, a, b, c, d, e, f):\n",
    "    re = a * z.real + b * z.imag + e\n",
    "    im = c * z.real + d * z.imag + f\n",
    "    \n",
    "    return complex(re, im)"
   ]
  },
  {
   "cell_type": "code",
   "execution_count": null,
   "metadata": {},
   "outputs": [],
   "source": [
    "makeGPanel(-3.5, 3.5, 0, 10)\n",
    "enableRepaint(False)\n",
    "bgColor(\"black\")\n",
    "nbPoints = 40000\n",
    "\n",
    "fern()\n",
    "keep()"
   ]
  }
 ],
 "metadata": {
  "kernelspec": {
   "display_name": "Python 3",
   "language": "python",
   "name": "python3"
  },
  "language_info": {
   "codemirror_mode": {
    "name": "ipython",
    "version": 3
   },
   "file_extension": ".py",
   "mimetype": "text/x-python",
   "name": "python",
   "nbconvert_exporter": "python",
   "pygments_lexer": "ipython3",
   "version": "3.7.6"
  }
 },
 "nbformat": 4,
 "nbformat_minor": 4
}
